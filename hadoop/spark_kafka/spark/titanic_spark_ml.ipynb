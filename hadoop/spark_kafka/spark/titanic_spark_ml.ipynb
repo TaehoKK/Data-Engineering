{
 "cells": [
  {
   "cell_type": "code",
   "execution_count": 78,
   "id": "e5af76c0-119a-4868-8eb7-82ec52384a9d",
   "metadata": {},
   "outputs": [],
   "source": [
    "from pyspark.ml.feature import OneHotEncoder,StringIndexer,VectorAssembler, StandardScaler\n",
    "from pyspark.ml import Pipeline\n",
    "from pyspark.ml.classification import LogisticRegression \n",
    "from pyspark.sql.functions import col,stddev_samp"
   ]
  },
  {
   "cell_type": "code",
   "execution_count": 79,
   "id": "228b46c1-e107-4f6d-a472-dbcb4c4debbc",
   "metadata": {},
   "outputs": [],
   "source": [
    "# read data  - 수집\n",
    "# data preprocessing  -EDA \n",
    "# model create or choice\n",
    "# training\n",
    "# predict(classification / regression)\n",
    "# score\n",
    "# 배포 - 엔지니어링"
   ]
  },
  {
   "cell_type": "code",
   "execution_count": 80,
   "id": "f5e84828-ffc7-4307-a763-15cfc434df5c",
   "metadata": {},
   "outputs": [],
   "source": [
    "train_path = 'titanic/train.csv'\n",
    "test_path = 'titanic/test.csv'"
   ]
  },
  {
   "cell_type": "code",
   "execution_count": 81,
   "id": "3ff1397d-d9ac-47c2-88c0-4875153a5c01",
   "metadata": {},
   "outputs": [
    {
     "name": "stderr",
     "output_type": "stream",
     "text": [
      "24/03/26 18:25:31 WARN CacheManager: Asked to cache already cached data.\n"
     ]
    }
   ],
   "source": [
    "df = spark.read.format('csv')\\\n",
    "    .options(header = 'true', inferSchema = 'true')\\\n",
    "    .load(train_path).cache()"
   ]
  },
  {
   "cell_type": "code",
   "execution_count": 82,
   "id": "8c1266f2-d4de-4496-be0e-36d6312d00cb",
   "metadata": {},
   "outputs": [
    {
     "name": "stdout",
     "output_type": "stream",
     "text": [
      "+-----------+--------+------+--------------------+------+----+-----+-----+---------+-------+-----+--------+\n",
      "|PassengerId|Survived|Pclass|                Name|   Sex| Age|SibSp|Parch|   Ticket|   Fare|Cabin|Embarked|\n",
      "+-----------+--------+------+--------------------+------+----+-----+-----+---------+-------+-----+--------+\n",
      "|          1|       0|     3|Braund, Mr. Owen ...|  male|22.0|    1|    0|A/5 21171|   7.25| NULL|       S|\n",
      "|          2|       1|     1|Cumings, Mrs. Joh...|female|38.0|    1|    0| PC 17599|71.2833|  C85|       C|\n",
      "+-----------+--------+------+--------------------+------+----+-----+-----+---------+-------+-----+--------+\n",
      "only showing top 2 rows\n",
      "\n"
     ]
    }
   ],
   "source": [
    "df.show(2)"
   ]
  },
  {
   "cell_type": "code",
   "execution_count": 83,
   "id": "76f4f7d7-6934-4ec9-9c6b-fefdc1798668",
   "metadata": {},
   "outputs": [
    {
     "name": "stdout",
     "output_type": "stream",
     "text": [
      "+------+\n",
      "|Pclass|\n",
      "+------+\n",
      "|     1|\n",
      "|     3|\n",
      "|     2|\n",
      "+------+\n",
      "\n"
     ]
    }
   ],
   "source": [
    "df.select(\"Pclass\").distinct().show()"
   ]
  },
  {
   "cell_type": "markdown",
   "id": "e620b506-c392-4ea1-9aed-1713529003fe",
   "metadata": {},
   "source": [
    "DF 재구성 : 학습용컬럼과 정답컬럼만 추출"
   ]
  },
  {
   "cell_type": "code",
   "execution_count": 101,
   "id": "1d2b5ef3-4e35-4353-9002-3ece139f1c89",
   "metadata": {},
   "outputs": [
    {
     "name": "stdout",
     "output_type": "stream",
     "text": [
      "+--------+------+------+----+-------+\n",
      "|Survived|   Sex|Pclass| Age|   Fare|\n",
      "+--------+------+------+----+-------+\n",
      "|       0|  male|     3|22.0|   7.25|\n",
      "|       1|female|     1|38.0|71.2833|\n",
      "+--------+------+------+----+-------+\n",
      "only showing top 2 rows\n",
      "\n"
     ]
    }
   ],
   "source": [
    "train_df = df.select('Survived','Sex','Pclass','Age','Fare')\n",
    "train_df.show(2)"
   ]
  },
  {
   "cell_type": "markdown",
   "id": "9de14019-cf99-4bb4-b142-99d7ad3b29da",
   "metadata": {},
   "source": [
    "결측치 확인하기"
   ]
  },
  {
   "cell_type": "code",
   "execution_count": 102,
   "id": "7019ec2b-03ee-4c7d-ac53-78280a8b15d2",
   "metadata": {},
   "outputs": [
    {
     "name": "stdout",
     "output_type": "stream",
     "text": [
      "+--------+---+------+---+----+\n",
      "|Survived|Sex|Pclass|Age|Fare|\n",
      "+--------+---+------+---+----+\n",
      "|       0|  0|     0|177|   0|\n",
      "+--------+---+------+---+----+\n",
      "\n"
     ]
    }
   ],
   "source": [
    "from pyspark.sql.functions import *\n",
    "train_df.select([count(when(isnull(c), c)).alias(c) for c in train_df.columns]).show()"
   ]
  },
  {
   "cell_type": "markdown",
   "id": "995b0cde-d410-4460-9eb5-de206ceda247",
   "metadata": {},
   "source": [
    "결측치 채우기\n",
    "성별에따른 객실등에대한 Age들의 평균값으로 채운다"
   ]
  },
  {
   "cell_type": "code",
   "execution_count": 103,
   "id": "a6639b45-420b-41e4-ae80-398485c5a7ee",
   "metadata": {},
   "outputs": [
    {
     "name": "stdout",
     "output_type": "stream",
     "text": [
      "+------+------+------------------+\n",
      "|   Sex|Pclass|          avg(Age)|\n",
      "+------+------+------------------+\n",
      "|  male|     3|26.507588932806325|\n",
      "|female|     3|             21.75|\n",
      "|female|     1| 34.61176470588235|\n",
      "|female|     2|28.722972972972972|\n",
      "|  male|     2| 30.74070707070707|\n",
      "|  male|     1| 41.28138613861386|\n",
      "+------+------+------------------+\n",
      "\n"
     ]
    }
   ],
   "source": [
    "avg_mean = train_df.groupBy('Sex','Pclass').agg(avg('Age')).alias(\"avg_mean\")\n",
    "avg_mean.show()"
   ]
  },
  {
   "cell_type": "code",
   "execution_count": 114,
   "id": "8e38ce30-b010-47fc-b2d0-970b607a84d1",
   "metadata": {},
   "outputs": [
    {
     "name": "stdout",
     "output_type": "stream",
     "text": [
      "+------+------+--------+----+-------+------------------+\n",
      "|   Sex|Pclass|Survived| Age|   Fare|         AgeFilled|\n",
      "+------+------+--------+----+-------+------------------+\n",
      "|  male|     3|       0|22.0|   7.25|              22.0|\n",
      "|female|     1|       1|38.0|71.2833|              38.0|\n",
      "|female|     3|       1|26.0|  7.925|              26.0|\n",
      "|female|     1|       1|35.0|   53.1|              35.0|\n",
      "|  male|     3|       0|35.0|   8.05|              35.0|\n",
      "|  male|     3|       0|NULL| 8.4583|26.507588932806325|\n",
      "|  male|     1|       0|54.0|51.8625|              54.0|\n",
      "|  male|     3|       0| 2.0| 21.075|               2.0|\n",
      "|female|     3|       1|27.0|11.1333|              27.0|\n",
      "|female|     2|       1|14.0|30.0708|              14.0|\n",
      "|female|     3|       1| 4.0|   16.7|               4.0|\n",
      "|female|     1|       1|58.0|  26.55|              58.0|\n",
      "|  male|     3|       0|20.0|   8.05|              20.0|\n",
      "|  male|     3|       0|39.0| 31.275|              39.0|\n",
      "|female|     3|       0|14.0| 7.8542|              14.0|\n",
      "|female|     2|       1|55.0|   16.0|              55.0|\n",
      "|  male|     3|       0| 2.0| 29.125|               2.0|\n",
      "|  male|     2|       1|NULL|   13.0| 30.74070707070707|\n",
      "|female|     3|       0|31.0|   18.0|              31.0|\n",
      "|female|     3|       1|NULL|  7.225|             21.75|\n",
      "+------+------+--------+----+-------+------------------+\n",
      "only showing top 20 rows\n",
      "\n"
     ]
    }
   ],
   "source": [
    "# 성별 및 객실별로 그룹화하여 평균 나이 계산\n",
    "mean_age_by_sex_pclass = train_df.groupBy(\"Sex\", \"Pclass\").agg(avg(\"Age\").alias(\"MeanAge\"))\n",
    "\n",
    "# 결측치를 해당 그룹의 평균 나이로 채우기\n",
    "filled_df = train_df.join(mean_age_by_sex_pclass, [\"Sex\", \"Pclass\"], \"left\") \\\n",
    "              .withColumn(\"AgeFilled\", when(col(\"Age\").isNull(), col(\"MeanAge\")).otherwise(col(\"Age\"))) \\\n",
    "              .drop(\"MeanAge\")\n",
    "\n",
    "# 결과 확인\n",
    "filled_df.show()"
   ]
  },
  {
   "cell_type": "code",
   "execution_count": 115,
   "id": "c2eb4dc3-64b2-4a6f-8948-d72864e535ba",
   "metadata": {},
   "outputs": [
    {
     "data": {
      "text/plain": [
       "(891, 891)"
      ]
     },
     "execution_count": 115,
     "metadata": {},
     "output_type": "execute_result"
    }
   ],
   "source": [
    "filled_df.count(), df.count()"
   ]
  },
  {
   "cell_type": "code",
   "execution_count": 106,
   "id": "13037ae2-a0db-4b4a-8525-b5e70493d9ab",
   "metadata": {},
   "outputs": [],
   "source": [
    "# Sex,Pclass # 범주형  StringIndex\n",
    "# Age        # 연속형  scaling\n"
   ]
  },
  {
   "cell_type": "code",
   "execution_count": 116,
   "id": "e352ba46-376d-43f1-9270-f1a63d58b290",
   "metadata": {},
   "outputs": [],
   "source": [
    "#  **params  # unpacking\n",
    "#  strIdx = StringIndexer(inputCol = 'student', outputCol='studentIdx')\n",
    "###########################################################################\n",
    "\n",
    "params = {\n",
    "    'inputCol':'Sex',\n",
    "    'outputCol':'SexIdx'\n",
    "}\n",
    "strIdx = StringIndexer(**params)"
   ]
  },
  {
   "cell_type": "code",
   "execution_count": 117,
   "id": "fd109ba3-3a68-47ef-9861-3932d356dee8",
   "metadata": {},
   "outputs": [],
   "source": [
    "# 수치형 데이터에 대해서 \n",
    "# 의류사이크 2XL XL L M S --> labeling(4,3,2,1,0) ->onehot(10000,01000,00100,00010,00001)  : 이 경우 onehot으로 하면 안됨\n",
    "params = {\n",
    "    'inputCol':'SexIdx',\n",
    "    'outputCol':'SexClassVec'\n",
    "}\n",
    "encode = OneHotEncoder(**params)"
   ]
  },
  {
   "cell_type": "code",
   "execution_count": 118,
   "id": "f26f7328-cfb7-44c6-a25d-939cd48f1079",
   "metadata": {},
   "outputs": [],
   "source": [
    "# 정답\n",
    "params = {\n",
    "    'inputCol':'Survived',\n",
    "    'outputCol':'label'\n",
    "}\n",
    "label_strIdx =  StringIndexer(**params)"
   ]
  },
  {
   "cell_type": "code",
   "execution_count": 119,
   "id": "db6df1b9-4c18-4c8f-94a5-3d400db9ce54",
   "metadata": {},
   "outputs": [],
   "source": [
    "stage = [strIdx,encode,label_strIdx]"
   ]
  },
  {
   "cell_type": "markdown",
   "id": "2aa8b2da-8f73-4897-b9d1-e744958bb9e4",
   "metadata": {},
   "source": [
    "### 범주형데이터에 대한 전처리준비 끝...."
   ]
  },
  {
   "cell_type": "markdown",
   "id": "39833c7b-fc05-40a9-8ed2-338df2876556",
   "metadata": {},
   "source": [
    "### 연속형 데이터 / 수치형 데이터"
   ]
  },
  {
   "cell_type": "code",
   "execution_count": 120,
   "id": "889bc787-68ce-4dc9-bdba-ebc44f88d3e4",
   "metadata": {},
   "outputs": [
    {
     "name": "stdout",
     "output_type": "stream",
     "text": [
      "+----+------+--------+----+----+---------+\n",
      "| Sex|Pclass|Survived| Age|Fare|AgeFilled|\n",
      "+----+------+--------+----+----+---------+\n",
      "|male|     3|       0|22.0|7.25|     22.0|\n",
      "+----+------+--------+----+----+---------+\n",
      "only showing top 1 row\n",
      "\n"
     ]
    }
   ],
   "source": [
    "filled_df.show(1)"
   ]
  },
  {
   "cell_type": "code",
   "execution_count": 126,
   "id": "6ef589b2-cdce-4dc1-8bd5-8214eefc27f5",
   "metadata": {},
   "outputs": [
    {
     "name": "stdout",
     "output_type": "stream",
     "text": [
      "+----+------+--------+----+----+\n",
      "| Sex|Pclass|Survived| Age|Fare|\n",
      "+----+------+--------+----+----+\n",
      "|male|     3|       0|22.0|7.25|\n",
      "+----+------+--------+----+----+\n",
      "only showing top 1 row\n",
      "\n"
     ]
    }
   ],
   "source": [
    "filled_df = filled_df.drop('AgeFilled')\n",
    "filled_df.show(1)"
   ]
  },
  {
   "cell_type": "code",
   "execution_count": 127,
   "id": "6833276d-5f8c-438b-9be4-9f0504bb8a6f",
   "metadata": {},
   "outputs": [],
   "source": [
    "numCols = ['Age','Fare']\n",
    "# scaling\n",
    "for c in numCols:\n",
    "    filled_df = filled_df.withColumn(c+'Scaled', col(c) / filled_df.agg(stddev_samp(c)).first()[0])"
   ]
  },
  {
   "cell_type": "code",
   "execution_count": 128,
   "id": "3405cc9c-1c94-452a-a330-1794f25fd95c",
   "metadata": {},
   "outputs": [
    {
     "name": "stdout",
     "output_type": "stream",
     "text": [
      "+------------------+-------------------+\n",
      "|         AgeScaled|         FareScaled|\n",
      "+------------------+-------------------+\n",
      "|1.5144738264626911|0.14589454188740145|\n",
      "|2.6159093366173756| 1.4344612962375451|\n",
      "|1.7898327040013622|0.15947782682174572|\n",
      "+------------------+-------------------+\n",
      "only showing top 3 rows\n",
      "\n"
     ]
    }
   ],
   "source": [
    "filled_df.select('AgeScaled','FareScaled').show(3)"
   ]
  },
  {
   "cell_type": "code",
   "execution_count": 129,
   "id": "5b7c7278-b9d2-46bd-94f5-7a15baf07176",
   "metadata": {},
   "outputs": [],
   "source": [
    "inputs = ['SexClassVec','AgeScaled','FareScaled']"
   ]
  },
  {
   "cell_type": "code",
   "execution_count": 130,
   "id": "1bb61122-f767-48e7-82f4-c234d5894c82",
   "metadata": {},
   "outputs": [
    {
     "data": {
      "text/plain": [
       "[StringIndexer_25db33098c43,\n",
       " OneHotEncoder_8a22e722166f,\n",
       " StringIndexer_0c62a285b4ac,\n",
       " VectorAssembler_91b3592e5aa6]"
      ]
     },
     "execution_count": 130,
     "metadata": {},
     "output_type": "execute_result"
    }
   ],
   "source": [
    "assembler = VectorAssembler(inputCols=inputs,outputCol='features')\n",
    "stage += [assembler]\n",
    "stage"
   ]
  },
  {
   "cell_type": "code",
   "execution_count": 132,
   "id": "893b3617-f26b-473f-a8a1-8630e7987473",
   "metadata": {},
   "outputs": [],
   "source": [
    "# pipe line \n",
    "pipeline = Pipeline(stages=stage)\n",
    "pipelineModel =  pipeline.fit(filled_df)\n",
    "dataset =  pipelineModel.transform(filled_df)"
   ]
  },
  {
   "cell_type": "code",
   "execution_count": 133,
   "id": "a77aa269-6429-4b45-b5a0-e6e231c51f91",
   "metadata": {},
   "outputs": [
    {
     "name": "stdout",
     "output_type": "stream",
     "text": [
      "+------+------+--------+----+-------+-------------------+-------------------+\n",
      "|   Sex|Pclass|Survived| Age|   Fare|          AgeScaled|         FareScaled|\n",
      "+------+------+--------+----+-------+-------------------+-------------------+\n",
      "|  male|     3|       0|22.0|   7.25| 1.5144738264626911|0.14589454188740145|\n",
      "|female|     1|       1|38.0|71.2833| 2.6159093366173756| 1.4344612962375451|\n",
      "|female|     3|       1|26.0|  7.925| 1.7898327040013622|0.15947782682174572|\n",
      "|female|     1|       1|35.0|   53.1| 2.4093901784633722| 1.0685517481684161|\n",
      "|  male|     3|       0|35.0|   8.05| 2.4093901784633722| 0.1619932499577354|\n",
      "|  male|     3|       0|NULL| 8.4583|               NULL|0.17020962808913206|\n",
      "|  male|     1|       0|54.0|51.8625|   3.71734484677206| 1.0436490591221181|\n",
      "|  male|     3|       0| 2.0| 21.075|0.13767943876933555|   0.42410034072786|\n",
      "|female|     3|       1|27.0|11.1333|   1.85867242338603|0.22403968319931125|\n",
      "|female|     2|       1|14.0|30.0708| 0.9637560713853489| 0.6051262883017478|\n",
      "+------+------+--------+----+-------+-------------------+-------------------+\n",
      "only showing top 10 rows\n",
      "\n"
     ]
    }
   ],
   "source": [
    "filled_df.show(10)"
   ]
  },
  {
   "cell_type": "code",
   "execution_count": 65,
   "id": "3abbcc90-4db2-4d2a-92eb-9fdbc6ae98c7",
   "metadata": {},
   "outputs": [],
   "source": [
    "# train, test  split-- why?  "
   ]
  },
  {
   "cell_type": "code",
   "execution_count": 134,
   "id": "88d77f78-2965-4e69-909b-a75d9f9fa0c2",
   "metadata": {},
   "outputs": [],
   "source": [
    "# 7 : 3 \n",
    "(train,test)  = filled_df.randomSplit([0.7,0.3],seed=14)"
   ]
  },
  {
   "cell_type": "code",
   "execution_count": 135,
   "id": "f7a915e5-52c8-4347-8a56-a9c36b41fcb5",
   "metadata": {},
   "outputs": [
    {
     "data": {
      "text/plain": [
       "(593, 298, 891)"
      ]
     },
     "execution_count": 135,
     "metadata": {},
     "output_type": "execute_result"
    }
   ],
   "source": [
    "train.count(),test.count(), dataset.count()"
   ]
  },
  {
   "cell_type": "markdown",
   "id": "9910b5e5-2dd3-4729-b98a-16367938aa72",
   "metadata": {},
   "source": [
    "### 학습용과 평가용데이터 준비 끝~~~  (결측치와 이상치. 그리고 피처엔지니어링 과 같은 고급기법은 적용 안함)\n",
    "### 단지 스케일만 맞춰줌"
   ]
  },
  {
   "cell_type": "markdown",
   "id": "96624f29-b5c7-425e-a579-6937bed09ab9",
   "metadata": {},
   "source": [
    "나머지 완성하기"
   ]
  },
  {
   "cell_type": "code",
   "execution_count": 51,
   "id": "eaaff2a5-427b-4842-9b56-271655652ead",
   "metadata": {},
   "outputs": [],
   "source": [
    "# 적절한 모델을 준비\n",
    "lr = LogisticRegression(labelCol='label', featuresCol=\"features\", maxIter=10)"
   ]
  },
  {
   "cell_type": "code",
   "execution_count": 69,
   "id": "d78d75ee-a0dd-4fd0-958c-5cc1567da05b",
   "metadata": {},
   "outputs": [
    {
     "name": "stdout",
     "output_type": "stream",
     "text": [
      "+-------+----------+\n",
      "|default|prediction|\n",
      "+-------+----------+\n",
      "|     No|       0.0|\n",
      "|     No|       0.0|\n",
      "|     No|       0.0|\n",
      "|     No|       0.0|\n",
      "|     No|       0.0|\n",
      "+-------+----------+\n",
      "only showing top 5 rows\n",
      "\n"
     ]
    }
   ],
   "source": [
    "lrModel = lr.fit(train)  # 훈련\n",
    "predictions =  lrModel.transform(test)  # 예측\n",
    "predictions.select('default','prediction').show(5)"
   ]
  },
  {
   "cell_type": "code",
   "execution_count": 70,
   "id": "a0231571-3f3d-4b66-9abb-774b97fda379",
   "metadata": {},
   "outputs": [
    {
     "name": "stdout",
     "output_type": "stream",
     "text": [
      "['default', 'student', 'balance', 'income', 'incomeScaled', 'balanceScaled', 'studentIdx', 'studentClassVec', 'label', 'features', 'rawPrediction', 'probability', 'prediction']\n"
     ]
    }
   ],
   "source": [
    "print(predictions.columns)"
   ]
  },
  {
   "cell_type": "markdown",
   "id": "37f83208-0196-493c-85b0-20cf85485384",
   "metadata": {},
   "source": [
    "### 평가"
   ]
  },
  {
   "cell_type": "code",
   "execution_count": 71,
   "id": "74749aed-66b5-46c6-9427-7d17961e23c3",
   "metadata": {},
   "outputs": [],
   "source": [
    "from pyspark.ml.evaluation import BinaryClassificationEvaluator"
   ]
  },
  {
   "cell_type": "code",
   "execution_count": 72,
   "id": "38f11321-c409-46a8-b604-7cb7fd9b904d",
   "metadata": {},
   "outputs": [
    {
     "data": {
      "text/plain": [
       "0.9549682684102574"
      ]
     },
     "execution_count": 72,
     "metadata": {},
     "output_type": "execute_result"
    }
   ],
   "source": [
    "evaluator =  BinaryClassificationEvaluator(rawPredictionCol='rawPrediction')\n",
    "evaluator.evaluate(predictions)  # AUC (Binary Classification Evaluator)"
   ]
  },
  {
   "cell_type": "markdown",
   "id": "f5c25d4a-81bc-4a22-b59e-d8c41572ee9c",
   "metadata": {},
   "source": [
    "### 위와 같은 방식의 평가는 과연 일반화 시킬수 있을까?\n",
    "### 교차검증 을 통해 신뢰성 확보\n",
    "### 각종 파라메터의 값이 변경됨에 따라서 모델 성능이 달라진다.\n",
    "##### 하이퍼 파라메터 튜닝 기법"
   ]
  },
  {
   "cell_type": "code",
   "execution_count": null,
   "id": "53640341-898c-45e2-98ef-6c01b4e3a19c",
   "metadata": {},
   "outputs": [],
   "source": []
  }
 ],
 "metadata": {
  "kernelspec": {
   "display_name": "Python 3 (ipykernel)",
   "language": "python",
   "name": "python3"
  },
  "language_info": {
   "codemirror_mode": {
    "name": "ipython",
    "version": 3
   },
   "file_extension": ".py",
   "mimetype": "text/x-python",
   "name": "python",
   "nbconvert_exporter": "python",
   "pygments_lexer": "ipython3",
   "version": "3.9.10"
  }
 },
 "nbformat": 4,
 "nbformat_minor": 5
}
