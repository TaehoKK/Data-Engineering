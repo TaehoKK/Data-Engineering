{
 "cells": [
  {
   "cell_type": "code",
   "execution_count": 1,
   "id": "e5af76c0-119a-4868-8eb7-82ec52384a9d",
   "metadata": {},
   "outputs": [],
   "source": [
    "from pyspark.ml.feature import OneHotEncoder,StringIndexer,VectorAssembler, StandardScaler\n",
    "from pyspark.ml import Pipeline\n",
    "from pyspark.ml.classification import LogisticRegression \n",
    "from pyspark.sql.functions import col,stddev_samp"
   ]
  },
  {
   "cell_type": "code",
   "execution_count": 2,
   "id": "228b46c1-e107-4f6d-a472-dbcb4c4debbc",
   "metadata": {},
   "outputs": [],
   "source": [
    "# read data  - 수집\n",
    "# data preprocessing  -EDA \n",
    "# model create or choice\n",
    "# training\n",
    "# predict(classification / regression)\n",
    "# score\n",
    "# 배포 - 엔지니어링"
   ]
  },
  {
   "cell_type": "code",
   "execution_count": 2,
   "id": "f5e84828-ffc7-4307-a763-15cfc434df5c",
   "metadata": {},
   "outputs": [
    {
     "data": {
      "text/plain": [
       "'/root/spark'"
      ]
     },
     "execution_count": 2,
     "metadata": {},
     "output_type": "execute_result"
    }
   ],
   "source": [
    "pwd"
   ]
  },
  {
   "cell_type": "code",
   "execution_count": 4,
   "id": "3ff1397d-d9ac-47c2-88c0-4875153a5c01",
   "metadata": {},
   "outputs": [
    {
     "name": "stderr",
     "output_type": "stream",
     "text": [
      "                                                                                \r"
     ]
    }
   ],
   "source": [
    "df = spark.read.format('csv')\\\n",
    "    .options(header = 'true', inferSchema = 'true')\\\n",
    "    .load('default.csv').drop('_c0').cache()"
   ]
  },
  {
   "cell_type": "code",
   "execution_count": 9,
   "id": "8c1266f2-d4de-4496-be0e-36d6312d00cb",
   "metadata": {},
   "outputs": [
    {
     "name": "stdout",
     "output_type": "stream",
     "text": [
      "+-------+-------+-----------+-----------+\n",
      "|default|student|    balance|     income|\n",
      "+-------+-------+-----------+-----------+\n",
      "|     No|     No|729.5264952|44361.62507|\n",
      "|     No|    Yes|817.1804066| 12106.1347|\n",
      "+-------+-------+-----------+-----------+\n",
      "only showing top 2 rows\n",
      "\n"
     ]
    }
   ],
   "source": [
    "df.show(2)"
   ]
  },
  {
   "cell_type": "code",
   "execution_count": 8,
   "id": "76f4f7d7-6934-4ec9-9c6b-fefdc1798668",
   "metadata": {},
   "outputs": [
    {
     "name": "stdout",
     "output_type": "stream",
     "text": [
      "+-------+\n",
      "|student|\n",
      "+-------+\n",
      "|     No|\n",
      "|    Yes|\n",
      "+-------+\n",
      "\n"
     ]
    }
   ],
   "source": [
    "\n",
    "df.select(\"student\").distinct().show()"
   ]
  },
  {
   "cell_type": "code",
   "execution_count": 11,
   "id": "e352ba46-376d-43f1-9270-f1a63d58b290",
   "metadata": {},
   "outputs": [],
   "source": [
    "#  **params  # unpacking\n",
    "#  strIdx = StringIndexer(inputCol = 'student', outputCol='studentIdx')\n",
    "###########################################################################\n",
    "\n",
    "params = {\n",
    "    'inputCol':'student',\n",
    "    'outputCol':'studentIdx'\n",
    "}\n",
    "strIdx = StringIndexer(**params)"
   ]
  },
  {
   "cell_type": "code",
   "execution_count": 15,
   "id": "f26f7328-cfb7-44c6-a25d-939cd48f1079",
   "metadata": {},
   "outputs": [],
   "source": [
    "params = {\n",
    "    'inputCol':'default',\n",
    "    'outputCol':'label'\n",
    "}\n",
    "label_strIdx =  StringIndexer(**params)"
   ]
  },
  {
   "cell_type": "code",
   "execution_count": 16,
   "id": "fd109ba3-3a68-47ef-9861-3932d356dee8",
   "metadata": {},
   "outputs": [],
   "source": [
    "# 수치형 데이터에 대해서 \n",
    "# 의류사이크 2XL XL L M S --> labeling(4,3,2,1,0) ->onehot(10000,01000,00100,00010,00001)  : 이 경우 onehot으로 하면 안됨\n",
    "params = {\n",
    "    'inputCol':'studentIdx',\n",
    "    'outputCol':'studentClassVec'\n",
    "}\n",
    "encode = OneHotEncoder(**params)"
   ]
  },
  {
   "cell_type": "code",
   "execution_count": 25,
   "id": "db6df1b9-4c18-4c8f-94a5-3d400db9ce54",
   "metadata": {},
   "outputs": [],
   "source": [
    "stage = [strIdx,encode,label_strIdx]"
   ]
  },
  {
   "cell_type": "markdown",
   "id": "2aa8b2da-8f73-4897-b9d1-e744958bb9e4",
   "metadata": {},
   "source": [
    "### 범주형데이터에 대한 전처리준비 끝...."
   ]
  },
  {
   "cell_type": "markdown",
   "id": "39833c7b-fc05-40a9-8ed2-338df2876556",
   "metadata": {},
   "source": [
    "### 연속형 데이터 / 수치형 데이터"
   ]
  },
  {
   "cell_type": "code",
   "execution_count": 22,
   "id": "6833276d-5f8c-438b-9be4-9f0504bb8a6f",
   "metadata": {},
   "outputs": [],
   "source": [
    "numCols = ['income','balance']\n",
    "# scaling\n",
    "for c in numCols:\n",
    "    df = df.withColumn(c+'Scaled', col(c) / df.agg(stddev_samp(c)).first()[0])"
   ]
  },
  {
   "cell_type": "code",
   "execution_count": 23,
   "id": "3405cc9c-1c94-452a-a330-1794f25fd95c",
   "metadata": {},
   "outputs": [
    {
     "name": "stdout",
     "output_type": "stream",
     "text": [
      "+-------+-------+-----------+-----------+------------------+------------------+\n",
      "|default|student|    balance|     income|      incomeScaled|     balanceScaled|\n",
      "+-------+-------+-----------+-----------+------------------+------------------+\n",
      "|     No|     No|729.5264952|44361.62507|3.3262970676634867|1.5081742710178534|\n",
      "|     No|    Yes|817.1804066| 12106.1347|0.9077350139857981|1.6893841034192338|\n",
      "+-------+-------+-----------+-----------+------------------+------------------+\n",
      "only showing top 2 rows\n",
      "\n"
     ]
    }
   ],
   "source": [
    "df.show(2)"
   ]
  },
  {
   "cell_type": "code",
   "execution_count": 28,
   "id": "5b7c7278-b9d2-46bd-94f5-7a15baf07176",
   "metadata": {},
   "outputs": [],
   "source": [
    "inputs = ['studentClassVec','incomeScaled','balanceScaled']"
   ]
  },
  {
   "cell_type": "code",
   "execution_count": 29,
   "id": "1bb61122-f767-48e7-82f4-c234d5894c82",
   "metadata": {},
   "outputs": [
    {
     "data": {
      "text/plain": [
       "[StringIndexer_fd3912499dc3,\n",
       " OneHotEncoder_4d547eb7aeca,\n",
       " StringIndexer_32e2f0a8e4a7,\n",
       " VectorAssembler_a4ce7f9dcdf6]"
      ]
     },
     "execution_count": 29,
     "metadata": {},
     "output_type": "execute_result"
    }
   ],
   "source": [
    "assembler = VectorAssembler(inputCols=inputs,outputCol='features')\n",
    "stage += [assembler]\n",
    "stage"
   ]
  },
  {
   "cell_type": "code",
   "execution_count": 30,
   "id": "893b3617-f26b-473f-a8a1-8630e7987473",
   "metadata": {},
   "outputs": [
    {
     "name": "stderr",
     "output_type": "stream",
     "text": [
      "                                                                                \r"
     ]
    }
   ],
   "source": [
    "# pipe line \n",
    "pipeline = Pipeline(stages=stage)\n",
    "pipelineModel =  pipeline.fit(df)\n",
    "dataset =  pipelineModel.transform(df)"
   ]
  },
  {
   "cell_type": "code",
   "execution_count": 33,
   "id": "a77aa269-6429-4b45-b5a0-e6e231c51f91",
   "metadata": {
    "collapsed": true,
    "jupyter": {
     "outputs_hidden": true
    }
   },
   "outputs": [
    {
     "name": "stdout",
     "output_type": "stream",
     "text": [
      "+-------+-------+-----------+-----------+------------------+------------------+----------+---------------+-----+--------------------+\n",
      "|default|student|    balance|     income|      incomeScaled|     balanceScaled|studentIdx|studentClassVec|label|            features|\n",
      "+-------+-------+-----------+-----------+------------------+------------------+----------+---------------+-----+--------------------+\n",
      "|     No|     No|729.5264952|44361.62507|3.3262970676634867|1.5081742710178534|       0.0|  (1,[0],[1.0])|  0.0|[1.0,3.3262970676...|\n",
      "|     No|    Yes|817.1804066| 12106.1347|0.9077350139857981|1.6893841034192338|       1.0|      (1,[],[])|  0.0|[0.0,0.9077350139...|\n",
      "|     No|     No|1073.549164|31767.13895|2.3819447770614217|2.2193837214557224|       0.0|  (1,[0],[1.0])|  0.0|[1.0,2.3819447770...|\n",
      "|     No|     No|529.2506047|35704.49394|2.6771731943459827|1.0941372934102322|       0.0|  (1,[0],[1.0])|  0.0|[1.0,2.6771731943...|\n",
      "|     No|     No|785.6558829|38463.49588|2.8840470419162356|1.6242124121054071|       0.0|  (1,[0],[1.0])|  0.0|[1.0,2.8840470419...|\n",
      "|     No|    Yes|919.5885305|7491.558572|0.5617276028764033|1.9010958076896132|       1.0|      (1,[],[])|  0.0|[0.0,0.5617276028...|\n",
      "|     No|     No|825.5133305|24905.22658| 1.867428932367304|1.7066110328193573|       0.0|  (1,[0],[1.0])|  0.0|[1.0,1.8674289323...|\n",
      "|     No|    Yes|808.6675043|17600.45134|1.3197066065414966|1.6717850987154652|       1.0|      (1,[],[])|  0.0|[0.0,1.3197066065...|\n",
      "|     No|     No|1161.057854|37468.52929|2.8094430470103258|2.4002933328500213|       0.0|  (1,[0],[1.0])|  0.0|[1.0,2.8094430470...|\n",
      "|     No|     No|        0.0|29275.26829|2.1951008087379984|               0.0|       0.0|  (1,[0],[1.0])|  0.0|[1.0,2.1951008087...|\n",
      "+-------+-------+-----------+-----------+------------------+------------------+----------+---------------+-----+--------------------+\n",
      "only showing top 10 rows\n",
      "\n"
     ]
    }
   ],
   "source": [
    "dataset.show(10)"
   ]
  },
  {
   "cell_type": "code",
   "execution_count": null,
   "id": "3abbcc90-4db2-4d2a-92eb-9fdbc6ae98c7",
   "metadata": {},
   "outputs": [],
   "source": [
    "# train, test  split-- why?  "
   ]
  },
  {
   "cell_type": "code",
   "execution_count": 35,
   "id": "88d77f78-2965-4e69-909b-a75d9f9fa0c2",
   "metadata": {},
   "outputs": [],
   "source": [
    "# 7 : 3 \n",
    "(train,test)  = dataset.randomSplit([0.7,0.3],seed=14)"
   ]
  },
  {
   "cell_type": "code",
   "execution_count": 39,
   "id": "f7a915e5-52c8-4347-8a56-a9c36b41fcb5",
   "metadata": {},
   "outputs": [
    {
     "data": {
      "text/plain": [
       "(6907, 3093, 10000)"
      ]
     },
     "execution_count": 39,
     "metadata": {},
     "output_type": "execute_result"
    }
   ],
   "source": [
    "train.count(),test.count(), dataset.count()"
   ]
  },
  {
   "cell_type": "markdown",
   "id": "9910b5e5-2dd3-4729-b98a-16367938aa72",
   "metadata": {},
   "source": [
    "### 학습용과 평가용데이터 준비 끝~~~  (결측치와 이상치. 그리고 피처엔지니어링 과 같은 고급기법은 적용 안함)\n",
    "### 단지 스케일만 맞춰줌"
   ]
  },
  {
   "cell_type": "code",
   "execution_count": 40,
   "id": "eaaff2a5-427b-4842-9b56-271655652ead",
   "metadata": {},
   "outputs": [],
   "source": [
    "# 적절한 모델을 준비\n",
    "lr = LogisticRegression(labelCol='label', featuresCol=\"features\", maxIter=10)"
   ]
  },
  {
   "cell_type": "code",
   "execution_count": 43,
   "id": "d78d75ee-a0dd-4fd0-958c-5cc1567da05b",
   "metadata": {},
   "outputs": [
    {
     "name": "stdout",
     "output_type": "stream",
     "text": [
      "+-------+----------+\n",
      "|default|prediction|\n",
      "+-------+----------+\n",
      "|     No|       0.0|\n",
      "|     No|       0.0|\n",
      "|     No|       0.0|\n",
      "|     No|       0.0|\n",
      "|     No|       0.0|\n",
      "+-------+----------+\n",
      "only showing top 5 rows\n",
      "\n"
     ]
    }
   ],
   "source": [
    "lrModel = lr.fit(train)  # 훈련\n",
    "predictions =  lrModel.transform(test)  # 예측\n",
    "predictions.select('default','prediction').show(5)"
   ]
  },
  {
   "cell_type": "code",
   "execution_count": 47,
   "id": "a0231571-3f3d-4b66-9abb-774b97fda379",
   "metadata": {},
   "outputs": [
    {
     "name": "stdout",
     "output_type": "stream",
     "text": [
      "['default', 'student', 'balance', 'income', 'incomeScaled', 'balanceScaled', 'studentIdx', 'studentClassVec', 'label', 'features', 'rawPrediction', 'probability', 'prediction']\n"
     ]
    }
   ],
   "source": [
    "print(predictions.columns)"
   ]
  },
  {
   "cell_type": "markdown",
   "id": "37f83208-0196-493c-85b0-20cf85485384",
   "metadata": {},
   "source": [
    "### 평가"
   ]
  },
  {
   "cell_type": "code",
   "execution_count": 44,
   "id": "74749aed-66b5-46c6-9427-7d17961e23c3",
   "metadata": {},
   "outputs": [],
   "source": [
    "from pyspark.ml.evaluation import BinaryClassificationEvaluator"
   ]
  },
  {
   "cell_type": "code",
   "execution_count": 48,
   "id": "38f11321-c409-46a8-b604-7cb7fd9b904d",
   "metadata": {},
   "outputs": [
    {
     "data": {
      "text/plain": [
       "0.9549682684102574"
      ]
     },
     "execution_count": 48,
     "metadata": {},
     "output_type": "execute_result"
    }
   ],
   "source": [
    "evaluator =  BinaryClassificationEvaluator(rawPredictionCol='rawPrediction')\n",
    "evaluator.evaluate(predictions)  # AUC (Binary Classification Evaluator)"
   ]
  },
  {
   "cell_type": "markdown",
   "id": "f5c25d4a-81bc-4a22-b59e-d8c41572ee9c",
   "metadata": {},
   "source": [
    "### 위와 같은 방식의 평가는 과연 일반화 시킬수 있을까?\n",
    "### 교차검증 을 통해 신뢰성 확보\n",
    "### 각종 파라메터의 값이 변경됨에 따라서 모델 성능이 달라진다.\n",
    "##### 하이퍼 파라메터 튜닝 기법"
   ]
  },
  {
   "cell_type": "code",
   "execution_count": null,
   "id": "53640341-898c-45e2-98ef-6c01b4e3a19c",
   "metadata": {},
   "outputs": [],
   "source": []
  }
 ],
 "metadata": {
  "kernelspec": {
   "display_name": "Python 3 (ipykernel)",
   "language": "python",
   "name": "python3"
  },
  "language_info": {
   "codemirror_mode": {
    "name": "ipython",
    "version": 3
   },
   "file_extension": ".py",
   "mimetype": "text/x-python",
   "name": "python",
   "nbconvert_exporter": "python",
   "pygments_lexer": "ipython3",
   "version": "3.9.10"
  }
 },
 "nbformat": 4,
 "nbformat_minor": 5
}
