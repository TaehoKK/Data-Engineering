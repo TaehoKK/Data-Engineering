{
 "cells": [
  {
   "cell_type": "code",
   "execution_count": 1,
   "id": "012ad872-6a41-4b43-8d43-ca8c5a77c8cb",
   "metadata": {},
   "outputs": [
    {
     "data": {
      "text/plain": [
       "MapPartitionsRDD[5] at javaToPython at NativeMethodAccessorImpl.java:0"
      ]
     },
     "execution_count": 1,
     "metadata": {},
     "output_type": "execute_result"
    }
   ],
   "source": [
    "# DataFrame -> RDD\n",
    "spark.range(10).rdd"
   ]
  },
  {
   "cell_type": "code",
   "execution_count": 4,
   "id": "a8931c71-668c-42c5-a180-52e31e0e152d",
   "metadata": {},
   "outputs": [
    {
     "data": {
      "text/plain": [
       "PythonRDD[16] at RDD at PythonRDD.scala:53"
      ]
     },
     "execution_count": 4,
     "metadata": {},
     "output_type": "execute_result"
    }
   ],
   "source": [
    "spark.range(10).toDF(\"id\").rdd.map(lambda row: row[0])"
   ]
  },
  {
   "cell_type": "code",
   "execution_count": 6,
   "id": "a2026247-043f-4c34-aee0-71507355fe79",
   "metadata": {},
   "outputs": [
    {
     "name": "stdout",
     "output_type": "stream",
     "text": [
      "+---+\n",
      "| id|\n",
      "+---+\n",
      "|  0|\n",
      "|  1|\n",
      "|  2|\n",
      "|  3|\n",
      "|  4|\n",
      "|  5|\n",
      "|  6|\n",
      "|  7|\n",
      "|  8|\n",
      "|  9|\n",
      "+---+\n",
      "\n"
     ]
    }
   ],
   "source": [
    "# rdd 호출후 toDF는 일반적이지 않음\n",
    "spark.range(10).rdd.toDF()"
   ]
  },
  {
   "cell_type": "code",
   "execution_count": 22,
   "id": "9047578d-0ed8-4018-b51c-74e5059e4515",
   "metadata": {},
   "outputs": [],
   "source": [
    "myCollection = \"Spark The Definitive Guide: Big Data Processing Made Simple\".split()\n",
    "words = spark.sparkContext.parallelize(myCollection,2)  # 2 partition "
   ]
  },
  {
   "cell_type": "code",
   "execution_count": 23,
   "id": "2be2df55-7896-4f38-952d-405d29047810",
   "metadata": {},
   "outputs": [],
   "source": [
    "# 각 문장의 길이를 구한다 \n",
    "# w_length =  words.map(lambda w : len(w))\n",
    "# w_length.collect()"
   ]
  },
  {
   "cell_type": "code",
   "execution_count": 24,
   "id": "005638b0-88b1-41d4-ada1-e364f5672ffa",
   "metadata": {},
   "outputs": [
    {
     "data": {
      "text/plain": [
       "'myWords'"
      ]
     },
     "execution_count": 24,
     "metadata": {},
     "output_type": "execute_result"
    }
   ],
   "source": [
    "words.setName(\"myWords\")\n",
    "words.name()"
   ]
  },
  {
   "cell_type": "code",
   "execution_count": 30,
   "id": "8b25d717-68fd-40c5-9308-c381db0bccb3",
   "metadata": {},
   "outputs": [
    {
     "data": {
      "text/plain": [
       "myWords ParallelCollectionRDD[50] at readRDDFromFile at PythonRDD.scala:289"
      ]
     },
     "execution_count": 30,
     "metadata": {},
     "output_type": "execute_result"
    }
   ],
   "source": [
    "words"
   ]
  },
  {
   "cell_type": "code",
   "execution_count": 26,
   "id": "a2226ff1-4234-4958-8108-5e79872eb92d",
   "metadata": {},
   "outputs": [],
   "source": [
    "# RDD filterling \n",
    "def startsWithS(data):\n",
    "    return data.startswith(\"S\")\n",
    "    "
   ]
  },
  {
   "cell_type": "code",
   "execution_count": 27,
   "id": "edba7581-fe99-4f1d-b35d-6d6ede7254a2",
   "metadata": {},
   "outputs": [
    {
     "data": {
      "text/plain": [
       "['Spark', 'Simple']"
      ]
     },
     "execution_count": 27,
     "metadata": {},
     "output_type": "execute_result"
    }
   ],
   "source": [
    "words.filter(lambda w : startsWithS(w)).collect()"
   ]
  },
  {
   "cell_type": "code",
   "execution_count": 29,
   "id": "01214b06-3a9b-4f67-853f-897809ffc7c8",
   "metadata": {},
   "outputs": [
    {
     "data": {
      "text/plain": [
       "PythonRDD[52] at RDD at PythonRDD.scala:53"
      ]
     },
     "execution_count": 29,
     "metadata": {},
     "output_type": "execute_result"
    }
   ],
   "source": [
    "words2 = words.map(lambda word: (word,word[0],word.startswith(\"S\")))\n",
    "words2"
   ]
  },
  {
   "cell_type": "code",
   "execution_count": 31,
   "id": "859ceef1-ad3b-41f6-ad9e-6118f4a5b245",
   "metadata": {},
   "outputs": [
    {
     "data": {
      "text/plain": [
       "[('Spark', 'S', True), ('Simple', 'S', True)]"
      ]
     },
     "execution_count": 31,
     "metadata": {},
     "output_type": "execute_result"
    }
   ],
   "source": [
    "words2.filter(lambda record : record[2]).take(5)   # 5개 반환"
   ]
  },
  {
   "cell_type": "code",
   "execution_count": 33,
   "id": "854df504-dc71-4278-b6cb-e322f329c4a8",
   "metadata": {},
   "outputs": [
    {
     "data": {
      "text/plain": [
       "['S', 'p', 'a', 'r', 'k', 'T', 'h', 'e', 'D', 'e']"
      ]
     },
     "execution_count": 33,
     "metadata": {},
     "output_type": "execute_result"
    }
   ],
   "source": [
    "words.flatMap(lambda word : list(word)).take(10)"
   ]
  },
  {
   "cell_type": "code",
   "execution_count": 34,
   "id": "96f88717-ce4d-4e51-b858-4b185a464cdc",
   "metadata": {},
   "outputs": [
    {
     "data": {
      "text/plain": [
       "['S', 'p', 'a', 'r', 'k', ' ', 'T', 'h', 'e']"
      ]
     },
     "execution_count": 34,
     "metadata": {},
     "output_type": "execute_result"
    }
   ],
   "source": [
    "list(\"Spark The\" )"
   ]
  },
  {
   "cell_type": "code",
   "execution_count": 35,
   "id": "0062b77b-aede-429b-b99b-94b0f484c7e4",
   "metadata": {},
   "outputs": [
    {
     "data": {
      "text/plain": [
       "['Definitive', 'Processing']"
      ]
     },
     "execution_count": 35,
     "metadata": {},
     "output_type": "execute_result"
    }
   ],
   "source": [
    "words.sortBy(lambda word: len(word)* -1).take(2)   # 단어의 길이를 계산 해서 음수로 변경... 정렬의 기본은 오름차순-->내림차순"
   ]
  },
  {
   "cell_type": "code",
   "execution_count": 36,
   "id": "2a0013d8-38ff-4c2f-aeb8-09dd8a4d72f3",
   "metadata": {},
   "outputs": [],
   "source": [
    "split_50 =  words.randomSplit([0.5,0.5]) # RDD  50% 두 부분으로 나눈다"
   ]
  },
  {
   "cell_type": "code",
   "execution_count": 37,
   "id": "1153eb16-b26c-45b2-b18f-92db77a1b23c",
   "metadata": {},
   "outputs": [
    {
     "data": {
      "text/plain": [
       "210"
      ]
     },
     "execution_count": 37,
     "metadata": {},
     "output_type": "execute_result"
    }
   ],
   "source": [
    "# reduce  1 ~20 total summary   range(1,21)\n",
    "spark.sparkContext.parallelize(range(1,21)).reduce(lambda x , y : x+y)"
   ]
  },
  {
   "cell_type": "code",
   "execution_count": 40,
   "id": "81320bf6-5f23-42d4-b677-15c1bab21964",
   "metadata": {},
   "outputs": [],
   "source": [
    "# 두 개의 단어중에서 길이가 긴 단어를 선택 reducder\n",
    "def wordLengthReducder(leftWord, rightWord):\n",
    "    return leftWord if len(leftWord) > len(rightWord) else rightWord\n",
    "    \n",
    "    # if leftWord> rightWord:\n",
    "    #     return leftWord\n",
    "    # else:\n",
    "    #     return rightWord\n",
    "    "
   ]
  },
  {
   "cell_type": "code",
   "execution_count": 41,
   "id": "70a8ae1d-85a3-4593-81c7-c2bcd0b844c6",
   "metadata": {},
   "outputs": [
    {
     "data": {
      "text/plain": [
       "'Processing'"
      ]
     },
     "execution_count": 41,
     "metadata": {},
     "output_type": "execute_result"
    }
   ],
   "source": [
    "words.reduce(wordLengthReducder)"
   ]
  },
  {
   "cell_type": "code",
   "execution_count": 43,
   "id": "905b71b6-b94e-40b6-848c-d4ff64698034",
   "metadata": {},
   "outputs": [
    {
     "data": {
      "text/plain": [
       "2"
      ]
     },
     "execution_count": 43,
     "metadata": {},
     "output_type": "execute_result"
    }
   ],
   "source": [
    "# 파티션 개수 확인하기\n",
    "words.getNumPartitions()"
   ]
  },
  {
   "cell_type": "code",
   "execution_count": 44,
   "id": "3cc4ee9a-d564-49e3-abff-4d2578accf58",
   "metadata": {},
   "outputs": [
    {
     "data": {
      "text/plain": [
       "2"
      ]
     },
     "execution_count": 44,
     "metadata": {},
     "output_type": "execute_result"
    }
   ],
   "source": [
    "words.mapPartitions(lambda part : [1]).sum()"
   ]
  },
  {
   "cell_type": "code",
   "execution_count": 45,
   "id": "72f36fe2-d4a9-4c7b-bfb2-97c96f27f802",
   "metadata": {},
   "outputs": [],
   "source": [
    "# 각 파티션의 인덱스와 해당 파티션에 속한 각 요소를 사용 새로운 값을 생성\n",
    "def indexedFunc(partitionIndex, withinPartIterator):\n",
    "    return [ f\"partition:{partitionIndex} => {x}\" for x in  withinPartIterator]"
   ]
  },
  {
   "cell_type": "code",
   "execution_count": 46,
   "id": "bbd32c57-e944-4dd7-ab50-df9612a817f3",
   "metadata": {},
   "outputs": [
    {
     "data": {
      "text/plain": [
       "['partition:0 => Spark',\n",
       " 'partition:0 => The',\n",
       " 'partition:0 => Definitive',\n",
       " 'partition:0 => Guide:',\n",
       " 'partition:1 => Big',\n",
       " 'partition:1 => Data',\n",
       " 'partition:1 => Processing',\n",
       " 'partition:1 => Made',\n",
       " 'partition:1 => Simple']"
      ]
     },
     "execution_count": 46,
     "metadata": {},
     "output_type": "execute_result"
    }
   ],
   "source": [
    "words.mapPartitionsWithIndex(indexedFunc).collect()"
   ]
  },
  {
   "cell_type": "code",
   "execution_count": 47,
   "id": "cb708992-8e83-4c2c-b10c-bfbc6f359598",
   "metadata": {},
   "outputs": [
    {
     "data": {
      "text/plain": [
       "[['Hello'], ['Word']]"
      ]
     },
     "execution_count": 47,
     "metadata": {},
     "output_type": "execute_result"
    }
   ],
   "source": [
    "# glom()  RDD 요소를 Partition별로 그룹화->리스트로 반환  RDD구조를 확인하거나 디버깅용도로\n",
    "spark.sparkContext.parallelize([\"Hello\",\"Word\"],2).glom().collect()"
   ]
  },
  {
   "cell_type": "code",
   "execution_count": 57,
   "id": "68072a23-6391-4434-929d-b337946c9ddc",
   "metadata": {},
   "outputs": [],
   "source": [
    "# word count\n",
    "words = '''\n",
    " Prospects of talks between the government and the medical community over a prolonged walkout by junior doctors were raised as Yoon instructed officials to seek dialogue with doctors, with the walkout disrupting medical services at major hospitals for nearly five weeks.\n",
    "\"Related ministries have immediately launched working-level preparations to hold talks with the medical community,\" Cho told a government response meeting. \"We will arrange a meeting between the government and the medical community as soon as possible.\"\n",
    "'''"
   ]
  },
  {
   "cell_type": "code",
   "execution_count": 58,
   "id": "e7df07ec-095a-455d-8d1a-cc5d2e0ee279",
   "metadata": {},
   "outputs": [
    {
     "data": {
      "text/plain": [
       "4"
      ]
     },
     "execution_count": 58,
     "metadata": {},
     "output_type": "execute_result"
    }
   ],
   "source": [
    "text = spark.sparkContext.parallelize([words])\n",
    "text.getNumPartitions()"
   ]
  },
  {
   "cell_type": "code",
   "execution_count": 56,
   "id": "c01f0c37-931b-4885-89dd-859da0ca802b",
   "metadata": {},
   "outputs": [
    {
     "data": {
      "text/plain": [
       "['Prospects', 'of', 'talks', 'between', 'the']"
      ]
     },
     "execution_count": 56,
     "metadata": {},
     "output_type": "execute_result"
    }
   ],
   "source": [
    "text.flatMap(lambda line:line.split()).take(5)"
   ]
  },
  {
   "cell_type": "code",
   "execution_count": 61,
   "id": "16b2ca35-5daa-4de8-bfd1-0398b1cb0410",
   "metadata": {},
   "outputs": [
    {
     "data": {
      "text/plain": [
       "[('of', 1),\n",
       " ('community', 2),\n",
       " ('walkout', 2),\n",
       " ('raised', 1),\n",
       " ('instructed', 1),\n",
       " ('have', 1),\n",
       " ('working-level', 1),\n",
       " ('Cho', 1),\n",
       " ('talks', 2),\n",
       " ('between', 2),\n",
       " ('the', 6),\n",
       " ('and', 2),\n",
       " ('over', 1),\n",
       " ('a', 3),\n",
       " ('by', 1),\n",
       " ('junior', 1),\n",
       " ('doctors', 1),\n",
       " ('to', 2),\n",
       " ('seek', 1),\n",
       " ('dialogue', 1),\n",
       " ('disrupting', 1),\n",
       " ('services', 1),\n",
       " ('nearly', 1),\n",
       " ('weeks.', 1),\n",
       " ('launched', 1),\n",
       " ('preparations', 1),\n",
       " ('hold', 1),\n",
       " ('\"We', 1),\n",
       " ('possible.\"', 1),\n",
       " ('medical', 4),\n",
       " ('prolonged', 1),\n",
       " ('as', 3),\n",
       " ('Yoon', 1),\n",
       " ('officials', 1),\n",
       " ('at', 1),\n",
       " ('major', 1),\n",
       " ('hospitals', 1),\n",
       " ('\"Related', 1),\n",
       " ('ministries', 1),\n",
       " ('told', 1),\n",
       " ('response', 1),\n",
       " ('meeting', 1),\n",
       " ('Prospects', 1),\n",
       " ('government', 3),\n",
       " ('were', 1),\n",
       " ('with', 3),\n",
       " ('doctors,', 1),\n",
       " ('for', 1),\n",
       " ('five', 1),\n",
       " ('immediately', 1),\n",
       " ('community,\"', 1),\n",
       " ('meeting.', 1),\n",
       " ('will', 1),\n",
       " ('arrange', 1),\n",
       " ('soon', 1)]"
      ]
     },
     "execution_count": 61,
     "metadata": {},
     "output_type": "execute_result"
    }
   ],
   "source": [
    "word_counts = text.flatMap(lambda line:line.split()).map(lambda word : (word, 1)).reduceByKey(lambda x, y : x+ y)\n",
    "word_counts.collect()"
   ]
  },
  {
   "cell_type": "code",
   "execution_count": 63,
   "id": "272d102b-0d71-4037-b9e2-059aa7484710",
   "metadata": {},
   "outputs": [
    {
     "data": {
      "text/plain": [
       "[2, 4, 6, 8, 10, 12, 14, 16, 18]"
      ]
     },
     "execution_count": 63,
     "metadata": {},
     "output_type": "execute_result"
    }
   ],
   "source": [
    "# each multiple 2\n",
    "numbers = spark.sparkContext.parallelize([1,2,3,4,5,6,7,8,9])\n",
    "result =  numbers.map(lambda x: x*2)\n",
    "result.collect()                                         "
   ]
  },
  {
   "cell_type": "code",
   "execution_count": 70,
   "id": "2ef922c1-abee-403e-909e-11355aae6f53",
   "metadata": {},
   "outputs": [
    {
     "name": "stdout",
     "output_type": "stream",
     "text": [
      "[2, 4, 6, 8]\n",
      "[3, 4, 6]\n",
      "['abc', 'bbbbbb', 'cccc']\n"
     ]
    }
   ],
   "source": [
    "# 짝수만 필터링  filter\n",
    "print( numbers.filter(lambda x : x%2 == 0).collect() )\n",
    "# 모든요소의 합  reduce\n",
    "\n",
    "temp = spark.sparkContext.parallelize([\"abc\",\"cccc\",\"bbbbbb\"])\n",
    "# 각 요소의 길이  map\n",
    "print( temp.map(lambda x : len(x)).collect() )         \n",
    "\n",
    "# 정렬  sortBy\n",
    "print( temp.sortBy( lambda x : x).collect())"
   ]
  },
  {
   "cell_type": "code",
   "execution_count": 72,
   "id": "1d958eae-0987-4909-acd3-47d92c504f95",
   "metadata": {},
   "outputs": [
    {
     "data": {
      "text/plain": [
       "[1, 10, 20, 10, 100, 200]"
      ]
     },
     "execution_count": 72,
     "metadata": {},
     "output_type": "execute_result"
    }
   ],
   "source": [
    "# RDD 두개를 분할해서 합치기\n",
    "rdd1 = spark.sparkContext.parallelize([1,10,20])\n",
    "rdd2 = spark.sparkContext.parallelize([10,100,200])\n",
    "merged_rdd = rdd1.union(rdd2)\n",
    "merged_rdd.collect()"
   ]
  },
  {
   "cell_type": "code",
   "execution_count": 73,
   "id": "691ce6b6-de85-4df3-96e8-88f71e69b4de",
   "metadata": {},
   "outputs": [],
   "source": [
    "# CSV 파일 로드 RDD 로 처리 "
   ]
  },
  {
   "cell_type": "code",
   "execution_count": 82,
   "id": "fbdf9e61-47a8-4247-a812-5d29601ef58b",
   "metadata": {},
   "outputs": [],
   "source": [
    "read_csv_ = \"/root/spark/bydata/by-day/2011-12-09.csv\""
   ]
  },
  {
   "cell_type": "code",
   "execution_count": 88,
   "id": "c29d8406-f186-4a5f-abce-6348ce71b0f4",
   "metadata": {},
   "outputs": [
    {
     "data": {
      "text/plain": [
       "'InvoiceNo,StockCode,Description,Quantity,InvoiceDate,UnitPrice,CustomerID,Country'"
      ]
     },
     "execution_count": 88,
     "metadata": {},
     "output_type": "execute_result"
    }
   ],
   "source": [
    "csv_lines =  spark.sparkContext.textFile(read_csv_)\n",
    "header = csv_lines.first()\n",
    "header"
   ]
  },
  {
   "cell_type": "code",
   "execution_count": 94,
   "id": "dce24b05-9b00-46dc-bea0-4085cd7028d5",
   "metadata": {},
   "outputs": [
    {
     "data": {
      "text/plain": [
       "2"
      ]
     },
     "execution_count": 94,
     "metadata": {},
     "output_type": "execute_result"
    }
   ],
   "source": [
    "csv_lines.getNumPartitions()"
   ]
  },
  {
   "cell_type": "code",
   "execution_count": 92,
   "id": "88a5f457-41fb-4dcd-bbb0-4e8f047b6232",
   "metadata": {},
   "outputs": [
    {
     "data": {
      "text/plain": [
       "['581475,22596,CHRISTMAS STAR WISH LIST CHALKBOARD,36,2011-12-09 08:39:00,0.39,13069.0,United Kingdom',\n",
       " '581475,23235,STORAGE TIN VINTAGE LEAF,12,2011-12-09 08:39:00,1.25,13069.0,United Kingdom',\n",
       " '581475,23272,TREE T-LIGHT HOLDER WILLIE WINKIE,12,2011-12-09 08:39:00,0.39,13069.0,United Kingdom',\n",
       " '581475,23239,SET OF 4 KNICK KNACK TINS POPPIES,6,2011-12-09 08:39:00,1.65,13069.0,United Kingdom',\n",
       " '581475,21705,BAG 500g SWIRLY MARBLES,24,2011-12-09 08:39:00,0.39,13069.0,United Kingdom']"
      ]
     },
     "execution_count": 92,
     "metadata": {},
     "output_type": "execute_result"
    }
   ],
   "source": [
    "# remove header\n",
    "data = csv_lines.filter(lambda line : line != header)\n",
    "data.take(5)"
   ]
  },
  {
   "cell_type": "code",
   "execution_count": 100,
   "id": "ab5ae4e4-00f6-472e-b2f2-0b8ab2a9fc5f",
   "metadata": {},
   "outputs": [
    {
     "data": {
      "text/plain": [
       "[('581475', '22596', 'CHRISTMAS STAR WISH LIST CHALKBOARD'),\n",
       " ('581475', '23235', 'STORAGE TIN VINTAGE LEAF'),\n",
       " ('581475', '23272', 'TREE T-LIGHT HOLDER WILLIE WINKIE'),\n",
       " ('581475', '23239', 'SET OF 4 KNICK KNACK TINS POPPIES'),\n",
       " ('581475', '21705', 'BAG 500g SWIRLY MARBLES')]"
      ]
     },
     "execution_count": 100,
     "metadata": {},
     "output_type": "execute_result"
    }
   ],
   "source": [
    "data.map(lambda x : x.split(\",\")).map(lambda x: (x[0],x[1],x[2]) ).take(5)"
   ]
  },
  {
   "cell_type": "code",
   "execution_count": 101,
   "id": "987e83ac-52a3-4071-bc65-ccea698a79df",
   "metadata": {},
   "outputs": [
    {
     "data": {
      "text/plain": [
       "['InvoiceNo,StockCode,Description,Quantity,InvoiceDate,UnitPrice,CustomerID,Country',\n",
       " '581475,22596,CHRISTMAS STAR WISH LIST CHALKBOARD,36,2011-12-09 08:39:00,0.39,13069.0,United Kingdom']"
      ]
     },
     "execution_count": 101,
     "metadata": {},
     "output_type": "execute_result"
    }
   ],
   "source": [
    "# 데이터 읽을때 빈 줄을 제거하고 읽기\n",
    "csv_lines =  spark.sparkContext.textFile(read_csv_)\n",
    "non_empty_lines = csv_lines.filter(lambda line : line.split() != \"\")\n",
    "non_empty_lines.take(2)"
   ]
  },
  {
   "cell_type": "code",
   "execution_count": 102,
   "id": "5239b339-a477-4a3d-b35e-97d7adf7e41c",
   "metadata": {},
   "outputs": [
    {
     "data": {
      "text/plain": [
       "['581475,22596,CHRISTMAS STAR WISH LIST CHALKBOARD,36,2011-12-09 08:39:00,0.39,13069.0,United Kingdom',\n",
       " '581475,23239,SET OF 4 KNICK KNACK TINS POPPIES,6,2011-12-09 08:39:00,1.65,13069.0,United Kingdom']"
      ]
     },
     "execution_count": 102,
     "metadata": {},
     "output_type": "execute_result"
    }
   ],
   "source": [
    "# 중복된 행을 제거\n",
    "data =  non_empty_lines.distinct()\n",
    "data.take(2)"
   ]
  },
  {
   "cell_type": "code",
   "execution_count": 104,
   "id": "305399eb-f9e8-4cf6-8bba-19fc239d97b9",
   "metadata": {},
   "outputs": [],
   "source": [
    "# 특정폴더 하위에 있는 모든 csv파일 읽어서 RDD 로합치기  glob or os\n",
    "# spark.sparContext.union"
   ]
  },
  {
   "cell_type": "code",
   "execution_count": 105,
   "id": "57d810ca-1d8e-4f1d-9870-6497d028a158",
   "metadata": {},
   "outputs": [],
   "source": [
    "from glob import glob"
   ]
  },
  {
   "cell_type": "code",
   "execution_count": 114,
   "id": "e29540db-8f79-47f8-b1cf-369a4d801887",
   "metadata": {},
   "outputs": [],
   "source": [
    "filepaths = '/root/spark/bydata/by-day/*.csv'\n",
    "files = glob(filepaths)"
   ]
  },
  {
   "cell_type": "code",
   "execution_count": 127,
   "id": "c437aa77-e49a-4dab-968f-757b3cf90369",
   "metadata": {},
   "outputs": [],
   "source": [
    "# 한개의 csv 파일을 읽어들여서 RDD로변경하는 함수\n",
    "def read_csv_to_rdd(file_path,header=None):\n",
    "    data = spark.sparkContext.textFile(file_path)\n",
    "    if header == None:\n",
    "        header = data.first()\n",
    "        data = csv_lines.filter(lambda line : line != header)    \n",
    "    return data    \n",
    "# 합치는 함수\n",
    "def merge_csv_files_folers(filepaths):\n",
    "    csv_file_lists = glob(filepaths)\n",
    "    return spark.sparkContext.union( [ read_csv_to_rdd(csvfile)  for csvfile in csv_file_lists ] )\n"
   ]
  },
  {
   "cell_type": "code",
   "execution_count": 117,
   "id": "f52d5823-1fb3-4d93-a668-fcf22626982e",
   "metadata": {},
   "outputs": [],
   "source": [
    "filepaths = '/root/spark/bydata/by-day/'\n",
    "all_csv_rdd = merge_csv_files_folers(filepaths)"
   ]
  },
  {
   "cell_type": "code",
   "execution_count": 119,
   "id": "a0e5fd21-b86d-4755-b7c2-7cc786fe76de",
   "metadata": {},
   "outputs": [
    {
     "data": {
      "text/plain": [
       "610"
      ]
     },
     "execution_count": 119,
     "metadata": {},
     "output_type": "execute_result"
    }
   ],
   "source": [
    "all_csv_rdd.getNumPartitions()"
   ]
  },
  {
   "cell_type": "code",
   "execution_count": 125,
   "id": "fa61307e-9881-4a32-90af-0c7587a9d6ed",
   "metadata": {},
   "outputs": [
    {
     "name": "stderr",
     "output_type": "stream",
     "text": [
      "                                                                                \r"
     ]
    },
    {
     "data": {
      "text/plain": [
       "['536392,22150,3 STRIPEY MICE FELTCRAFT,6,2010-12-01 10:29:00,1.95,13705.0,United Kingdom',\n",
       " '536569,21823,PAINTED METAL HEART WITH HOLLY BELL,4,2010-12-01 15:35:00,1.45,16274.0,United Kingdom']"
      ]
     },
     "execution_count": 125,
     "metadata": {},
     "output_type": "execute_result"
    }
   ],
   "source": [
    "len(all_csv_rdd.distinct().collect())\n",
    "distinct_all_csv_rdd = all_csv_rdd.distinct()\n",
    "distinct_all_csv_rdd.take(2)"
   ]
  },
  {
   "cell_type": "code",
   "execution_count": 124,
   "id": "88817b97-6e45-4599-9f3c-027725e8e7ab",
   "metadata": {},
   "outputs": [
    {
     "name": "stderr",
     "output_type": "stream",
     "text": [
      "                                                                                \r"
     ]
    },
    {
     "data": {
      "text/plain": [
       "542214"
      ]
     },
     "execution_count": 124,
     "metadata": {},
     "output_type": "execute_result"
    }
   ],
   "source": [
    "len(all_csv_rdd.collect())"
   ]
  },
  {
   "cell_type": "code",
   "execution_count": 131,
   "id": "636ae77f-6fb2-40b8-a097-a645720c7896",
   "metadata": {},
   "outputs": [
    {
     "name": "stderr",
     "output_type": "stream",
     "text": [
      "                                                                                \r"
     ]
    },
    {
     "data": {
      "text/plain": [
       "542214"
      ]
     },
     "execution_count": 131,
     "metadata": {},
     "output_type": "execute_result"
    }
   ],
   "source": [
    "# 파일이 있는 경로만 설정해도 파일 리딩이 가능\n",
    "new_files = '/root/spark/bydata/by-day/'\n",
    "new_read_csv = spark.sparkContext.textFile(new_files)\n",
    "len(new_read_csv.collect() )"
   ]
  },
  {
   "cell_type": "markdown",
   "id": "965802c6-b44a-4eec-9f2d-e261e13539b9",
   "metadata": {},
   "source": [
    "### advenced RDD"
   ]
  },
  {
   "cell_type": "code",
   "execution_count": 133,
   "id": "a4c07a1e-3d23-4a38-b87f-5608b266cdbe",
   "metadata": {},
   "outputs": [],
   "source": [
    "myCollection = \"Spark The Definitive Guide : Big Data Processing Made Simple\".split()"
   ]
  },
  {
   "cell_type": "code",
   "execution_count": 140,
   "id": "cbc44062-0b5a-4f61-b24d-dfb8b6d89032",
   "metadata": {},
   "outputs": [
    {
     "data": {
      "text/plain": [
       "['Spark', 'The']"
      ]
     },
     "execution_count": 140,
     "metadata": {},
     "output_type": "execute_result"
    }
   ],
   "source": [
    "words = spark.sparkContext.parallelize(myCollection,2)\n",
    "words.take(2)"
   ]
  },
  {
   "cell_type": "code",
   "execution_count": 137,
   "id": "5d482a45-4840-4069-b6af-2536f3f6518c",
   "metadata": {},
   "outputs": [
    {
     "data": {
      "text/plain": [
       "[('spark', 1),\n",
       " ('the', 1),\n",
       " ('definitive', 1),\n",
       " ('guide', 1),\n",
       " (':', 1),\n",
       " ('big', 1),\n",
       " ('data', 1),\n",
       " ('processing', 1),\n",
       " ('made', 1),\n",
       " ('simple', 1)]"
      ]
     },
     "execution_count": 137,
     "metadata": {},
     "output_type": "execute_result"
    }
   ],
   "source": [
    "words.map(lambda w : (w.lower(),1)).collect()"
   ]
  },
  {
   "cell_type": "code",
   "execution_count": 139,
   "id": "349edf14-4743-4f52-a925-bf2734a10feb",
   "metadata": {},
   "outputs": [
    {
     "data": {
      "text/plain": [
       "[('s', 'Spark'),\n",
       " ('t', 'The'),\n",
       " ('d', 'Definitive'),\n",
       " ('g', 'Guide'),\n",
       " (':', ':'),\n",
       " ('b', 'Big'),\n",
       " ('d', 'Data'),\n",
       " ('p', 'Processing'),\n",
       " ('m', 'Made'),\n",
       " ('s', 'Simple')]"
      ]
     },
     "execution_count": 139,
     "metadata": {},
     "output_type": "execute_result"
    }
   ],
   "source": [
    "words.keyBy(lambda w : w.lower()[0]).collect()"
   ]
  },
  {
   "cell_type": "code",
   "execution_count": 141,
   "id": "38906140-4188-4ba4-8832-3f259f3dd2e0",
   "metadata": {},
   "outputs": [],
   "source": [
    "keyword = words.keyBy(lambda w : w.lower()[0])"
   ]
  },
  {
   "cell_type": "code",
   "execution_count": 142,
   "id": "76bf1df1-1786-4a20-8df7-ef737d984e01",
   "metadata": {},
   "outputs": [
    {
     "data": {
      "text/plain": [
       "[('s', 'SPARK'),\n",
       " ('t', 'THE'),\n",
       " ('d', 'DEFINITIVE'),\n",
       " ('g', 'GUIDE'),\n",
       " (':', ':'),\n",
       " ('b', 'BIG'),\n",
       " ('d', 'DATA'),\n",
       " ('p', 'PROCESSING'),\n",
       " ('m', 'MADE'),\n",
       " ('s', 'SIMPLE')]"
      ]
     },
     "execution_count": 142,
     "metadata": {},
     "output_type": "execute_result"
    }
   ],
   "source": [
    "keyword.mapValues(lambda w: w.upper()).collect()"
   ]
  },
  {
   "cell_type": "code",
   "execution_count": 143,
   "id": "a127e31c-35e2-4776-987c-a5fe5b644ab0",
   "metadata": {
    "collapsed": true,
    "jupyter": {
     "outputs_hidden": true
    }
   },
   "outputs": [
    {
     "data": {
      "text/plain": [
       "[('s', 'S'),\n",
       " ('s', 'P'),\n",
       " ('s', 'A'),\n",
       " ('s', 'R'),\n",
       " ('s', 'K'),\n",
       " ('t', 'T'),\n",
       " ('t', 'H'),\n",
       " ('t', 'E'),\n",
       " ('d', 'D'),\n",
       " ('d', 'E'),\n",
       " ('d', 'F'),\n",
       " ('d', 'I'),\n",
       " ('d', 'N'),\n",
       " ('d', 'I'),\n",
       " ('d', 'T'),\n",
       " ('d', 'I'),\n",
       " ('d', 'V'),\n",
       " ('d', 'E'),\n",
       " ('g', 'G'),\n",
       " ('g', 'U'),\n",
       " ('g', 'I'),\n",
       " ('g', 'D'),\n",
       " ('g', 'E'),\n",
       " (':', ':'),\n",
       " ('b', 'B'),\n",
       " ('b', 'I'),\n",
       " ('b', 'G'),\n",
       " ('d', 'D'),\n",
       " ('d', 'A'),\n",
       " ('d', 'T'),\n",
       " ('d', 'A'),\n",
       " ('p', 'P'),\n",
       " ('p', 'R'),\n",
       " ('p', 'O'),\n",
       " ('p', 'C'),\n",
       " ('p', 'E'),\n",
       " ('p', 'S'),\n",
       " ('p', 'S'),\n",
       " ('p', 'I'),\n",
       " ('p', 'N'),\n",
       " ('p', 'G'),\n",
       " ('m', 'M'),\n",
       " ('m', 'A'),\n",
       " ('m', 'D'),\n",
       " ('m', 'E'),\n",
       " ('s', 'S'),\n",
       " ('s', 'I'),\n",
       " ('s', 'M'),\n",
       " ('s', 'P'),\n",
       " ('s', 'L'),\n",
       " ('s', 'E')]"
      ]
     },
     "execution_count": 143,
     "metadata": {},
     "output_type": "execute_result"
    }
   ],
   "source": [
    "keyword.flatMapValues(lambda w: w.upper()).collect()"
   ]
  },
  {
   "cell_type": "code",
   "execution_count": 145,
   "id": "77bd46e9-d0e5-462b-a1a8-fd3685342986",
   "metadata": {},
   "outputs": [
    {
     "data": {
      "text/plain": [
       "([('s', 'Spark'), ('t', 'The')], PythonRDD[819] at RDD at PythonRDD.scala:53)"
      ]
     },
     "execution_count": 145,
     "metadata": {},
     "output_type": "execute_result"
    }
   ],
   "source": [
    "keyword.take(2), keyword"
   ]
  },
  {
   "cell_type": "code",
   "execution_count": 149,
   "id": "03f75c5b-9aaa-455c-b5d1-ced3ba172318",
   "metadata": {
    "collapsed": true,
    "jupyter": {
     "outputs_hidden": true
    },
    "scrolled": true
   },
   "outputs": [
    {
     "data": {
      "text/plain": [
       "(['s', 't', 'd', 'g', ':', 'b', 'd', 'p', 'm', 's'],\n",
       " ['Spark',\n",
       "  'The',\n",
       "  'Definitive',\n",
       "  'Guide',\n",
       "  ':',\n",
       "  'Big',\n",
       "  'Data',\n",
       "  'Processing',\n",
       "  'Made',\n",
       "  'Simple'])"
      ]
     },
     "execution_count": 149,
     "metadata": {},
     "output_type": "execute_result"
    }
   ],
   "source": [
    "keyword.keys().collect(),  keyword.values().collect()"
   ]
  },
  {
   "cell_type": "code",
   "execution_count": null,
   "id": "31b692bc-37fb-482a-b948-c324b6e7af27",
   "metadata": {},
   "outputs": [],
   "source": [
    "# 각 단어에서 소문자로 변환된 문자들을 추출\n",
    "# 중복된 문자를 제거\n",
    "# 각 문자에서 무작위로 생성된 값을 가지는 샘플을 생성\n",
    "# 각 단어의 첫 문자를 키로하고 단어를 값으로 하는 키 - 값  쌍을 생성\n",
    "# sampleBykey() 함수를 사용해서 각 키에 대한 샘플을 추출"
   ]
  },
  {
   "cell_type": "code",
   "execution_count": 150,
   "id": "19de5b5a-6599-4b48-ad37-fdc20ecdea93",
   "metadata": {},
   "outputs": [],
   "source": [
    "import random"
   ]
  },
  {
   "cell_type": "code",
   "execution_count": 158,
   "id": "d7d11df5-7597-42d7-8ffd-ac67bcb6bc04",
   "metadata": {},
   "outputs": [],
   "source": [
    "distinctChar =  words.flatMap(lambda x : x.lower()).distinct().collect()"
   ]
  },
  {
   "cell_type": "code",
   "execution_count": 173,
   "id": "8c803a0b-fcf4-407b-aea9-49ffa429543a",
   "metadata": {},
   "outputs": [
    {
     "data": {
      "text/plain": [
       "[('t', 'The'), ('t', 'The'), ('g', 'Guide')]"
      ]
     },
     "execution_count": 173,
     "metadata": {},
     "output_type": "execute_result"
    }
   ],
   "source": [
    "sampleMap = dict( map(lambda c : (c, random.random()),distinctChar ) )\n",
    "words.map(lambda w:(w.lower()[0], w)).sampleByKey(True,sampleMap,6).collect()"
   ]
  },
  {
   "cell_type": "code",
   "execution_count": 174,
   "id": "48d2e75c-7f46-4458-a4e1-7ca6bd8bdb35",
   "metadata": {},
   "outputs": [
    {
     "data": {
      "text/plain": [
       "['s', 'p']"
      ]
     },
     "execution_count": 174,
     "metadata": {},
     "output_type": "execute_result"
    }
   ],
   "source": [
    "# words  단어리스트를 소문자로 변환한후 각 문자를 추출\n",
    "chars = words.flatMap(lambda w:w.lower())\n",
    "chars.take(2)"
   ]
  },
  {
   "cell_type": "code",
   "execution_count": 181,
   "id": "5a4e30f3-f78c-4c8c-a125-b07e9fd51e5c",
   "metadata": {},
   "outputs": [
    {
     "data": {
      "text/plain": [
       "([('s', 1), ('p', 1)], PythonRDD[869] at RDD at PythonRDD.scala:53)"
      ]
     },
     "execution_count": 181,
     "metadata": {},
     "output_type": "execute_result"
    }
   ],
   "source": [
    "# 각 문자를 (문자,1)형태로  키-값 변환\n",
    "dic_chars =  chars.map(lambda w:(w,1))\n",
    "dic_chars.take(2), dic_chars"
   ]
  },
  {
   "cell_type": "code",
   "execution_count": 180,
   "id": "4e6d6d39-e2d7-4d88-b87e-fbfd6412e6d1",
   "metadata": {},
   "outputs": [],
   "source": [
    "def maxFunc(left,right):\n",
    "    return max(left,right)\n",
    "def addFunc(left,right):\n",
    "    return left + right\n",
    "nums = spark.sparkContext.parallelize(range(1,31),5)    "
   ]
  },
  {
   "cell_type": "code",
   "execution_count": 182,
   "id": "1b74e32e-1016-4db5-a222-6750605edc27",
   "metadata": {
    "collapsed": true,
    "jupyter": {
     "outputs_hidden": true
    }
   },
   "outputs": [
    {
     "data": {
      "text/plain": [
       "[('s', 4),\n",
       " ('p', 3),\n",
       " ('r', 2),\n",
       " ('h', 1),\n",
       " ('d', 4),\n",
       " ('i', 7),\n",
       " ('g', 3),\n",
       " ('b', 1),\n",
       " ('c', 1),\n",
       " ('l', 1),\n",
       " ('a', 4),\n",
       " ('k', 1),\n",
       " ('t', 3),\n",
       " ('e', 7),\n",
       " ('f', 1),\n",
       " ('n', 2),\n",
       " ('v', 1),\n",
       " ('u', 1),\n",
       " (':', 1),\n",
       " ('o', 1),\n",
       " ('m', 2)]"
      ]
     },
     "execution_count": 182,
     "metadata": {},
     "output_type": "execute_result"
    }
   ],
   "source": [
    "# dic_chars을 이용해서 각 문자의 출현 빈도를 계산\n",
    "dic_chars.reduceByKey(lambda x,y : x+y).collect()"
   ]
  },
  {
   "cell_type": "code",
   "execution_count": 183,
   "id": "5aab9eb0-7500-458d-be7b-bd613371a693",
   "metadata": {},
   "outputs": [
    {
     "name": "stdout",
     "output_type": "stream",
     "text": [
      "max value : 30\n",
      "total_sum : 465\n"
     ]
    }
   ],
   "source": [
    "# num 에서 최대값과\n",
    "max_value =  nums.reduce(maxFunc)\n",
    "print(f'max value : {max_value}')\n",
    "# num 에서 모든 값의 합\n",
    "total_sum = nums.reduce(addFunc)\n",
    "print(f'total_sum : {total_sum}')\n"
   ]
  },
  {
   "cell_type": "code",
   "execution_count": 184,
   "id": "6ea6508b-1c65-4b4b-a0f8-a492f7a08d9f",
   "metadata": {
    "collapsed": true,
    "jupyter": {
     "outputs_hidden": true
    }
   },
   "outputs": [
    {
     "data": {
      "text/plain": [
       "defaultdict(int,\n",
       "            {'s': 4,\n",
       "             'p': 3,\n",
       "             'a': 4,\n",
       "             'r': 2,\n",
       "             'k': 1,\n",
       "             't': 3,\n",
       "             'h': 1,\n",
       "             'e': 7,\n",
       "             'd': 4,\n",
       "             'f': 1,\n",
       "             'i': 7,\n",
       "             'n': 2,\n",
       "             'v': 1,\n",
       "             'g': 3,\n",
       "             'u': 1,\n",
       "             ':': 1,\n",
       "             'b': 1,\n",
       "             'o': 1,\n",
       "             'c': 1,\n",
       "             'm': 2,\n",
       "             'l': 1})"
      ]
     },
     "execution_count": 184,
     "metadata": {},
     "output_type": "execute_result"
    }
   ],
   "source": [
    "dic_chars.countByKey()"
   ]
  },
  {
   "cell_type": "code",
   "execution_count": 185,
   "id": "53f23928-2737-4f78-a991-3ddbf78338cc",
   "metadata": {
    "collapsed": true,
    "jupyter": {
     "outputs_hidden": true
    }
   },
   "outputs": [
    {
     "data": {
      "text/plain": [
       "[('s', 4),\n",
       " ('p', 3),\n",
       " ('r', 2),\n",
       " ('h', 1),\n",
       " ('d', 4),\n",
       " ('i', 7),\n",
       " ('g', 3),\n",
       " ('b', 1),\n",
       " ('c', 1),\n",
       " ('l', 1),\n",
       " ('a', 4),\n",
       " ('k', 1),\n",
       " ('t', 3),\n",
       " ('e', 7),\n",
       " ('f', 1),\n",
       " ('n', 2),\n",
       " ('v', 1),\n",
       " ('u', 1),\n",
       " (':', 1),\n",
       " ('o', 1),\n",
       " ('m', 2)]"
      ]
     },
     "execution_count": 185,
     "metadata": {},
     "output_type": "execute_result"
    }
   ],
   "source": [
    "from functools import reduce\n",
    "dic_chars.groupByKey().map(lambda row : (row[0], reduce(addFunc,row[1]))).collect()"
   ]
  },
  {
   "cell_type": "code",
   "execution_count": 188,
   "id": "592f7961-e3b5-4657-82a9-d79cff05d872",
   "metadata": {},
   "outputs": [
    {
     "data": {
      "text/plain": [
       "90"
      ]
     },
     "execution_count": 188,
     "metadata": {},
     "output_type": "execute_result"
    }
   ],
   "source": [
    "nums.aggregate(0,maxFunc,addFunc)  # 초기 값은 0 이고 파티션별로 시퀀스연산(maxFunc)을 하고 그 결과를 병합연산(addFunc)\n",
    "# 모든 파티션의 최대값의  합"
   ]
  },
  {
   "cell_type": "code",
   "execution_count": 190,
   "id": "287002fe-16b5-4f84-8cee-fbe808df4ce5",
   "metadata": {},
   "outputs": [
    {
     "data": {
      "text/plain": [
       "90"
      ]
     },
     "execution_count": 190,
     "metadata": {},
     "output_type": "execute_result"
    }
   ],
   "source": [
    "# RDD의 요소를 병렬로 집계\n",
    "depth = 3\n",
    "nums.treeAggregate(0,maxFunc,addFunc,depth) "
   ]
  },
  {
   "cell_type": "code",
   "execution_count": null,
   "id": "26bab3f5-d6f2-44b6-b60c-37f08117aa47",
   "metadata": {
    "collapsed": true,
    "jupyter": {
     "outputs_hidden": true
    }
   },
   "outputs": [],
   "source": [
    "# RDD 키별로 값을 집계하는 작업\n",
    "dic_chars.aggregateByKey(0,addFunc,maxFunc).collect()"
   ]
  },
  {
   "cell_type": "markdown",
   "id": "d154b41f-4e38-47eb-ad42-9d2accd8f9dc",
   "metadata": {},
   "source": [
    "### CSV 파일 로드하고 전처리해서 parquet으로 저장하기\n",
    "### mysql write"
   ]
  },
  {
   "cell_type": "code",
   "execution_count": 194,
   "id": "23901fef-27dc-4988-8c85-283bd7cb7228",
   "metadata": {},
   "outputs": [],
   "source": [
    "from pyspark.sql import SQLContext\n",
    "from pyspark.sql.functions import *"
   ]
  },
  {
   "cell_type": "code",
   "execution_count": 203,
   "id": "a040d7e0-3886-4d7c-a7c5-56f281248d37",
   "metadata": {},
   "outputs": [
    {
     "name": "stdout",
     "output_type": "stream",
     "text": [
      "+----------+-------+---+--------------------+----------------+---------+\n",
      "|actiontype|ismydoc|ext|           sessionid|documentposition| datetime|\n",
      "+----------+-------+---+--------------------+----------------+---------+\n",
      "|      OPEN|  false|PDF|9400fd2e43d7dc2d0...|    LOCALSTORAGE|2016.7.18|\n",
      "|     CLOSE|  false|PDF|9400fd2e43d7dc2d0...|    LOCALSTORAGE|2016.7.18|\n",
      "+----------+-------+---+--------------------+----------------+---------+\n",
      "only showing top 2 rows\n",
      "\n"
     ]
    }
   ],
   "source": [
    "# read csv file\n",
    "spark_df = spark.read.format('csv').option('header','true').option('inferSchema','true').load('doc_log.csv')\n",
    "spark_df.show(2)"
   ]
  },
  {
   "cell_type": "code",
   "execution_count": 204,
   "id": "250f75e5-89c5-48ee-9a7c-7e721b30eaaa",
   "metadata": {},
   "outputs": [],
   "source": [
    "# 임시테이블로 등록  spark_df\n",
    "spark_df.createOrReplaceTempView('spark_df')"
   ]
  },
  {
   "cell_type": "code",
   "execution_count": 208,
   "id": "4ff7603d-d033-4a51-9bf4-585b59e2dfe7",
   "metadata": {},
   "outputs": [
    {
     "name": "stdout",
     "output_type": "stream",
     "text": [
      "+----------+-------+---+--------------------------------+----------------+---------+\n",
      "|actiontype|ismydoc|ext|sessionid                       |documentposition|datetime |\n",
      "+----------+-------+---+--------------------------------+----------------+---------+\n",
      "|OPEN      |true   |PDF|9400fd2e43d7dc2d054ca78806236ee1|MYPOLARISDRIVE  |2016.7.18|\n",
      "|CLOSE     |true   |PDF|9400fd2e43d7dc2d054ca78806236ee1|MYPOLARISDRIVE  |2016.7.18|\n",
      "|RESET     |true   |PDF|f191063c562691041dfa935ff0876975|OTHERAPP        |2016.7.6 |\n",
      "|OPEN      |true   |PDF|3da5ab986c93803de1e25012d9972274|OTHERAPP        |2016.7.28|\n",
      "|RESET     |true   |PDF|9e37751e132b5eb96e7d3fde7db132e3|OTHERAPP        |2016.7.19|\n",
      "+----------+-------+---+--------------------------------+----------------+---------+\n",
      "only showing top 5 rows\n",
      "\n"
     ]
    }
   ],
   "source": [
    "# ismydoc = treu\n",
    "df1 = spark.sql(\"select * from spark_df where ismydoc = true\")\n",
    "df1.show(5,False)"
   ]
  },
  {
   "cell_type": "code",
   "execution_count": 212,
   "id": "a5fcc37d-040f-4442-bed8-612ca04fdeb9",
   "metadata": {},
   "outputs": [
    {
     "name": "stderr",
     "output_type": "stream",
     "text": [
      "24/03/25 16:19:37 WARN CacheManager: Asked to cache already cached data.\n"
     ]
    },
    {
     "data": {
      "text/plain": [
       "301861"
      ]
     },
     "execution_count": 212,
     "metadata": {},
     "output_type": "execute_result"
    }
   ],
   "source": [
    "# sessionid,ext 컬럼중에서 ext = PDF 또는  ext == DOC인 데이터들중에서 중복데이터를 제거하고 캐쉬\n",
    "df2 = spark.sql('select * from spark_df')\n",
    "df2_pdf =  df2.select('sessionid','ext').filter(\"ext=='PDF' or ext=='DOC'\").dropDuplicates().cache()\n",
    "df2.count()"
   ]
  },
  {
   "cell_type": "code",
   "execution_count": 215,
   "id": "81129744-4783-4ce9-b02f-4df38945b897",
   "metadata": {},
   "outputs": [
    {
     "name": "stderr",
     "output_type": "stream",
     "text": [
      "[Stage 156:==========================================>          (161 + 4) / 200]\r"
     ]
    },
    {
     "name": "stdout",
     "output_type": "stream",
     "text": [
      "+--------------------+---+\n",
      "|           sessionid|ext|\n",
      "+--------------------+---+\n",
      "|551de498388693734...|PDF|\n",
      "|ffef6402dac05483f...|PDF|\n",
      "+--------------------+---+\n",
      "only showing top 2 rows\n",
      "\n"
     ]
    },
    {
     "name": "stderr",
     "output_type": "stream",
     "text": [
      "                                                                                \r"
     ]
    }
   ],
   "source": [
    "df2_pdf.show(2)"
   ]
  },
  {
   "cell_type": "code",
   "execution_count": 218,
   "id": "6d6582b4-82cc-4f3e-9c18-69e9fa6ba2ca",
   "metadata": {},
   "outputs": [
    {
     "name": "stdout",
     "output_type": "stream",
     "text": [
      "+--------------------+---------+\n",
      "|           sessionid| min_date|\n",
      "+--------------------+---------+\n",
      "|00042bfc107cef995...| 2016.7.9|\n",
      "|00050ec6afac496d0...|2016.7.14|\n",
      "+--------------------+---------+\n",
      "only showing top 2 rows\n",
      "\n"
     ]
    },
    {
     "name": "stderr",
     "output_type": "stream",
     "text": [
      "                                                                                \r"
     ]
    }
   ],
   "source": [
    "# sessionid 별로 datetime의 최소값\n",
    "df2_min_date = df2.groupBy(['sessionid']).agg(min('datetime').alias('min_date'))\n",
    "df2_min_date.show(2)"
   ]
  },
  {
   "cell_type": "code",
   "execution_count": 220,
   "id": "e736e59f-8bf4-45f1-b964-7cf3e09934d3",
   "metadata": {},
   "outputs": [
    {
     "name": "stderr",
     "output_type": "stream",
     "text": [
      "[Stage 170:==============>                                          (1 + 3) / 4]\r"
     ]
    },
    {
     "name": "stdout",
     "output_type": "stream",
     "text": [
      "+--------------------+---+---------+\n",
      "|           sessionid|ext| min_date|\n",
      "+--------------------+---+---------+\n",
      "|551de498388693734...|PDF| 2016.7.9|\n",
      "|ffef6402dac05483f...|PDF|2016.7.12|\n",
      "|635a5c8d3df7b0a40...|PDF|2016.7.15|\n",
      "|c389b7b211b044b56...|PDF|2016.7.22|\n",
      "|7fb01e6cc98ece873...|DOC| 2016.7.1|\n",
      "+--------------------+---+---------+\n",
      "only showing top 5 rows\n",
      "\n"
     ]
    },
    {
     "name": "stderr",
     "output_type": "stream",
     "text": [
      "                                                                                \r"
     ]
    }
   ],
   "source": [
    "# df2_pdf 를 마스터로 해서 df2_min_date 병합\n",
    "# df2_pdf 목록은 전부 나오게하고 매칭 안되는 데이터는 na \n",
    "df2_join = df2_pdf.join(df2_min_date,'sessionid','left')\n",
    "df2_join.show(5)                        \n",
    "                        "
   ]
  },
  {
   "cell_type": "code",
   "execution_count": 226,
   "id": "54553919-d47b-4e54-8226-442dce4200a5",
   "metadata": {},
   "outputs": [
    {
     "name": "stdout",
     "output_type": "stream",
     "text": [
      "+-------------------------------------+\n",
      "|sum(CAST((sessionid IS NULL) AS INT))|\n",
      "+-------------------------------------+\n",
      "|                                    0|\n",
      "+-------------------------------------+\n",
      "\n"
     ]
    },
    {
     "name": "stderr",
     "output_type": "stream",
     "text": [
      "                                                                                \r"
     ]
    }
   ],
   "source": [
    "# 결측치 조사\n",
    "df2_join.select(sum(col('sessionid').isNull().cast('int') )).show()"
   ]
  },
  {
   "cell_type": "code",
   "execution_count": 238,
   "id": "58a6750b-8fc0-4cf9-9f0f-bee4c8e5d0df",
   "metadata": {},
   "outputs": [
    {
     "data": {
      "text/plain": [
       "[DataFrame[sessionid: bigint],\n",
       " DataFrame[ext: bigint],\n",
       " DataFrame[min_date: bigint]]"
      ]
     },
     "execution_count": 238,
     "metadata": {},
     "output_type": "execute_result"
    }
   ],
   "source": [
    "# 모든 열에 대해서 결측치 여부 조사\n",
    "result = []\n",
    "for col_name in df2_join.columns:\n",
    "    result.append(df2_join.select(sum(col(col_name).isNull().cast('int') ).alias(col_name)   ))\n",
    "result"
   ]
  },
  {
   "cell_type": "code",
   "execution_count": null,
   "id": "d6e78b64-475f-43b3-9df3-a7a31aa9fc94",
   "metadata": {},
   "outputs": [],
   "source": []
  }
 ],
 "metadata": {
  "kernelspec": {
   "display_name": "Python 3 (ipykernel)",
   "language": "python",
   "name": "python3"
  },
  "language_info": {
   "codemirror_mode": {
    "name": "ipython",
    "version": 3
   },
   "file_extension": ".py",
   "mimetype": "text/x-python",
   "name": "python",
   "nbconvert_exporter": "python",
   "pygments_lexer": "ipython3",
   "version": "3.9.10"
  }
 },
 "nbformat": 4,
 "nbformat_minor": 5
}
