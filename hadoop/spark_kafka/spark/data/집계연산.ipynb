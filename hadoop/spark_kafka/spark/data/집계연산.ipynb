{
 "cells": [
  {
   "cell_type": "code",
   "execution_count": 2,
   "id": "123bb627-5e06-4888-bd31-25051c8093f2",
   "metadata": {},
   "outputs": [],
   "source": [
    "filepath = 'bydata/by-day/*.csv'"
   ]
  },
  {
   "cell_type": "code",
   "execution_count": 3,
   "id": "548305ec-521c-4ab1-9bf6-2c1fa92d461f",
   "metadata": {},
   "outputs": [
    {
     "name": "stderr",
     "output_type": "stream",
     "text": [
      "                                                                                \r"
     ]
    }
   ],
   "source": [
    "df = spark.read.format('csv').option('header','true')\\\n",
    ".option('inferSchema','true').load(filepath).coalesce(5)\n",
    "df.cache()  # 데이터를 캐쉬해서 반복작업에서 성능향상\n",
    "df.createOrReplaceTempView('dfTable')"
   ]
  },
  {
   "cell_type": "code",
   "execution_count": 5,
   "id": "2a9cebed-ffff-483d-b424-3c36616d5075",
   "metadata": {},
   "outputs": [
    {
     "data": {
      "text/plain": [
       "StructType([StructField('InvoiceNo', StringType(), True), StructField('StockCode', StringType(), True), StructField('Description', StringType(), True), StructField('Quantity', IntegerType(), True), StructField('InvoiceDate', TimestampType(), True), StructField('UnitPrice', DoubleType(), True), StructField('CustomerID', DoubleType(), True), StructField('Country', StringType(), True)])"
      ]
     },
     "execution_count": 5,
     "metadata": {},
     "output_type": "execute_result"
    }
   ],
   "source": [
    "df.schema"
   ]
  },
  {
   "cell_type": "code",
   "execution_count": 6,
   "id": "027cfe7d-6096-4e5e-99ff-bc96949b1d5f",
   "metadata": {},
   "outputs": [],
   "source": [
    "from pyspark.sql.functions import *"
   ]
  },
  {
   "cell_type": "code",
   "execution_count": 9,
   "id": "92c0058c-4cff-44a1-b378-06887c10ff4c",
   "metadata": {},
   "outputs": [
    {
     "name": "stdout",
     "output_type": "stream",
     "text": [
      "+------+\n",
      "|   cnt|\n",
      "+------+\n",
      "|541909|\n",
      "+------+\n",
      "\n"
     ]
    }
   ],
   "source": [
    "# StockCode - count\n",
    "df.select(count(\"StockCode\").alias('cnt')).show()"
   ]
  },
  {
   "cell_type": "code",
   "execution_count": 12,
   "id": "7cd66474-211e-4fc3-86fd-b9c33504d27b",
   "metadata": {},
   "outputs": [
    {
     "name": "stdout",
     "output_type": "stream",
     "text": [
      "+--------------------------------+\n",
      "|approx_count_distinct(StockCode)|\n",
      "+--------------------------------+\n",
      "|                            2944|\n",
      "+--------------------------------+\n",
      "\n"
     ]
    }
   ],
   "source": [
    "df.select(approx_count_distinct('StockCode', 0.2)).show()"
   ]
  },
  {
   "cell_type": "code",
   "execution_count": 13,
   "id": "7f806bc7-013e-4799-8df5-98b6adeb64aa",
   "metadata": {},
   "outputs": [
    {
     "name": "stdout",
     "output_type": "stream",
     "text": [
      "+----------------+---------------+\n",
      "|first(StockCode)|last(StockCode)|\n",
      "+----------------+---------------+\n",
      "|           23084|          22168|\n",
      "+----------------+---------------+\n",
      "\n"
     ]
    }
   ],
   "source": [
    "df.select(first('StockCode'), last('StockCode')).show()"
   ]
  },
  {
   "cell_type": "code",
   "execution_count": 17,
   "id": "82bd470d-5bb7-40ef-9b9a-3657c2191307",
   "metadata": {},
   "outputs": [
    {
     "name": "stdout",
     "output_type": "stream",
     "text": [
      "+-------------+-------------+\n",
      "|min(Quantity)|max(Quantity)|\n",
      "+-------------+-------------+\n",
      "|       -80995|        80995|\n",
      "+-------------+-------------+\n",
      "\n"
     ]
    }
   ],
   "source": [
    "df.select(min('Quantity'), max('Quantity')).show()"
   ]
  },
  {
   "cell_type": "code",
   "execution_count": 18,
   "id": "4c18f8fa-8150-4f74-8a41-dee883a10fc3",
   "metadata": {},
   "outputs": [
    {
     "name": "stdout",
     "output_type": "stream",
     "text": [
      "+-------------+\n",
      "|sum(Quantity)|\n",
      "+-------------+\n",
      "|      5176450|\n",
      "+-------------+\n",
      "\n"
     ]
    }
   ],
   "source": [
    "df.select(sum('Quantity')).show()"
   ]
  },
  {
   "cell_type": "code",
   "execution_count": 19,
   "id": "72d61de3-e233-4724-9762-28557284b14b",
   "metadata": {},
   "outputs": [
    {
     "name": "stderr",
     "output_type": "stream",
     "text": [
      "/root/spark/python/pyspark/sql/functions.py:988: FutureWarning: Deprecated in 3.2, use sum_distinct instead.\n",
      "  warnings.warn(\"Deprecated in 3.2, use sum_distinct instead.\", FutureWarning)\n"
     ]
    },
    {
     "name": "stdout",
     "output_type": "stream",
     "text": [
      "+----------------------+\n",
      "|sum(DISTINCT Quantity)|\n",
      "+----------------------+\n",
      "|                 29310|\n",
      "+----------------------+\n",
      "\n"
     ]
    }
   ],
   "source": [
    "df.select(sumDistinct('Quantity')).show()"
   ]
  },
  {
   "cell_type": "code",
   "execution_count": 20,
   "id": "9894b846-92ed-4e20-85db-1e352b15dfca",
   "metadata": {},
   "outputs": [
    {
     "name": "stdout",
     "output_type": "stream",
     "text": [
      "+----------------------+\n",
      "|sum(DISTINCT Quantity)|\n",
      "+----------------------+\n",
      "|                 29310|\n",
      "+----------------------+\n",
      "\n"
     ]
    }
   ],
   "source": [
    "df.select(sum_distinct('Quantity')).show()"
   ]
  },
  {
   "cell_type": "code",
   "execution_count": 21,
   "id": "8656af9f-6b76-499e-bc60-bff4e46310e0",
   "metadata": {},
   "outputs": [
    {
     "name": "stdout",
     "output_type": "stream",
     "text": [
      "+--------------+------------+----------------+----------------+---------------+\n",
      "|quantity_total|quantity_sum|    quantity_avg|   quantity_mean|quantity_median|\n",
      "+--------------+------------+----------------+----------------+---------------+\n",
      "|        541909|     5176450|9.55224954743324|9.55224954743324|            3.0|\n",
      "+--------------+------------+----------------+----------------+---------------+\n",
      "\n"
     ]
    }
   ],
   "source": [
    "# Quantity  sum, count, avg , mean\n",
    "df.select(\n",
    "    count('Quantity').alias('quantity_total'),\n",
    "    sum('Quantity').alias('quantity_sum'),\n",
    "    avg('Quantity').alias('quantity_avg'),\n",
    "    mean('Quantity').alias('quantity_mean'),\n",
    "    median('Quantity').alias('quantity_median'),\n",
    ").show()"
   ]
  },
  {
   "cell_type": "code",
   "execution_count": 24,
   "id": "f167073c-3bc6-4af9-a851-73eb7e5685f5",
   "metadata": {},
   "outputs": [
    {
     "name": "stdout",
     "output_type": "stream",
     "text": [
      "+-------------------------+\n",
      "|corr(InvoiceNo, Quantity)|\n",
      "+-------------------------+\n",
      "|     4.912186085617365E-4|\n",
      "+-------------------------+\n",
      "\n"
     ]
    }
   ],
   "source": [
    "# corr 변수들간의 상관 관계 -1 ~ 1 사이의 범위를 가지며.. -1 또는 1가까울 수록 높은상관관계\n",
    "# 주의 할점... 이것이 인과관계를 나타내지 않는다.\n",
    "df.select(corr(\"InvoiceNo\",\"Quantity\")).show()"
   ]
  },
  {
   "cell_type": "code",
   "execution_count": 25,
   "id": "3f27aaf2-6708-4162-83d8-72c89d9c3250",
   "metadata": {},
   "outputs": [],
   "source": [
    "# covar_pop, covar_samp\n",
    "# 공분산 양수면 두 변수가 함께 증가 또는 감소, 음수면 한개가 증가할때 나머지가 감소\n"
   ]
  },
  {
   "cell_type": "code",
   "execution_count": 31,
   "id": "d4ac5832-02cd-4b39-9f99-71ae422337f7",
   "metadata": {},
   "outputs": [
    {
     "name": "stdout",
     "output_type": "stream",
     "text": [
      "+--------------------+---------------------+\n",
      "|collect_set(Country)|collect_list(Country)|\n",
      "+--------------------+---------------------+\n",
      "|[Portugal, Italy,...| [United Kingdom, ...|\n",
      "+--------------------+---------------------+\n",
      "\n"
     ]
    }
   ],
   "source": [
    "# collection_set, collection_list\n",
    "df.select(collect_set('Country'), collect_list('Country')).show()"
   ]
  },
  {
   "cell_type": "code",
   "execution_count": 32,
   "id": "5a97c56b-a1f3-40e2-9abd-0208984805e4",
   "metadata": {},
   "outputs": [
    {
     "data": {
      "text/plain": [
       "['InvoiceNo',\n",
       " 'StockCode',\n",
       " 'Description',\n",
       " 'Quantity',\n",
       " 'InvoiceDate',\n",
       " 'UnitPrice',\n",
       " 'CustomerID',\n",
       " 'Country']"
      ]
     },
     "execution_count": 32,
     "metadata": {},
     "output_type": "execute_result"
    }
   ],
   "source": [
    "df.columns"
   ]
  },
  {
   "cell_type": "code",
   "execution_count": 37,
   "id": "cee7c474-8527-478f-8037-b788970dcee8",
   "metadata": {},
   "outputs": [
    {
     "name": "stdout",
     "output_type": "stream",
     "text": [
      "+---------+---------------+---------------+\n",
      "|InvoiceNo|count(Quantity)|count(Quantity)|\n",
      "+---------+---------------+---------------+\n",
      "|   574966|              8|              8|\n",
      "|   575091|             38|             38|\n",
      "|   578057|             28|             28|\n",
      "+---------+---------------+---------------+\n",
      "only showing top 3 rows\n",
      "\n"
     ]
    }
   ],
   "source": [
    "# group by   InvoiceNo\n",
    "# Quantity  count\n",
    "df.groupBy('InvoiceNo').agg( count('Quantity'), expr('count(Quantity)')\n",
    "                           ).show(3)"
   ]
  },
  {
   "cell_type": "code",
   "execution_count": 57,
   "id": "5b9a00b9-13b3-41ac-b182-38c661e0c3e4",
   "metadata": {
    "collapsed": true,
    "jupyter": {
     "outputs_hidden": true
    }
   },
   "outputs": [
    {
     "name": "stdout",
     "output_type": "stream",
     "text": [
      "+-------------------+\n",
      "|        InvoiceDate|\n",
      "+-------------------+\n",
      "|2011-12-05 08:38:00|\n",
      "|2011-12-05 08:38:00|\n",
      "+-------------------+\n",
      "only showing top 2 rows\n",
      "\n",
      "+-------------------------------------+\n",
      "|to_date(InvoiceDate, yyyy-MM-dd H:mm)|\n",
      "+-------------------------------------+\n",
      "|                           2011-12-05|\n",
      "|                           2011-12-05|\n",
      "+-------------------------------------+\n",
      "only showing top 2 rows\n",
      "\n"
     ]
    }
   ],
   "source": [
    "df.select('InvoiceDate').show(2)\n",
    "#  년 월 일\n",
    "# to_date(value, formatstring)\n",
    "df.select(to_date(col('InvoiceDate'), \"yyyy-MM-dd H:mm\")).show(2)  # 확인해 볼 것-->"
   ]
  },
  {
   "cell_type": "code",
   "execution_count": 64,
   "id": "090b5d6d-bc93-4ff4-b1fe-550bad2b3fea",
   "metadata": {
    "collapsed": true,
    "jupyter": {
     "outputs_hidden": true
    }
   },
   "outputs": [
    {
     "name": "stdout",
     "output_type": "stream",
     "text": [
      "+---------+---------+-------------------+--------+-------------------+---------+----------+--------------+----------+\n",
      "|InvoiceNo|StockCode|        Description|Quantity|        InvoiceDate|UnitPrice|CustomerID|       Country|      date|\n",
      "+---------+---------+-------------------+--------+-------------------+---------+----------+--------------+----------+\n",
      "|   580538|    23084| RABBIT NIGHT LIGHT|      48|2011-12-05 08:38:00|     1.79|   14075.0|United Kingdom|2011-12-05|\n",
      "|   580538|    23077|DOUGHNUT LIP GLOSS |      20|2011-12-05 08:38:00|     1.25|   14075.0|United Kingdom|2011-12-05|\n",
      "+---------+---------+-------------------+--------+-------------------+---------+----------+--------------+----------+\n",
      "only showing top 2 rows\n",
      "\n"
     ]
    }
   ],
   "source": [
    "dfWithDate = df.withColumn('date',to_date('InvoiceDate'))\n",
    "dfWithDate.show(2)"
   ]
  },
  {
   "cell_type": "code",
   "execution_count": 58,
   "id": "6a24047d-4361-4251-9e19-83304865d38f",
   "metadata": {},
   "outputs": [],
   "source": [
    "#  시계열성 데이터중에서 파티션별로 정렬"
   ]
  },
  {
   "cell_type": "code",
   "execution_count": 60,
   "id": "0c6884f2-139a-4e42-82ea-6a730f2a80e1",
   "metadata": {},
   "outputs": [
    {
     "data": {
      "text/plain": [
       "['InvoiceNo',\n",
       " 'StockCode',\n",
       " 'Description',\n",
       " 'Quantity',\n",
       " 'InvoiceDate',\n",
       " 'UnitPrice',\n",
       " 'CustomerID',\n",
       " 'Country']"
      ]
     },
     "execution_count": 60,
     "metadata": {},
     "output_type": "execute_result"
    }
   ],
   "source": [
    "df.columns"
   ]
  },
  {
   "cell_type": "code",
   "execution_count": 65,
   "id": "648da4aa-2229-4769-aae4-b4c7290e35f6",
   "metadata": {},
   "outputs": [],
   "source": [
    "from pyspark.sql.window import Window\n",
    "windowSpec = Window.partitionBy('CustomerID','date').orderBy(desc('Quantity'))\\\n",
    ".rowsBetween(Window.unboundedPreceding,Window.currentRow)"
   ]
  },
  {
   "cell_type": "code",
   "execution_count": 66,
   "id": "4995b12e-2230-4044-ac49-64558cdb3305",
   "metadata": {},
   "outputs": [],
   "source": [
    "dense_rank_data =  dense_rank().over(windowSpec)\n",
    "rank_data = rank().over(windowSpec)"
   ]
  },
  {
   "cell_type": "code",
   "execution_count": 69,
   "id": "f2344cf0-dd3d-4cde-806d-ac2f39489231",
   "metadata": {},
   "outputs": [
    {
     "data": {
      "text/plain": [
       "['InvoiceNo',\n",
       " 'StockCode',\n",
       " 'Description',\n",
       " 'Quantity',\n",
       " 'InvoiceDate',\n",
       " 'UnitPrice',\n",
       " 'CustomerID',\n",
       " 'Country',\n",
       " 'date']"
      ]
     },
     "execution_count": 69,
     "metadata": {},
     "output_type": "execute_result"
    }
   ],
   "source": [
    "dfWithDate.columns"
   ]
  },
  {
   "cell_type": "code",
   "execution_count": 71,
   "id": "d3416b6f-7c2c-411b-a8c8-03aca9f6bd8c",
   "metadata": {},
   "outputs": [
    {
     "name": "stdout",
     "output_type": "stream",
     "text": [
      "+----------+----------+--------+---------+---------------+\n",
      "|CustomerID|      date|Quantity|rank_data|dense_rank_data|\n",
      "+----------+----------+--------+---------+---------------+\n",
      "|   12346.0|2011-01-18|   74215|        1|              1|\n",
      "|   12346.0|2011-01-18|  -74215|        2|              2|\n",
      "|   12347.0|2010-12-07|      36|        1|              1|\n",
      "|   12347.0|2010-12-07|      30|        2|              2|\n",
      "|   12347.0|2010-12-07|      24|        3|              3|\n",
      "|   12347.0|2010-12-07|      12|        4|              4|\n",
      "|   12347.0|2010-12-07|      12|        4|              4|\n",
      "|   12347.0|2010-12-07|      12|        4|              4|\n",
      "|   12347.0|2010-12-07|      12|        4|              4|\n",
      "|   12347.0|2010-12-07|      12|        4|              4|\n",
      "|   12347.0|2010-12-07|      12|        4|              4|\n",
      "|   12347.0|2010-12-07|      12|        4|              4|\n",
      "|   12347.0|2010-12-07|      12|        4|              4|\n",
      "|   12347.0|2010-12-07|      12|        4|              4|\n",
      "|   12347.0|2010-12-07|      12|        4|              4|\n",
      "|   12347.0|2010-12-07|      12|        4|              4|\n",
      "|   12347.0|2010-12-07|      12|        4|              4|\n",
      "|   12347.0|2010-12-07|      12|        4|              4|\n",
      "|   12347.0|2010-12-07|       6|       17|              5|\n",
      "|   12347.0|2010-12-07|       6|       17|              5|\n",
      "+----------+----------+--------+---------+---------------+\n",
      "only showing top 20 rows\n",
      "\n"
     ]
    }
   ],
   "source": [
    "dfWithDate.where('CustomerID IS NOT NULL').orderBy('CustomerID')\\\n",
    ".select(\n",
    "    'CustomerID','date','Quantity',\n",
    "    rank_data.alias('rank_data'),dense_rank_data.alias('dense_rank_data')\n",
    ").show()\n",
    "\n"
   ]
  },
  {
   "cell_type": "code",
   "execution_count": null,
   "id": "f49c9245-0407-4202-80de-554e628fa05e",
   "metadata": {},
   "outputs": [],
   "source": []
  }
 ],
 "metadata": {
  "kernelspec": {
   "display_name": "Python 3 (ipykernel)",
   "language": "python",
   "name": "python3"
  },
  "language_info": {
   "codemirror_mode": {
    "name": "ipython",
    "version": 3
   },
   "file_extension": ".py",
   "mimetype": "text/x-python",
   "name": "python",
   "nbconvert_exporter": "python",
   "pygments_lexer": "ipython3",
   "version": "3.9.10"
  }
 },
 "nbformat": 4,
 "nbformat_minor": 5
}
