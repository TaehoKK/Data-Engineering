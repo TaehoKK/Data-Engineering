{
 "cells": [
  {
   "cell_type": "code",
   "execution_count": 1,
   "id": "a7aa6f20-700b-4028-affc-187818608cf8",
   "metadata": {},
   "outputs": [],
   "source": [
    "# static data read"
   ]
  },
  {
   "cell_type": "code",
   "execution_count": 3,
   "id": "58bcc55a-4a12-49b1-8d4c-d8e4badae917",
   "metadata": {},
   "outputs": [
    {
     "name": "stderr",
     "output_type": "stream",
     "text": [
      "                                                                                \r"
     ]
    }
   ],
   "source": [
    "static = spark.read.json(\"activity-data/\")"
   ]
  },
  {
   "cell_type": "code",
   "execution_count": 4,
   "id": "9f610444-cef4-40c1-bedf-fd7e40912be6",
   "metadata": {},
   "outputs": [
    {
     "name": "stdout",
     "output_type": "stream",
     "text": [
      "+-------------+-------------------+--------+-----+------+----+-----+------------+------------+------------+\n",
      "| Arrival_Time|      Creation_Time|  Device|Index| Model|User|   gt|           x|           y|           z|\n",
      "+-------------+-------------------+--------+-----+------+----+-----+------------+------------+------------+\n",
      "|1424686735090|1424686733090638193|nexus4_1|   18|nexus4|   g|stand| 3.356934E-4|-5.645752E-4|-0.018814087|\n",
      "|1424686735292|1424688581345918092|nexus4_2|   66|nexus4|   g|stand|-0.005722046| 0.029083252| 0.005569458|\n",
      "+-------------+-------------------+--------+-----+------+----+-----+------------+------------+------------+\n",
      "only showing top 2 rows\n",
      "\n"
     ]
    }
   ],
   "source": [
    "static.show(2)"
   ]
  },
  {
   "cell_type": "code",
   "execution_count": 5,
   "id": "463a50b0-3cd4-4b0f-b50f-f0ad2ad2cb3f",
   "metadata": {},
   "outputs": [],
   "source": [
    "# dynamic data processing\n",
    "streaming = spark.readStream.schema(static.schema)\\\n",
    "            .option(\"maxFilesPerTrigger\",10)\\\n",
    "            .json(\"activity-data/\")\\\n",
    "            .groupBy(\"gt\").count()"
   ]
  },
  {
   "cell_type": "code",
   "execution_count": 6,
   "id": "4fbbdaef-7713-4430-b3d0-60c85014e935",
   "metadata": {},
   "outputs": [
    {
     "name": "stderr",
     "output_type": "stream",
     "text": [
      "24/03/26 15:16:20 WARN ResolveWriteToStream: Temporary checkpoint location created which is deleted normally when the query didn't fail: /tmp/temporary-93c8a7e8-9b8f-4c88-ad40-7868206b4c4b. If it's required to delete it under any circumstances, please set spark.sql.streaming.forceDeleteTempCheckpointLocation to true. Important to know deleting temp checkpoint folder is best effort.\n",
      "24/03/26 15:16:20 WARN ResolveWriteToStream: spark.sql.adaptive.enabled is not supported in streaming DataFrames/Datasets and will be disabled.\n",
      "                                                                                \r"
     ]
    }
   ],
   "source": [
    "query = streaming.writeStream.outputMode(\"complete\").queryName(\"tb_gt_count\")\\\n",
    "                    .format(\"memory\").start()"
   ]
  },
  {
   "cell_type": "code",
   "execution_count": 9,
   "id": "5f24dd79-6d27-49cc-a42b-f58340f3060f",
   "metadata": {},
   "outputs": [
    {
     "name": "stdout",
     "output_type": "stream",
     "text": [
      "+----------+-------+\n",
      "|        gt|  count|\n",
      "+----------+-------+\n",
      "|  stairsup| 836598|\n",
      "|       sit| 984714|\n",
      "|     stand| 910783|\n",
      "|      walk|1060402|\n",
      "|      bike| 863710|\n",
      "|stairsdown| 749059|\n",
      "|      null| 835725|\n",
      "+----------+-------+\n",
      "\n"
     ]
    }
   ],
   "source": [
    "spark.sql(\"select * from tb_gt_count\").show()"
   ]
  },
  {
   "cell_type": "code",
   "execution_count": null,
   "id": "920b983f-2f82-4c98-95f1-653a356201cc",
   "metadata": {},
   "outputs": [],
   "source": []
  }
 ],
 "metadata": {
  "kernelspec": {
   "display_name": "Python 3 (ipykernel)",
   "language": "python",
   "name": "python3"
  },
  "language_info": {
   "codemirror_mode": {
    "name": "ipython",
    "version": 3
   },
   "file_extension": ".py",
   "mimetype": "text/x-python",
   "name": "python",
   "nbconvert_exporter": "python",
   "pygments_lexer": "ipython3",
   "version": "3.9.10"
  }
 },
 "nbformat": 4,
 "nbformat_minor": 5
}
