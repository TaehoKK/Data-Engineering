{
 "cells": [
  {
   "cell_type": "code",
   "execution_count": 1,
   "id": "d0863051-413a-40e5-8751-96eada3d9da3",
   "metadata": {},
   "outputs": [
    {
     "data": {
      "text/plain": [
       "DataFrame[number: bigint]"
      ]
     },
     "execution_count": 1,
     "metadata": {},
     "output_type": "execute_result"
    }
   ],
   "source": [
    "myrange = spark.range(1000).toDF(\"number\")\n",
    "myrange"
   ]
  },
  {
   "cell_type": "code",
   "execution_count": 2,
   "id": "b6802f19-2d7c-490b-a322-0a4d100432d7",
   "metadata": {
    "collapsed": true,
    "jupyter": {
     "outputs_hidden": true
    }
   },
   "outputs": [
    {
     "name": "stderr",
     "output_type": "stream",
     "text": [
      "                                                                                \r"
     ]
    },
    {
     "name": "stdout",
     "output_type": "stream",
     "text": [
      "+------+\n",
      "|number|\n",
      "+------+\n",
      "|     0|\n",
      "|     1|\n",
      "|     2|\n",
      "|     3|\n",
      "|     4|\n",
      "|     5|\n",
      "|     6|\n",
      "|     7|\n",
      "|     8|\n",
      "|     9|\n",
      "|    10|\n",
      "|    11|\n",
      "|    12|\n",
      "|    13|\n",
      "|    14|\n",
      "|    15|\n",
      "|    16|\n",
      "|    17|\n",
      "|    18|\n",
      "|    19|\n",
      "+------+\n",
      "only showing top 20 rows\n",
      "\n"
     ]
    }
   ],
   "source": [
    "myrange.show()"
   ]
  },
  {
   "cell_type": "code",
   "execution_count": 2,
   "id": "5d1368b6-e7eb-4d06-be32-1c8afa186ed3",
   "metadata": {},
   "outputs": [
    {
     "name": "stderr",
     "output_type": "stream",
     "text": [
      "                                                                                \r"
     ]
    }
   ],
   "source": [
    "staticDataFrame = spark.read.format(\"csv\")\\\n",
    "  .option(\"header\", \"true\")\\\n",
    "  .option(\"inferSchema\", \"true\")\\\n",
    "  .load(\"./bydata/by-day/*.csv\")"
   ]
  },
  {
   "cell_type": "markdown",
   "id": "82ea14be-421d-4121-b535-0da90542bb4a",
   "metadata": {},
   "source": [
    "# 임시테이블 생성"
   ]
  },
  {
   "cell_type": "code",
   "execution_count": 4,
   "id": "ed3e7d77-26f0-4c73-9712-4b417be0667e",
   "metadata": {},
   "outputs": [],
   "source": [
    "staticDataFrame.createOrReplaceTempView(\"retail_data\")"
   ]
  },
  {
   "cell_type": "markdown",
   "id": "d64d1804-c0d8-4f9c-96b2-3d2f221169d4",
   "metadata": {},
   "source": [
    "# 데이터 프레임의 스키마구조를 복사"
   ]
  },
  {
   "cell_type": "code",
   "execution_count": 5,
   "id": "55ec80bf-785c-4c64-8297-211ecae5c3d9",
   "metadata": {},
   "outputs": [],
   "source": [
    "staticSchema = staticDataFrame.schema"
   ]
  },
  {
   "cell_type": "markdown",
   "id": "8b9cfecb-29cc-4fe0-b964-57acc38914bb",
   "metadata": {},
   "source": [
    "# 정적인 데이터를 쿼리"
   ]
  },
  {
   "cell_type": "code",
   "execution_count": 6,
   "id": "64df21f3-816b-47ad-901c-a5ffba8c61eb",
   "metadata": {},
   "outputs": [
    {
     "name": "stderr",
     "output_type": "stream",
     "text": [
      "[Stage 4:==============================================>           (8 + 2) / 10]\r"
     ]
    },
    {
     "name": "stdout",
     "output_type": "stream",
     "text": [
      "+----------+--------------------+-----------------+\n",
      "|CustomerId|              window|  sum(total_cost)|\n",
      "+----------+--------------------+-----------------+\n",
      "|   16057.0|{2011-12-05 09:00...|            -37.6|\n",
      "|   14126.0|{2011-11-29 09:00...|643.6300000000001|\n",
      "|   13500.0|{2011-11-16 09:00...|497.9700000000001|\n",
      "|   17160.0|{2011-11-08 09:00...|516.8499999999999|\n",
      "|   15608.0|{2011-11-11 09:00...|            122.4|\n",
      "+----------+--------------------+-----------------+\n",
      "only showing top 5 rows\n",
      "\n"
     ]
    },
    {
     "name": "stderr",
     "output_type": "stream",
     "text": [
      "                                                                                \r"
     ]
    }
   ],
   "source": [
    "from pyspark.sql.functions import window, column, desc, col\n",
    "staticDataFrame\\\n",
    "  .selectExpr(\n",
    "    \"CustomerId\",\n",
    "    \"(UnitPrice * Quantity) as total_cost\",\n",
    "    \"InvoiceDate\")\\\n",
    "  .groupBy(\n",
    "    col(\"CustomerId\"), window(col(\"InvoiceDate\"), \"1 day\"))\\\n",
    "  .sum(\"total_cost\")\\\n",
    "  .show(5)"
   ]
  },
  {
   "cell_type": "markdown",
   "id": "8362fc28-e209-4170-a0a0-f180300a6c72",
   "metadata": {},
   "source": [
    "# 실시간 처리를 위해서 스트리밍 기술을 사용\n",
    "# 특정폴더의 데이터를 수집"
   ]
  },
  {
   "cell_type": "code",
   "execution_count": 7,
   "id": "ec09873c-a370-43ab-a705-eddb8319a42b",
   "metadata": {},
   "outputs": [
    {
     "name": "stderr",
     "output_type": "stream",
     "text": [
      "                                                                                \r"
     ]
    }
   ],
   "source": [
    "streamingDataFrame = spark.readStream\\\n",
    "    .schema(staticSchema)\\\n",
    "    .option(\"maxFilesPerTrigger\", 1)\\\n",
    "    .format(\"csv\")\\\n",
    "    .option(\"header\", \"true\")\\\n",
    "    .load(\"./bydata/by-day/*.csv\")"
   ]
  },
  {
   "cell_type": "markdown",
   "id": "73cf12d7-b31f-4d84-8024-a22d42787d77",
   "metadata": {},
   "source": [
    "# 수집한 데이터를 출력 - 테스트"
   ]
  },
  {
   "cell_type": "code",
   "execution_count": 8,
   "id": "cf4ffdb2-e5a1-40fc-9ce5-07853a3339aa",
   "metadata": {},
   "outputs": [],
   "source": [
    "purchaseByCustomerPerHour = streamingDataFrame\\\n",
    "  .selectExpr(\n",
    "    \"CustomerId\",\n",
    "    \"(UnitPrice * Quantity) as total_cost\",\n",
    "    \"InvoiceDate\")\\\n",
    "  .groupBy(\n",
    "    col(\"CustomerId\"), window(col(\"InvoiceDate\"), \"1 day\"))\\\n",
    "  .sum(\"total_cost\")"
   ]
  },
  {
   "cell_type": "markdown",
   "id": "68caead8-9383-4a46-b326-b6b8d206c09d",
   "metadata": {},
   "source": [
    "# 실시간 처리를 위해서 reading 하고 있는데이터를 메모리에 실시간으로 적재"
   ]
  },
  {
   "cell_type": "code",
   "execution_count": 12,
   "id": "d08376b5-4013-4a77-9e2a-a37d36f1e058",
   "metadata": {},
   "outputs": [
    {
     "name": "stderr",
     "output_type": "stream",
     "text": [
      "24/03/20 14:25:17 WARN ResolveWriteToStream: Temporary checkpoint location created which is deleted normally when the query didn't fail: /tmp/temporary-b63e6ae0-3dfe-4697-b83e-fa0cd7ce139b. If it's required to delete it under any circumstances, please set spark.sql.streaming.forceDeleteTempCheckpointLocation to true. Important to know deleting temp checkpoint folder is best effort.\n",
      "24/03/20 14:25:17 WARN ResolveWriteToStream: spark.sql.adaptive.enabled is not supported in streaming DataFrames/Datasets and will be disabled.\n"
     ]
    },
    {
     "data": {
      "text/plain": [
       "<pyspark.sql.streaming.query.StreamingQuery at 0x7f8dec9c25b0>"
      ]
     },
     "execution_count": 12,
     "metadata": {},
     "output_type": "execute_result"
    },
    {
     "name": "stderr",
     "output_type": "stream",
     "text": [
      "                                                                                \r"
     ]
    }
   ],
   "source": [
    "purchaseByCustomerPerHour.writeStream\\\n",
    "    .format(\"memory\")\\\n",
    "    .queryName(\"customer_purchases\")\\\n",
    "    .outputMode(\"complete\")\\\n",
    "    .start()"
   ]
  },
  {
   "cell_type": "markdown",
   "id": "195d1f65-8c37-439a-97eb-6f1bf16b7907",
   "metadata": {},
   "source": [
    "# 메모리에 적재된 데이터를 읽어옴"
   ]
  },
  {
   "cell_type": "code",
   "execution_count": 14,
   "id": "5aa68d69-6e0e-4490-9b62-bcc279e94bef",
   "metadata": {},
   "outputs": [
    {
     "name": "stderr",
     "output_type": "stream",
     "text": [
      "[Stage 25:=============>(186 + 4) / 200][Stage 26:>                 (0 + 0) / 4]\r"
     ]
    },
    {
     "name": "stdout",
     "output_type": "stream",
     "text": [
      "+----------+--------------------+------------------+\n",
      "|CustomerId|              window|   sum(total_cost)|\n",
      "+----------+--------------------+------------------+\n",
      "|   18102.0|{2010-12-07 09:00...|          25920.37|\n",
      "|      NULL|{2010-12-06 09:00...|23395.099999999904|\n",
      "|      NULL|{2010-12-03 09:00...| 23021.99999999999|\n",
      "|      NULL|{2010-12-01 09:00...|12584.299999999988|\n",
      "|   15061.0|{2010-12-02 09:00...| 9407.339999999998|\n",
      "+----------+--------------------+------------------+\n",
      "only showing top 5 rows\n",
      "\n"
     ]
    },
    {
     "name": "stderr",
     "output_type": "stream",
     "text": [
      "[Stage 44:====================================================> (194 + 4) / 200]\r"
     ]
    }
   ],
   "source": [
    "spark.sql(\"\"\"\n",
    "  SELECT *\n",
    "  FROM customer_purchases\n",
    "  ORDER BY `sum(total_cost)` DESC\n",
    "  \"\"\")\\\n",
    "  .show(5)"
   ]
  },
  {
   "cell_type": "markdown",
   "id": "7538d53d-ea94-41bf-b2bc-e6630862b067",
   "metadata": {},
   "source": [
    "# 스파크를이용한 전처리 방법\n",
    "### 결측치(NA )를 0으로 채움\n",
    "### 피처를 발굴 InvoiceDate를 기준으로 요일을 full name으로 추출해서 day_of_week 컬럼을 만들고 저장\n",
    "### 날자와같은 연속형 데이터를 범주형 데이터로 새롭게 추출"
   ]
  },
  {
   "cell_type": "code",
   "execution_count": 15,
   "id": "83cfec27-6466-4b25-89b5-b408e32545cd",
   "metadata": {},
   "outputs": [
    {
     "name": "stderr",
     "output_type": "stream",
     "text": [
      "[Stage 50:==================================================>   (186 + 4) / 200]\r"
     ]
    }
   ],
   "source": [
    "from pyspark.sql.functions import date_format, col\n",
    "preppedDataFrame = staticDataFrame\\\n",
    "  .na.fill(0)\\\n",
    "  .withColumn(\"day_of_week\", date_format(col(\"InvoiceDate\"), \"EEEE\"))\\\n",
    "  .coalesce(5)"
   ]
  },
  {
   "cell_type": "code",
   "execution_count": 17,
   "id": "0123a57c-6ab6-4fd9-aff3-fa4522d87d93",
   "metadata": {},
   "outputs": [
    {
     "name": "stderr",
     "output_type": "stream",
     "text": [
      "[Stage 54:=============>(190 + 4) / 200][Stage 55:>                 (0 + 0) / 1]\r"
     ]
    },
    {
     "name": "stdout",
     "output_type": "stream",
     "text": [
      "+---------+---------+--------------------+--------+-------------------+---------+----------+--------------+-----------+\n",
      "|InvoiceNo|StockCode|         Description|Quantity|        InvoiceDate|UnitPrice|CustomerID|       Country|day_of_week|\n",
      "+---------+---------+--------------------+--------+-------------------+---------+----------+--------------+-----------+\n",
      "|   580538|    23084|  RABBIT NIGHT LIGHT|      48|2011-12-05 08:38:00|     1.79|   14075.0|United Kingdom|     Monday|\n",
      "|   580538|    23077| DOUGHNUT LIP GLOSS |      20|2011-12-05 08:38:00|     1.25|   14075.0|United Kingdom|     Monday|\n",
      "|   580538|    22906|12 MESSAGE CARDS ...|      24|2011-12-05 08:38:00|     1.65|   14075.0|United Kingdom|     Monday|\n",
      "|   580538|    21914|BLUE HARMONICA IN...|      24|2011-12-05 08:38:00|     1.25|   14075.0|United Kingdom|     Monday|\n",
      "|   580538|    22467|   GUMBALL COAT RACK|       6|2011-12-05 08:38:00|     2.55|   14075.0|United Kingdom|     Monday|\n",
      "|   580538|    21544|SKULLS  WATER TRA...|      48|2011-12-05 08:38:00|     0.85|   14075.0|United Kingdom|     Monday|\n",
      "|   580538|    23126|FELTCRAFT GIRL AM...|       8|2011-12-05 08:38:00|     4.95|   14075.0|United Kingdom|     Monday|\n",
      "|   580538|    21833|CAMOUFLAGE LED TORCH|      24|2011-12-05 08:38:00|     1.69|   14075.0|United Kingdom|     Monday|\n",
      "|   580539|    21479|WHITE SKULL HOT W...|       4|2011-12-05 08:39:00|     4.25|   18180.0|United Kingdom|     Monday|\n",
      "|   580539|   84030E|ENGLISH ROSE HOT ...|       4|2011-12-05 08:39:00|     4.25|   18180.0|United Kingdom|     Monday|\n",
      "|   580539|    23355|HOT WATER BOTTLE ...|       4|2011-12-05 08:39:00|     4.95|   18180.0|United Kingdom|     Monday|\n",
      "|   580539|    22111|SCOTTIE DOG HOT W...|       3|2011-12-05 08:39:00|     4.95|   18180.0|United Kingdom|     Monday|\n",
      "|   580539|    21115|ROSE CARAVAN DOOR...|       8|2011-12-05 08:39:00|     1.95|   18180.0|United Kingdom|     Monday|\n",
      "|   580539|    21411|GINGHAM HEART  DO...|       8|2011-12-05 08:39:00|     1.95|   18180.0|United Kingdom|     Monday|\n",
      "|   580539|    23235|STORAGE TIN VINTA...|      12|2011-12-05 08:39:00|     1.25|   18180.0|United Kingdom|     Monday|\n",
      "|   580539|    23239|SET OF 4 KNICK KN...|       6|2011-12-05 08:39:00|     1.65|   18180.0|United Kingdom|     Monday|\n",
      "|   580539|    22197|      POPCORN HOLDER|      36|2011-12-05 08:39:00|     0.85|   18180.0|United Kingdom|     Monday|\n",
      "|   580539|    22693|GROW A FLYTRAP OR...|      24|2011-12-05 08:39:00|     1.25|   18180.0|United Kingdom|     Monday|\n",
      "|   580539|    22372|AIRLINE BAG VINTA...|       4|2011-12-05 08:39:00|     4.25|   18180.0|United Kingdom|     Monday|\n",
      "|   580539|    22375|AIRLINE BAG VINTA...|       4|2011-12-05 08:39:00|     4.25|   18180.0|United Kingdom|     Monday|\n",
      "+---------+---------+--------------------+--------+-------------------+---------+----------+--------------+-----------+\n",
      "only showing top 20 rows\n",
      "\n"
     ]
    },
    {
     "name": "stderr",
     "output_type": "stream",
     "text": [
      "[Stage 73:=============>                                         (48 + 4) / 200]\r"
     ]
    }
   ],
   "source": [
    "preppedDataFrame.show()"
   ]
  },
  {
   "cell_type": "markdown",
   "id": "3f7113eb-3952-4b84-9587-12e4fdac2d4e",
   "metadata": {},
   "source": [
    "## 스파크에서 지원하는 머신러닝을위한 훈련데이터와 검증데이터를 만들기"
   ]
  },
  {
   "cell_type": "code",
   "execution_count": 18,
   "id": "59bed95d-36e5-4546-a81a-3904a26165c4",
   "metadata": {},
   "outputs": [
    {
     "name": "stderr",
     "output_type": "stream",
     "text": [
      "[Stage 149:=========================>                            (96 + 4) / 200]\r"
     ]
    }
   ],
   "source": [
    "trainDataFrame = preppedDataFrame\\\n",
    "  .where(\"InvoiceDate < '2011-07-01'\")\n",
    "testDataFrame = preppedDataFrame\\\n",
    "  .where(\"InvoiceDate >= '2011-07-01'\")"
   ]
  },
  {
   "cell_type": "code",
   "execution_count": 20,
   "id": "0d91d001-1e62-43f6-a08b-e06bc1e863ba",
   "metadata": {},
   "outputs": [
    {
     "name": "stdout",
     "output_type": "stream",
     "text": [
      "+---------+---------+--------------------+--------+-------------------+---------+----------+--------------+-----------+\n",
      "|InvoiceNo|StockCode|         Description|Quantity|        InvoiceDate|UnitPrice|CustomerID|       Country|day_of_week|\n",
      "+---------+---------+--------------------+--------+-------------------+---------+----------+--------------+-----------+\n",
      "|   537226|    22811|SET OF 6 T-LIGHTS...|       6|2010-12-06 08:34:00|     2.95|   15987.0|United Kingdom|     Monday|\n",
      "|   537226|    21713|CITRONELLA CANDLE...|       8|2010-12-06 08:34:00|      2.1|   15987.0|United Kingdom|     Monday|\n",
      "|   537226|    22927|GREEN GIANT GARDE...|       2|2010-12-06 08:34:00|     5.95|   15987.0|United Kingdom|     Monday|\n",
      "+---------+---------+--------------------+--------+-------------------+---------+----------+--------------+-----------+\n",
      "only showing top 3 rows\n",
      "\n"
     ]
    },
    {
     "name": "stderr",
     "output_type": "stream",
     "text": [
      "[Stage 239:=========>                                            (36 + 4) / 200]\r"
     ]
    }
   ],
   "source": [
    "trainDataFrame.show(3)"
   ]
  },
  {
   "cell_type": "code",
   "execution_count": 23,
   "id": "d23d1131-e33a-4e4c-8f8c-bcd363d9d412",
   "metadata": {
    "collapsed": true,
    "jupyter": {
     "outputs_hidden": true
    }
   },
   "outputs": [
    {
     "name": "stderr",
     "output_type": "stream",
     "text": [
      "[Stage 271:======================>                               (82 + 4) / 200]\r"
     ]
    },
    {
     "name": "stdout",
     "output_type": "stream",
     "text": [
      "Collecting numpy\n"
     ]
    },
    {
     "name": "stderr",
     "output_type": "stream",
     "text": [
      "[Stage 271:==========================>                          (101 + 4) / 200]\r"
     ]
    },
    {
     "name": "stdout",
     "output_type": "stream",
     "text": [
      "  Downloading numpy-1.26.4-cp39-cp39-manylinux_2_17_x86_64.manylinux2014_x86_64.whl (18.2 MB)\n",
      "\u001b[K     |▋                               | 358 kB 885 kB/s eta 0:00:21"
     ]
    },
    {
     "name": "stderr",
     "output_type": "stream",
     "text": [
      "[Stage 271:===============================>                     (117 + 4) / 200]\r"
     ]
    },
    {
     "name": "stdout",
     "output_type": "stream",
     "text": [
      "\u001b[K     |█▉                              | 1.0 MB 885 kB/s eta 0:00:20"
     ]
    },
    {
     "name": "stderr",
     "output_type": "stream",
     "text": [
      "[Stage 271:=================================>                   (128 + 4) / 200]\r"
     ]
    },
    {
     "name": "stdout",
     "output_type": "stream",
     "text": [
      "\u001b[K     |███▎                            | 1.9 MB 885 kB/s eta 0:00:19"
     ]
    },
    {
     "name": "stderr",
     "output_type": "stream",
     "text": [
      "[Stage 271:====================================>                (136 + 4) / 200]\r"
     ]
    },
    {
     "name": "stdout",
     "output_type": "stream",
     "text": [
      "\u001b[K     |████▎                           | 2.5 MB 1.1 MB/s eta 0:00:15"
     ]
    },
    {
     "name": "stderr",
     "output_type": "stream",
     "text": [
      "[Stage 271:========================================>            (151 + 4) / 200]\r"
     ]
    },
    {
     "name": "stdout",
     "output_type": "stream",
     "text": [
      "\u001b[K     |█████▎                          | 3.0 MB 1.1 MB/s eta 0:00:14"
     ]
    },
    {
     "name": "stderr",
     "output_type": "stream",
     "text": [
      "[Stage 271:=============================================>       (172 + 4) / 200]\r"
     ]
    },
    {
     "name": "stdout",
     "output_type": "stream",
     "text": [
      "\u001b[K     |███████▌                        | 4.3 MB 6.1 MB/s eta 0:00:03"
     ]
    },
    {
     "name": "stderr",
     "output_type": "stream",
     "text": [
      "[Stage 271:===============================================>     (179 + 4) / 200]\r"
     ]
    },
    {
     "name": "stdout",
     "output_type": "stream",
     "text": [
      "\u001b[K     |████████▊                       | 5.0 MB 6.1 MB/s eta 0:00:03"
     ]
    },
    {
     "name": "stderr",
     "output_type": "stream",
     "text": [
      "[Stage 271:==================================================>  (191 + 4) / 200]\r"
     ]
    },
    {
     "name": "stdout",
     "output_type": "stream",
     "text": [
      "\u001b[K     |███████████▍                    | 6.5 MB 6.1 MB/s eta 0:00:02"
     ]
    },
    {
     "name": "stderr",
     "output_type": "stream",
     "text": [
      "                                                                                \r"
     ]
    },
    {
     "name": "stdout",
     "output_type": "stream",
     "text": [
      "\u001b[K     |██████████████▉                 | 8.5 MB 333 kB/s eta 0:00:30"
     ]
    },
    {
     "name": "stderr",
     "output_type": "stream",
     "text": [
      "[Stage 273:=======>                                              (28 + 4) / 200]\r"
     ]
    },
    {
     "name": "stdout",
     "output_type": "stream",
     "text": [
      "\u001b[K     |█████████████████▋              | 10.1 MB 333 kB/s eta 0:00:25"
     ]
    },
    {
     "name": "stderr",
     "output_type": "stream",
     "text": [
      "[Stage 273:==========>                                           (40 + 4) / 200]\r"
     ]
    },
    {
     "name": "stdout",
     "output_type": "stream",
     "text": [
      "\u001b[K     |██████████████████▏             | 10.3 MB 1.0 MB/s eta 0:00:08"
     ]
    },
    {
     "name": "stderr",
     "output_type": "stream",
     "text": [
      "[Stage 273:=============>                                        (49 + 4) / 200]\r"
     ]
    },
    {
     "name": "stdout",
     "output_type": "stream",
     "text": [
      "\u001b[K     |██████████████████▎             | 10.4 MB 1.0 MB/s eta 0:00:08"
     ]
    },
    {
     "name": "stderr",
     "output_type": "stream",
     "text": [
      "[Stage 273:==================>                                   (69 + 4) / 200]\r"
     ]
    },
    {
     "name": "stdout",
     "output_type": "stream",
     "text": [
      "\u001b[K     |██████████████████▋             | 10.6 MB 1.0 MB/s eta 0:00:08"
     ]
    },
    {
     "name": "stderr",
     "output_type": "stream",
     "text": [
      "[Stage 273:======================>                               (82 + 4) / 200]\r"
     ]
    },
    {
     "name": "stdout",
     "output_type": "stream",
     "text": [
      "\u001b[K     |██████████████████▊             | 10.7 MB 238 kB/s eta 0:00:32"
     ]
    },
    {
     "name": "stderr",
     "output_type": "stream",
     "text": [
      "[Stage 273:=========================>                            (94 + 4) / 200]\r"
     ]
    },
    {
     "name": "stdout",
     "output_type": "stream",
     "text": [
      "\u001b[K     |███████████████████             | 10.8 MB 238 kB/s eta 0:00:32"
     ]
    },
    {
     "name": "stderr",
     "output_type": "stream",
     "text": [
      "[Stage 273:===================================>                 (134 + 5) / 200]\r"
     ]
    },
    {
     "name": "stdout",
     "output_type": "stream",
     "text": [
      "\u001b[K     |███████████████████▎            | 11.0 MB 126 kB/s eta 0:00:58"
     ]
    },
    {
     "name": "stderr",
     "output_type": "stream",
     "text": [
      "[Stage 273:======================================>              (147 + 4) / 200]\r"
     ]
    },
    {
     "name": "stdout",
     "output_type": "stream",
     "text": [
      "\u001b[K     |███████████████████▍            | 11.0 MB 126 kB/s eta 0:00:57"
     ]
    },
    {
     "name": "stderr",
     "output_type": "stream",
     "text": [
      "[Stage 273:=============================================>       (170 + 4) / 200]\r"
     ]
    },
    {
     "name": "stdout",
     "output_type": "stream",
     "text": [
      "\u001b[K     |███████████████████▉            | 11.3 MB 683 kB/s eta 0:00:11"
     ]
    },
    {
     "name": "stderr",
     "output_type": "stream",
     "text": [
      "[Stage 273:===============================================>     (180 + 4) / 200]\r"
     ]
    },
    {
     "name": "stdout",
     "output_type": "stream",
     "text": [
      "\u001b[K     |████████████████████            | 11.4 MB 683 kB/s eta 0:00:11"
     ]
    },
    {
     "name": "stderr",
     "output_type": "stream",
     "text": [
      "                                                                                \r"
     ]
    },
    {
     "name": "stdout",
     "output_type": "stream",
     "text": [
      "\u001b[K     |█████████████████████           | 12.0 MB 118 kB/s eta 0:00:53"
     ]
    },
    {
     "name": "stderr",
     "output_type": "stream",
     "text": [
      "[Stage 275:========>                                             (31 + 4) / 200]\r"
     ]
    },
    {
     "name": "stdout",
     "output_type": "stream",
     "text": [
      "\u001b[K     |██████████████████████          | 12.5 MB 1.8 MB/s eta 0:00:04"
     ]
    },
    {
     "name": "stderr",
     "output_type": "stream",
     "text": [
      "[Stage 275:============>                                         (45 + 4) / 200]\r"
     ]
    },
    {
     "name": "stdout",
     "output_type": "stream",
     "text": [
      "\u001b[K     |██████████████████████▍         | 12.8 MB 1.8 MB/s eta 0:00:04"
     ]
    },
    {
     "name": "stderr",
     "output_type": "stream",
     "text": [
      "[Stage 275:=============>                                        (50 + 4) / 200]\r"
     ]
    },
    {
     "name": "stdout",
     "output_type": "stream",
     "text": [
      "\u001b[K     |██████████████████████▊         | 13.0 MB 1.8 MB/s eta 0:00:03"
     ]
    },
    {
     "name": "stderr",
     "output_type": "stream",
     "text": [
      "[Stage 275:=================>                                    (63 + 4) / 200]\r"
     ]
    },
    {
     "name": "stdout",
     "output_type": "stream",
     "text": [
      "\u001b[K     |█████████████████████████▌      | 14.5 MB 5.1 MB/s eta 0:00:01"
     ]
    },
    {
     "name": "stderr",
     "output_type": "stream",
     "text": [
      "[Stage 275:===================>                                  (73 + 4) / 200]\r"
     ]
    },
    {
     "name": "stdout",
     "output_type": "stream",
     "text": [
      "\u001b[K     |████████████████████████████▌   | 16.3 MB 5.1 MB/s eta 0:00:01"
     ]
    },
    {
     "name": "stderr",
     "output_type": "stream",
     "text": [
      "[Stage 275:=======================>                              (86 + 4) / 200]\r"
     ]
    },
    {
     "name": "stdout",
     "output_type": "stream",
     "text": [
      "\u001b[K     |████████████████████████████████| 18.2 MB 5.1 MB/s eta 0:00:01"
     ]
    },
    {
     "name": "stderr",
     "output_type": "stream",
     "text": [
      "[Stage 275:=========================>                            (94 + 4) / 200]\r"
     ]
    },
    {
     "name": "stdout",
     "output_type": "stream",
     "text": [
      "\u001b[K     |████████████████████████████████| 18.2 MB 5.1 MB/s \n"
     ]
    },
    {
     "name": "stderr",
     "output_type": "stream",
     "text": [
      "[Stage 275:========================================>            (154 + 4) / 200]\r"
     ]
    },
    {
     "name": "stdout",
     "output_type": "stream",
     "text": [
      "\u001b[?25hInstalling collected packages: numpy\n"
     ]
    },
    {
     "name": "stderr",
     "output_type": "stream",
     "text": [
      "[Stage 277:====================>                                 (77 + 4) / 200]\r"
     ]
    },
    {
     "name": "stdout",
     "output_type": "stream",
     "text": [
      "Successfully installed numpy-1.26.4\n",
      "\u001b[33mWARNING: Running pip as the 'root' user can result in broken permissions and conflicting behaviour with the system package manager. It is recommended to use a virtual environment instead: https://pip.pypa.io/warnings/venv\u001b[0m\n"
     ]
    },
    {
     "name": "stderr",
     "output_type": "stream",
     "text": [
      "                                                                                \r"
     ]
    }
   ],
   "source": [
    "!pip install numpy"
   ]
  },
  {
   "cell_type": "code",
   "execution_count": 26,
   "id": "a7ca8a76-4be9-482b-82b7-387d2ec5a603",
   "metadata": {},
   "outputs": [
    {
     "name": "stderr",
     "output_type": "stream",
     "text": [
      "[Stage 409:===================>                                  (72 + 4) / 200]\r"
     ]
    }
   ],
   "source": [
    "# 범주형 변수를 숫자형으로 바꾸는 작업 - 높낮이 또는 크기가 존재하는 범주형 데이터\n",
    "# label encoding\n",
    "# 2XL,XL,L,M,S  ---> 1,2,3,4,5\n",
    "from pyspark.ml.feature import StringIndexer\n",
    "indexer = StringIndexer().setInputCol(\"day_of_week\").setOutputCol(\"day_of_week_index\")"
   ]
  },
  {
   "cell_type": "code",
   "execution_count": 27,
   "id": "74324683-8d80-4fc6-b52b-fead73ae1a13",
   "metadata": {},
   "outputs": [
    {
     "name": "stderr",
     "output_type": "stream",
     "text": [
      "[Stage 449:=========================================>           (155 + 4) / 200]\r"
     ]
    }
   ],
   "source": [
    "# one-hot encoding\n",
    "# 데이터들 사이 연관성을 없애는 방법\n",
    "# 사과, 딸기 ,바나나\n",
    "# 001, 010, 100"
   ]
  },
  {
   "cell_type": "code",
   "execution_count": 28,
   "id": "bf8b1654-0eff-4f93-b834-df80a6c22e48",
   "metadata": {},
   "outputs": [
    {
     "name": "stderr",
     "output_type": "stream",
     "text": [
      "[Stage 567:===================================>                 (134 + 4) / 200]\r"
     ]
    }
   ],
   "source": [
    "# 숫자형 데이터를 가지고 변경\n",
    "from pyspark.ml.feature import OneHotEncoder\n",
    "encoder = OneHotEncoder().setInputCol('day_of_week_index').setOutputCol(\"day_of_week_encoded\")"
   ]
  },
  {
   "cell_type": "code",
   "execution_count": 35,
   "id": "d4d07030-764f-42e1-b852-50c9ef7dc3ef",
   "metadata": {},
   "outputs": [
    {
     "name": "stderr",
     "output_type": "stream",
     "text": [
      "                                                                                \r"
     ]
    }
   ],
   "source": [
    "from pyspark.ml.feature import VectorAssembler\n",
    "vectorAssembler = VectorAssembler().setInputCols([\"UnitPrice\",\"day_of_week_encoded\"]).setOutputCol(\"features\")"
   ]
  },
  {
   "cell_type": "code",
   "execution_count": 36,
   "id": "389536bf-2beb-404b-a29e-bda6a5f40be1",
   "metadata": {},
   "outputs": [
    {
     "name": "stderr",
     "output_type": "stream",
     "text": [
      "[Stage 1161:============================================>       (263 + 5) / 305]\r"
     ]
    }
   ],
   "source": [
    "# 파이프라인을 구축해서 각 단계별로 구성한 기능을 순차적으로 실행(적용)하기\n",
    "from pyspark.ml import Pipeline\n",
    "transformationPipeLine =  Pipeline().setStages([indexer,encoder,vectorAssembler])"
   ]
  },
  {
   "cell_type": "code",
   "execution_count": 37,
   "id": "0d6ef819-d5ba-4bb1-ad27-5dd48def276b",
   "metadata": {},
   "outputs": [
    {
     "name": "stderr",
     "output_type": "stream",
     "text": [
      "                                                                                \r"
     ]
    }
   ],
   "source": [
    "# 파이프라인 실행 -- fit\n",
    "fittedPipeLine = transformationPipeLine.fit(trainDataFrame)"
   ]
  },
  {
   "cell_type": "code",
   "execution_count": 38,
   "id": "6a76adcf-872b-49db-9080-0e271ea62218",
   "metadata": {},
   "outputs": [
    {
     "name": "stderr",
     "output_type": "stream",
     "text": [
      "24/03/20 15:10:25 WARN FileStreamSource: Listed 305 file(s) in 2440 ms          \n",
      "24/03/20 15:10:27 WARN FileStreamSource: Listed 305 file(s) in 2772 ms          \n",
      "24/03/20 15:10:30 WARN FileStreamSource: Listed 305 file(s) in 2236 ms          \n",
      "                                                                                \r"
     ]
    }
   ],
   "source": [
    "# 변환\n",
    "trainsformedTraning =  fittedPipeLine.transform(trainDataFrame)"
   ]
  },
  {
   "cell_type": "code",
   "execution_count": 39,
   "id": "5dd29803-0b80-4538-9f53-9eda282ab354",
   "metadata": {},
   "outputs": [
    {
     "name": "stderr",
     "output_type": "stream",
     "text": [
      "                                                                                \r"
     ]
    },
    {
     "name": "stdout",
     "output_type": "stream",
     "text": [
      "+---------+---------+--------------------+--------+-------------------+---------+----------+--------------+-----------+-----------------+-------------------+--------------------+\n",
      "|InvoiceNo|StockCode|         Description|Quantity|        InvoiceDate|UnitPrice|CustomerID|       Country|day_of_week|day_of_week_index|day_of_week_encoded|            features|\n",
      "+---------+---------+--------------------+--------+-------------------+---------+----------+--------------+-----------+-----------------+-------------------+--------------------+\n",
      "|   537226|    22811|SET OF 6 T-LIGHTS...|       6|2010-12-06 08:34:00|     2.95|   15987.0|United Kingdom|     Monday|              2.0|      (5,[2],[1.0])|(6,[0,3],[2.95,1.0])|\n",
      "|   537226|    21713|CITRONELLA CANDLE...|       8|2010-12-06 08:34:00|      2.1|   15987.0|United Kingdom|     Monday|              2.0|      (5,[2],[1.0])| (6,[0,3],[2.1,1.0])|\n",
      "|   537226|    22927|GREEN GIANT GARDE...|       2|2010-12-06 08:34:00|     5.95|   15987.0|United Kingdom|     Monday|              2.0|      (5,[2],[1.0])|(6,[0,3],[5.95,1.0])|\n",
      "|   537226|    20802|SMALL GLASS SUNDA...|       6|2010-12-06 08:34:00|     1.65|   15987.0|United Kingdom|     Monday|              2.0|      (5,[2],[1.0])|(6,[0,3],[1.65,1.0])|\n",
      "|   537226|    22052|VINTAGE CARAVAN G...|      25|2010-12-06 08:34:00|     0.42|   15987.0|United Kingdom|     Monday|              2.0|      (5,[2],[1.0])|(6,[0,3],[0.42,1.0])|\n",
      "|   537226|    22705|   WRAP GREEN PEARS |      25|2010-12-06 08:34:00|     0.42|   15987.0|United Kingdom|     Monday|              2.0|      (5,[2],[1.0])|(6,[0,3],[0.42,1.0])|\n",
      "|   537226|    20781|GOLD EAR MUFF HEA...|       2|2010-12-06 08:34:00|     5.49|   15987.0|United Kingdom|     Monday|              2.0|      (5,[2],[1.0])|(6,[0,3],[5.49,1.0])|\n",
      "|   537226|    22310|IVORY KNITTED MUG...|       6|2010-12-06 08:34:00|     1.65|   15987.0|United Kingdom|     Monday|              2.0|      (5,[2],[1.0])|(6,[0,3],[1.65,1.0])|\n",
      "|   537226|    22389|PAPERWEIGHT SAVE ...|       6|2010-12-06 08:34:00|     2.55|   15987.0|United Kingdom|     Monday|              2.0|      (5,[2],[1.0])|(6,[0,3],[2.55,1.0])|\n",
      "|   537227|    22941|CHRISTMAS LIGHTS ...|       2|2010-12-06 08:42:00|      8.5|   17677.0|United Kingdom|     Monday|              2.0|      (5,[2],[1.0])| (6,[0,3],[8.5,1.0])|\n",
      "|   537227|    22696| WICKER WREATH LARGE|       6|2010-12-06 08:42:00|     1.95|   17677.0|United Kingdom|     Monday|              2.0|      (5,[2],[1.0])|(6,[0,3],[1.95,1.0])|\n",
      "|   537227|    22193|RED DINER WALL CLOCK|       2|2010-12-06 08:42:00|      8.5|   17677.0|United Kingdom|     Monday|              2.0|      (5,[2],[1.0])| (6,[0,3],[8.5,1.0])|\n",
      "|   537227|    21212|PACK OF 72 RETROS...|     120|2010-12-06 08:42:00|     0.42|   17677.0|United Kingdom|     Monday|              2.0|      (5,[2],[1.0])|(6,[0,3],[0.42,1.0])|\n",
      "|   537227|    21977|PACK OF 60 PINK P...|      48|2010-12-06 08:42:00|     0.55|   17677.0|United Kingdom|     Monday|              2.0|      (5,[2],[1.0])|(6,[0,3],[0.55,1.0])|\n",
      "|   537227|    84991|60 TEATIME FAIRY ...|      48|2010-12-06 08:42:00|     0.55|   17677.0|United Kingdom|     Monday|              2.0|      (5,[2],[1.0])|(6,[0,3],[0.55,1.0])|\n",
      "|   537227|    21213|PACK OF 72 SKULL ...|      48|2010-12-06 08:42:00|     0.55|   17677.0|United Kingdom|     Monday|              2.0|      (5,[2],[1.0])|(6,[0,3],[0.55,1.0])|\n",
      "|   537227|    21080|SET/20 RED RETROS...|      12|2010-12-06 08:42:00|     0.85|   17677.0|United Kingdom|     Monday|              2.0|      (5,[2],[1.0])|(6,[0,3],[0.85,1.0])|\n",
      "|   537227|    22632|HAND WARMER RED R...|      48|2010-12-06 08:42:00|      2.1|   17677.0|United Kingdom|     Monday|              2.0|      (5,[2],[1.0])| (6,[0,3],[2.1,1.0])|\n",
      "|   537227|    22315|200 RED + WHITE B...|      12|2010-12-06 08:42:00|     1.25|   17677.0|United Kingdom|     Monday|              2.0|      (5,[2],[1.0])|(6,[0,3],[1.25,1.0])|\n",
      "|   537227|    21232|STRAWBERRY CERAMI...|      12|2010-12-06 08:42:00|     1.25|   17677.0|United Kingdom|     Monday|              2.0|      (5,[2],[1.0])|(6,[0,3],[1.25,1.0])|\n",
      "+---------+---------+--------------------+--------+-------------------+---------+----------+--------------+-----------+-----------------+-------------------+--------------------+\n",
      "only showing top 20 rows\n",
      "\n"
     ]
    },
    {
     "name": "stderr",
     "output_type": "stream",
     "text": [
      "                                                                                \r"
     ]
    }
   ],
   "source": [
    "trainsformedTraning.show()"
   ]
  },
  {
   "cell_type": "code",
   "execution_count": null,
   "id": "518ea84f-b459-4557-96ba-db5054ac0969",
   "metadata": {},
   "outputs": [],
   "source": []
  }
 ],
 "metadata": {
  "kernelspec": {
   "display_name": "Python 3 (ipykernel)",
   "language": "python",
   "name": "python3"
  },
  "language_info": {
   "codemirror_mode": {
    "name": "ipython",
    "version": 3
   },
   "file_extension": ".py",
   "mimetype": "text/x-python",
   "name": "python",
   "nbconvert_exporter": "python",
   "pygments_lexer": "ipython3",
   "version": "3.9.10"
  }
 },
 "nbformat": 4,
 "nbformat_minor": 5
}
