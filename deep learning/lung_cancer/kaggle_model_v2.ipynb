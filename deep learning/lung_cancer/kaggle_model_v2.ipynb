{
 "cells": [
  {
   "cell_type": "code",
   "execution_count": 70,
   "id": "534046d5-69a3-4183-99eb-336af92e84b0",
   "metadata": {
    "scrolled": true
   },
   "outputs": [],
   "source": [
    "# !pip install numpy\n",
    "# !pip install pandas\n",
    "# !pip install tqdm\n",
    "# !pip install SimpleITK\n",
    "# !pip install torch\n",
    "# !pip install matplotlib"
   ]
  },
  {
   "cell_type": "code",
   "execution_count": 1,
   "id": "9bad3c4c-9c1b-487a-a56a-b00d2ef2999b",
   "metadata": {},
   "outputs": [],
   "source": [
    "import os\n",
    "import glob\n",
    "import copy\n",
    "import time\n",
    "\n",
    "import numpy as np\n",
    "import pandas as pd\n",
    "\n",
    "from tqdm.notebook import tqdm\n",
    "from collections import namedtuple\n",
    "import SimpleITK as sitk\n",
    "\n",
    "import torch\n",
    "from torch.utils.data import Dataset, DataLoader\n",
    "import torch.nn as nn\n",
    "import torch.optim as optim"
   ]
  },
  {
   "cell_type": "code",
   "execution_count": 2,
   "id": "2293173d-6b17-41c4-a19c-d2d229b0a6cd",
   "metadata": {},
   "outputs": [
    {
     "data": {
      "text/plain": [
       "'1.3.6.1.4.1.14519.5.2.1.6279.6001.100225287222365663678666836860'"
      ]
     },
     "execution_count": 2,
     "metadata": {},
     "output_type": "execute_result"
    }
   ],
   "source": [
    "df_annotations = pd.read_csv('C:/Users/Taeho/Downloads/lung_cancer_project/data/annotations.csv')\n",
    "df_annotations.seriesuid[0]\n",
    "\n",
    "# seriesuid : ct 스캔 식별값"
   ]
  },
  {
   "cell_type": "code",
   "execution_count": 3,
   "id": "cc425aa0-00ee-4517-835e-af9d283a5d9f",
   "metadata": {},
   "outputs": [
    {
     "data": {
      "text/html": [
       "<div>\n",
       "<style scoped>\n",
       "    .dataframe tbody tr th:only-of-type {\n",
       "        vertical-align: middle;\n",
       "    }\n",
       "\n",
       "    .dataframe tbody tr th {\n",
       "        vertical-align: top;\n",
       "    }\n",
       "\n",
       "    .dataframe thead th {\n",
       "        text-align: right;\n",
       "    }\n",
       "</style>\n",
       "<table border=\"1\" class=\"dataframe\">\n",
       "  <thead>\n",
       "    <tr style=\"text-align: right;\">\n",
       "      <th></th>\n",
       "      <th>seriesuid</th>\n",
       "      <th>coordX</th>\n",
       "      <th>coordY</th>\n",
       "      <th>coordZ</th>\n",
       "      <th>diameter_mm</th>\n",
       "    </tr>\n",
       "  </thead>\n",
       "  <tbody>\n",
       "  </tbody>\n",
       "</table>\n",
       "</div>"
      ],
      "text/plain": [
       "Empty DataFrame\n",
       "Columns: [seriesuid, coordX, coordY, coordZ, diameter_mm]\n",
       "Index: []"
      ]
     },
     "execution_count": 3,
     "metadata": {},
     "output_type": "execute_result"
    }
   ],
   "source": [
    "df_annotations[df_annotations.seriesuid =='']"
   ]
  },
  {
   "cell_type": "code",
   "execution_count": 4,
   "id": "b4c4ed12-fe22-4dd1-a184-80844311b7dd",
   "metadata": {},
   "outputs": [
    {
     "data": {
      "text/html": [
       "<div>\n",
       "<style scoped>\n",
       "    .dataframe tbody tr th:only-of-type {\n",
       "        vertical-align: middle;\n",
       "    }\n",
       "\n",
       "    .dataframe tbody tr th {\n",
       "        vertical-align: top;\n",
       "    }\n",
       "\n",
       "    .dataframe thead th {\n",
       "        text-align: right;\n",
       "    }\n",
       "</style>\n",
       "<table border=\"1\" class=\"dataframe\">\n",
       "  <thead>\n",
       "    <tr style=\"text-align: right;\">\n",
       "      <th></th>\n",
       "      <th>seriesuid</th>\n",
       "      <th>coordX</th>\n",
       "      <th>coordY</th>\n",
       "      <th>coordZ</th>\n",
       "      <th>class</th>\n",
       "    </tr>\n",
       "  </thead>\n",
       "  <tbody>\n",
       "    <tr>\n",
       "      <th>753997</th>\n",
       "      <td>1.3.6.1.4.1.14519.5.2.1.6279.6001.997611074084...</td>\n",
       "      <td>12.320000</td>\n",
       "      <td>27.430000</td>\n",
       "      <td>-160.210000</td>\n",
       "      <td>0</td>\n",
       "    </tr>\n",
       "    <tr>\n",
       "      <th>753998</th>\n",
       "      <td>1.3.6.1.4.1.14519.5.2.1.6279.6001.997611074084...</td>\n",
       "      <td>-26.471472</td>\n",
       "      <td>30.397506</td>\n",
       "      <td>-30.800304</td>\n",
       "      <td>0</td>\n",
       "    </tr>\n",
       "    <tr>\n",
       "      <th>753999</th>\n",
       "      <td>1.3.6.1.4.1.14519.5.2.1.6279.6001.997611074084...</td>\n",
       "      <td>83.679555</td>\n",
       "      <td>40.991289</td>\n",
       "      <td>-137.473889</td>\n",
       "      <td>0</td>\n",
       "    </tr>\n",
       "    <tr>\n",
       "      <th>754000</th>\n",
       "      <td>1.3.6.1.4.1.14519.5.2.1.6279.6001.997611074084...</td>\n",
       "      <td>43.160000</td>\n",
       "      <td>-55.970000</td>\n",
       "      <td>-101.310000</td>\n",
       "      <td>0</td>\n",
       "    </tr>\n",
       "    <tr>\n",
       "      <th>754001</th>\n",
       "      <td>1.3.6.1.4.1.14519.5.2.1.6279.6001.997611074084...</td>\n",
       "      <td>-88.600000</td>\n",
       "      <td>16.910000</td>\n",
       "      <td>-176.340000</td>\n",
       "      <td>0</td>\n",
       "    </tr>\n",
       "    <tr>\n",
       "      <th>...</th>\n",
       "      <td>...</td>\n",
       "      <td>...</td>\n",
       "      <td>...</td>\n",
       "      <td>...</td>\n",
       "      <td>...</td>\n",
       "    </tr>\n",
       "    <tr>\n",
       "      <th>754970</th>\n",
       "      <td>1.3.6.1.4.1.14519.5.2.1.6279.6001.997611074084...</td>\n",
       "      <td>-33.400000</td>\n",
       "      <td>-64.200000</td>\n",
       "      <td>-115.560000</td>\n",
       "      <td>0</td>\n",
       "    </tr>\n",
       "    <tr>\n",
       "      <th>754971</th>\n",
       "      <td>1.3.6.1.4.1.14519.5.2.1.6279.6001.997611074084...</td>\n",
       "      <td>56.236359</td>\n",
       "      <td>70.352400</td>\n",
       "      <td>-203.446236</td>\n",
       "      <td>0</td>\n",
       "    </tr>\n",
       "    <tr>\n",
       "      <th>754972</th>\n",
       "      <td>1.3.6.1.4.1.14519.5.2.1.6279.6001.997611074084...</td>\n",
       "      <td>-97.104221</td>\n",
       "      <td>55.738289</td>\n",
       "      <td>-203.879785</td>\n",
       "      <td>0</td>\n",
       "    </tr>\n",
       "    <tr>\n",
       "      <th>754973</th>\n",
       "      <td>1.3.6.1.4.1.14519.5.2.1.6279.6001.997611074084...</td>\n",
       "      <td>-65.470000</td>\n",
       "      <td>59.670000</td>\n",
       "      <td>-136.370000</td>\n",
       "      <td>0</td>\n",
       "    </tr>\n",
       "    <tr>\n",
       "      <th>754974</th>\n",
       "      <td>1.3.6.1.4.1.14519.5.2.1.6279.6001.997611074084...</td>\n",
       "      <td>-3.100000</td>\n",
       "      <td>-10.660000</td>\n",
       "      <td>-27.470000</td>\n",
       "      <td>0</td>\n",
       "    </tr>\n",
       "  </tbody>\n",
       "</table>\n",
       "<p>978 rows × 5 columns</p>\n",
       "</div>"
      ],
      "text/plain": [
       "                                                seriesuid     coordX  \\\n",
       "753997  1.3.6.1.4.1.14519.5.2.1.6279.6001.997611074084...  12.320000   \n",
       "753998  1.3.6.1.4.1.14519.5.2.1.6279.6001.997611074084... -26.471472   \n",
       "753999  1.3.6.1.4.1.14519.5.2.1.6279.6001.997611074084...  83.679555   \n",
       "754000  1.3.6.1.4.1.14519.5.2.1.6279.6001.997611074084...  43.160000   \n",
       "754001  1.3.6.1.4.1.14519.5.2.1.6279.6001.997611074084... -88.600000   \n",
       "...                                                   ...        ...   \n",
       "754970  1.3.6.1.4.1.14519.5.2.1.6279.6001.997611074084... -33.400000   \n",
       "754971  1.3.6.1.4.1.14519.5.2.1.6279.6001.997611074084...  56.236359   \n",
       "754972  1.3.6.1.4.1.14519.5.2.1.6279.6001.997611074084... -97.104221   \n",
       "754973  1.3.6.1.4.1.14519.5.2.1.6279.6001.997611074084... -65.470000   \n",
       "754974  1.3.6.1.4.1.14519.5.2.1.6279.6001.997611074084...  -3.100000   \n",
       "\n",
       "           coordY      coordZ  class  \n",
       "753997  27.430000 -160.210000      0  \n",
       "753998  30.397506  -30.800304      0  \n",
       "753999  40.991289 -137.473889      0  \n",
       "754000 -55.970000 -101.310000      0  \n",
       "754001  16.910000 -176.340000      0  \n",
       "...           ...         ...    ...  \n",
       "754970 -64.200000 -115.560000      0  \n",
       "754971  70.352400 -203.446236      0  \n",
       "754972  55.738289 -203.879785      0  \n",
       "754973  59.670000 -136.370000      0  \n",
       "754974 -10.660000  -27.470000      0  \n",
       "\n",
       "[978 rows x 5 columns]"
      ]
     },
     "execution_count": 4,
     "metadata": {},
     "output_type": "execute_result"
    }
   ],
   "source": [
    "df_candidates = pd.read_csv(\"C:/Users/Taeho/Downloads/lung_cancer_project/data/candidates_V2/candidates_V2.csv\")\n",
    "df_candidates[df_candidates.seriesuid == '1.3.6.1.4.1.14519.5.2.1.6279.6001.997611074084993415992563148335']"
   ]
  },
  {
   "cell_type": "code",
   "execution_count": 5,
   "id": "cecbaf59-a7aa-4dd3-87a0-88f9722caf4a",
   "metadata": {},
   "outputs": [
    {
     "data": {
      "text/html": [
       "<div>\n",
       "<style scoped>\n",
       "    .dataframe tbody tr th:only-of-type {\n",
       "        vertical-align: middle;\n",
       "    }\n",
       "\n",
       "    .dataframe tbody tr th {\n",
       "        vertical-align: top;\n",
       "    }\n",
       "\n",
       "    .dataframe thead th {\n",
       "        text-align: right;\n",
       "    }\n",
       "</style>\n",
       "<table border=\"1\" class=\"dataframe\">\n",
       "  <thead>\n",
       "    <tr style=\"text-align: right;\">\n",
       "      <th></th>\n",
       "      <th>seriesuid</th>\n",
       "      <th>coordX</th>\n",
       "      <th>coordY</th>\n",
       "      <th>coordZ</th>\n",
       "      <th>class</th>\n",
       "    </tr>\n",
       "  </thead>\n",
       "  <tbody>\n",
       "    <tr>\n",
       "      <th>754090</th>\n",
       "      <td>1.3.6.1.4.1.14519.5.2.1.6279.6001.997611074084...</td>\n",
       "      <td>-29.720000</td>\n",
       "      <td>24.620000</td>\n",
       "      <td>-156.010000</td>\n",
       "      <td>1</td>\n",
       "    </tr>\n",
       "    <tr>\n",
       "      <th>754622</th>\n",
       "      <td>1.3.6.1.4.1.14519.5.2.1.6279.6001.997611074084...</td>\n",
       "      <td>42.895122</td>\n",
       "      <td>74.251037</td>\n",
       "      <td>-200.625978</td>\n",
       "      <td>1</td>\n",
       "    </tr>\n",
       "    <tr>\n",
       "      <th>754755</th>\n",
       "      <td>1.3.6.1.4.1.14519.5.2.1.6279.6001.997611074084...</td>\n",
       "      <td>-28.685000</td>\n",
       "      <td>32.690000</td>\n",
       "      <td>-164.835000</td>\n",
       "      <td>1</td>\n",
       "    </tr>\n",
       "    <tr>\n",
       "      <th>754947</th>\n",
       "      <td>1.3.6.1.4.1.14519.5.2.1.6279.6001.997611074084...</td>\n",
       "      <td>-23.719297</td>\n",
       "      <td>31.714489</td>\n",
       "      <td>-156.172233</td>\n",
       "      <td>1</td>\n",
       "    </tr>\n",
       "    <tr>\n",
       "      <th>754948</th>\n",
       "      <td>1.3.6.1.4.1.14519.5.2.1.6279.6001.997611074084...</td>\n",
       "      <td>-25.610000</td>\n",
       "      <td>32.140000</td>\n",
       "      <td>-151.310000</td>\n",
       "      <td>1</td>\n",
       "    </tr>\n",
       "  </tbody>\n",
       "</table>\n",
       "</div>"
      ],
      "text/plain": [
       "                                                seriesuid     coordX  \\\n",
       "754090  1.3.6.1.4.1.14519.5.2.1.6279.6001.997611074084... -29.720000   \n",
       "754622  1.3.6.1.4.1.14519.5.2.1.6279.6001.997611074084...  42.895122   \n",
       "754755  1.3.6.1.4.1.14519.5.2.1.6279.6001.997611074084... -28.685000   \n",
       "754947  1.3.6.1.4.1.14519.5.2.1.6279.6001.997611074084... -23.719297   \n",
       "754948  1.3.6.1.4.1.14519.5.2.1.6279.6001.997611074084... -25.610000   \n",
       "\n",
       "           coordY      coordZ  class  \n",
       "754090  24.620000 -156.010000      1  \n",
       "754622  74.251037 -200.625978      1  \n",
       "754755  32.690000 -164.835000      1  \n",
       "754947  31.714489 -156.172233      1  \n",
       "754948  32.140000 -151.310000      1  "
      ]
     },
     "execution_count": 5,
     "metadata": {},
     "output_type": "execute_result"
    }
   ],
   "source": [
    "# class가 1이고 seriesuid가 특정 값인 데이터 추출\n",
    "df_filtered = df_candidates[(df_candidates['class'] == 1) & (df_candidates['seriesuid'] == '1.3.6.1.4.1.14519.5.2.1.6279.6001.997611074084993415992563148335')]\n",
    "df_filtered"
   ]
  },
  {
   "cell_type": "code",
   "execution_count": 6,
   "id": "8e1d910e-d25f-49c1-9493-e3f236bb290e",
   "metadata": {},
   "outputs": [
    {
     "data": {
      "text/plain": [
       "(754975, 5)"
      ]
     },
     "execution_count": 6,
     "metadata": {},
     "output_type": "execute_result"
    }
   ],
   "source": [
    "df_candidates.shape"
   ]
  },
  {
   "cell_type": "code",
   "execution_count": 7,
   "id": "380e2756-ae72-43cd-be94-a630610d7dcd",
   "metadata": {},
   "outputs": [
    {
     "name": "stdout",
     "output_type": "stream",
     "text": [
      "Total annotations: 1186, Unique CT scans: 601\n",
      "Total candidates: 754975, Unique CT scans: 888\n"
     ]
    }
   ],
   "source": [
    "print(f'Total annotations: {df_annotations.shape[0]}, Unique CT scans: {len(df_annotations.seriesuid.unique())}')\n",
    "print(f'Total candidates: {df_candidates.shape[0]}, Unique CT scans: {len(df_candidates.seriesuid.unique())}')"
   ]
  },
  {
   "cell_type": "code",
   "execution_count": 49,
   "id": "3cd1e734-ca79-462f-be7a-750d8ff5d827",
   "metadata": {},
   "outputs": [],
   "source": [
    "diameters = {}\n",
    "\n",
    "# anntations의 위치와 diameter\n",
    "for _, row in df_annotations.iterrows():\n",
    "    \n",
    "    center_xyz = (row.coordX, row.coordY, row.coordZ)\n",
    "    \n",
    "    diameters.setdefault(row.seriesuid, []).append(\n",
    "        (center_xyz, row.diameter_mm)\n",
    "    )"
   ]
  },
  {
   "cell_type": "code",
   "execution_count": 51,
   "id": "f76cf1bb-b1a4-40c3-9e68-46841460e0be",
   "metadata": {},
   "outputs": [
    {
     "name": "stdout",
     "output_type": "stream",
     "text": [
      "CPU times: total: 38.7 s\n",
      "Wall time: 40.2 s\n"
     ]
    }
   ],
   "source": [
    "%%time\n",
    "\n",
    "# Using a namedtuple makes it easy to access values in a tuple\n",
    "# using indexes or field names\n",
    "CandidateInfoTuple = namedtuple(\n",
    "    'CandidateInfoTuple',\n",
    "    ['is_nodule', 'diameter_mm', 'series_uid', 'center_xyz']\n",
    ")\n",
    "\n",
    "# candidate 중 annotation에 해당하는 nodule 추출\n",
    "candidates = []\n",
    "\n",
    "for _, row in df_candidates.iterrows():\n",
    "    \n",
    "    candidate_center_xyz = (row.coordX, row.coordY, row.coordZ)\n",
    "\n",
    "    # 만약 annotation에 candidate id가 없다면 직경을 0으로 설정\n",
    "    candidate_diameter = 0.0\n",
    "\n",
    "    # annotation의 좌표와 diameter 추출\n",
    "    for annotation in diameters.get(row.seriesuid, []):\n",
    "        \n",
    "        annotation_center_xyz, annotation_diameter = annotation\n",
    "\n",
    "        for i in range(3):\n",
    "            \n",
    "            # 두 좌표 차이의 절댓값\n",
    "            delta = abs(candidate_center_xyz[i] - annotation_center_xyz[i])\n",
    "            \n",
    "\n",
    "            # candidate의 좌표가 annotation 좌표 거리의 절반 이상 멀 때 다른 nodule로 인식 \n",
    "            # annotation_diameter/4인 이유: diameter 측정이 nodule의 끝과 끝을 계산\n",
    "            if delta > annotation_diameter / 4:\n",
    "                    break\n",
    "            \n",
    "        # for문의 else => for문이 완전히 수행되고, break에 의해 종료되지 않으면 실행 => candidate의 nodule만 추출\n",
    "        else:\n",
    "            candidate_diameter = annotation_diameter\n",
    "            \n",
    "            # We don't need to look at any other remaining annotations,\n",
    "            # because we've already found a match!\n",
    "            break\n",
    "            \n",
    "            \n",
    "    \n",
    "    candidates.append(CandidateInfoTuple(\n",
    "        bool(row['class']),\n",
    "        candidate_diameter,\n",
    "        row.seriesuid,\n",
    "        candidate_center_xyz\n",
    "    ))"
   ]
  },
  {
   "cell_type": "code",
   "execution_count": 52,
   "id": "ce3bf577-f4ef-4c07-b7d8-14f81804fe8b",
   "metadata": {},
   "outputs": [
    {
     "data": {
      "text/plain": [
       "CandidateInfoTuple(is_nodule=False, diameter_mm=0.0, series_uid='1.3.6.1.4.1.14519.5.2.1.6279.6001.100225287222365663678666836860', center_xyz=(68.42, -74.48, -288.7))"
      ]
     },
     "execution_count": 52,
     "metadata": {},
     "output_type": "execute_result"
    }
   ],
   "source": [
    "candidates[0]"
   ]
  },
  {
   "cell_type": "code",
   "execution_count": 53,
   "id": "8a02621e-9dcd-4d68-b0af-8814ba239846",
   "metadata": {},
   "outputs": [],
   "source": [
    "# nodule이 True인 data위로, diameter_mm인 큰 순서로 정렬\n",
    "candidates.sort(reverse=True)"
   ]
  },
  {
   "cell_type": "code",
   "execution_count": 14,
   "id": "96bb2db2-ad39-4ec1-a66b-9b70a3a81671",
   "metadata": {
    "scrolled": true
   },
   "outputs": [
    {
     "data": {
      "application/vnd.jupyter.widget-view+json": {
       "model_id": "77effd74008f4b68ae6c9281ce5b1b65",
       "version_major": 2,
       "version_minor": 0
      },
      "text/plain": [
       "  0%|          | 0/188743 [00:00<?, ?it/s]"
      ]
     },
     "metadata": {},
     "output_type": "display_data"
    },
    {
     "data": {
      "application/vnd.jupyter.widget-view+json": {
       "model_id": "bafbc5d9efb348dba996a2e821ac53b5",
       "version_major": 2,
       "version_minor": 0
      },
      "text/plain": [
       "  0%|          | 0/188745 [00:00<?, ?it/s]"
      ]
     },
     "metadata": {},
     "output_type": "display_data"
    },
    {
     "data": {
      "application/vnd.jupyter.widget-view+json": {
       "model_id": "45509d06158d488680029cd09609a88a",
       "version_major": 2,
       "version_minor": 0
      },
      "text/plain": [
       "  0%|          | 0/188744 [00:00<?, ?it/s]"
      ]
     },
     "metadata": {},
     "output_type": "display_data"
    },
    {
     "data": {
      "application/vnd.jupyter.widget-view+json": {
       "model_id": "3d269731a03941aaa78b87f44a396834",
       "version_major": 2,
       "version_minor": 0
      },
      "text/plain": [
       "  0%|          | 0/188743 [00:00<?, ?it/s]"
      ]
     },
     "metadata": {},
     "output_type": "display_data"
    },
    {
     "name": "stdout",
     "output_type": "stream",
     "text": [
      "CPU times: total: 3min 39s\n",
      "Wall time: 9min 25s\n"
     ]
    }
   ],
   "source": [
    "%%time\n",
    "\n",
    "from concurrent.futures import ThreadPoolExecutor\n",
    "\n",
    "def find_missing_and_multiple(startidx, endidx):\n",
    "\n",
    "    missing_cts = []\n",
    "    multiple_cts = []\n",
    "\n",
    "    for c in tqdm(candidates[startidx: endidx]):\n",
    "        filepaths = glob.glob(f'C:/Users/Taeho/Downloads/lung_cancer_project/data/subset*/*/{c.series_uid}.mhd')\n",
    "        if len(filepaths) == 0:\n",
    "            missing_cts.append(c.series_uid)\n",
    "        elif len(filepaths) > 1:\n",
    "            multiple_cts.append(c.series_uid)\n",
    "\n",
    "    return missing_cts, multiple_cts\n",
    "\n",
    "\n",
    "all_missing = []\n",
    "all_multiple = []\n",
    "\n",
    "with ThreadPoolExecutor() as executor:\n",
    "\n",
    "    total = len(candidates)\n",
    "    middle = total // 2\n",
    "    quarter = middle // 2\n",
    "\n",
    "    startidx = [0, quarter, middle, middle + quarter]\n",
    "    endidx = [quarter, middle, middle + quarter, total]\n",
    "\n",
    "    for res in executor.map(find_missing_and_multiple, startidx, endidx):\n",
    "        all_missing += res[0]\n",
    "        all_multiple += res[1]\n",
    "\n",
    "missing_uids = {uid for uid in all_missing}"
   ]
  },
  {
   "cell_type": "code",
   "execution_count": 32,
   "id": "9db578bc-d652-4cc1-a215-30a8b7de127e",
   "metadata": {},
   "outputs": [],
   "source": [
    "# missing data를 txt file로 저장\n",
    "# with open(\"C:/Users/Taeho/Downloads/lung_cancer_project/data/missing.txt\", 'w') as f:\n",
    "#  for uid in missing_uids:\n",
    "#       f.write(uid + '\\n')"
   ]
  },
  {
   "cell_type": "code",
   "execution_count": 14,
   "id": "edeeab66-d8cf-4534-b287-a71aee45d204",
   "metadata": {},
   "outputs": [],
   "source": [
    "# 파일을 읽기 모드로 열고, 각 줄에서 줄바꿈 문자를 제거한 후 세트로 저장합니다.\n",
    "with open(\"C:/Users/Taeho/Downloads/lung_cancer_project/data/missing.txt\", 'r') as f:\n",
    "    missing_uids = {uid.strip() for uid in f}\n"
   ]
  },
  {
   "cell_type": "code",
   "execution_count": 55,
   "id": "da17379a-cc38-4c10-8439-0f0ebc083c54",
   "metadata": {
    "scrolled": true
   },
   "outputs": [
    {
     "data": {
      "text/plain": [
       "0"
      ]
     },
     "execution_count": 55,
     "metadata": {},
     "output_type": "execute_result"
    }
   ],
   "source": [
    "len(missing_uids)"
   ]
  },
  {
   "cell_type": "code",
   "execution_count": 56,
   "id": "fcfda826-d976-4a82-911d-c1e7af952cad",
   "metadata": {},
   "outputs": [
    {
     "name": "stdout",
     "output_type": "stream",
     "text": [
      "All candidates in dataset: 754975\n",
      "Candidates with CT scan  : 754975\n"
     ]
    }
   ],
   "source": [
    "candidates_clean = list(filter(lambda x: x.series_uid not in missing_uids, candidates))\n",
    "\n",
    "print(f'All candidates in dataset: {len(candidates)}')\n",
    "print(f'Candidates with CT scan  : {len(candidates_clean)}')"
   ]
  },
  {
   "cell_type": "code",
   "execution_count": 57,
   "id": "88afb038-0aef-46fe-8271-f818d33b2658",
   "metadata": {},
   "outputs": [
    {
     "data": {
      "text/plain": [
       "CandidateInfoTuple(is_nodule=True, diameter_mm=32.27003025, series_uid='1.3.6.1.4.1.14519.5.2.1.6279.6001.287966244644280690737019247886', center_xyz=(66.58022805, 82.56931698, -110.5421104))"
      ]
     },
     "execution_count": 57,
     "metadata": {},
     "output_type": "execute_result"
    }
   ],
   "source": [
    "candidate = candidates_clean[0]\n",
    "candidate"
   ]
  },
  {
   "cell_type": "code",
   "execution_count": 8,
   "id": "49674649-69cc-45ab-95f5-e09618879052",
   "metadata": {},
   "outputs": [
    {
     "ename": "NameError",
     "evalue": "name 'candidate' is not defined",
     "output_type": "error",
     "traceback": [
      "\u001b[1;31m---------------------------------------------------------------------------\u001b[0m",
      "\u001b[1;31mNameError\u001b[0m                                 Traceback (most recent call last)",
      "Cell \u001b[1;32mIn[8], line 2\u001b[0m\n\u001b[0;32m      1\u001b[0m \u001b[38;5;66;03m# file 찾기\u001b[39;00m\n\u001b[1;32m----> 2\u001b[0m filepaths \u001b[38;5;241m=\u001b[39m glob\u001b[38;5;241m.\u001b[39mglob(\u001b[38;5;124mf\u001b[39m\u001b[38;5;124m'\u001b[39m\u001b[38;5;124mC:/Users/Taeho/Downloads/lung_cancer_project/data/subset0/0/\u001b[39m\u001b[38;5;132;01m{\u001b[39;00m\u001b[43mcandidate\u001b[49m\u001b[38;5;241m.\u001b[39mseries_uid\u001b[38;5;132;01m}\u001b[39;00m\u001b[38;5;124m.mhd\u001b[39m\u001b[38;5;124m'\u001b[39m)\n\u001b[0;32m      4\u001b[0m \u001b[38;5;66;03m# This line is another fail-safe to know when a CT scan doesn't exist\u001b[39;00m\n\u001b[0;32m      5\u001b[0m \u001b[38;5;28;01massert\u001b[39;00m \u001b[38;5;28mlen\u001b[39m(filepaths) \u001b[38;5;241m!=\u001b[39m \u001b[38;5;241m0\u001b[39m, \u001b[38;5;124mf\u001b[39m\u001b[38;5;124m'\u001b[39m\u001b[38;5;124mCT scan with seriesuid \u001b[39m\u001b[38;5;132;01m{\u001b[39;00mcandidate\u001b[38;5;241m.\u001b[39mseries_uid\u001b[38;5;132;01m}\u001b[39;00m\u001b[38;5;124m not found!\u001b[39m\u001b[38;5;124m'\u001b[39m\n",
      "\u001b[1;31mNameError\u001b[0m: name 'candidate' is not defined"
     ]
    }
   ],
   "source": [
    "# file 찾기\n",
    "filepaths = glob.glob(f'C:/Users/Taeho/Downloads/lung_cancer_project/data/subset0/0/{candidate.series_uid}.mhd')\n",
    "\n",
    "# This line is another fail-safe to know when a CT scan doesn't exist\n",
    "assert len(filepaths) != 0, f'CT scan with seriesuid {candidate.series_uid} not found!'"
   ]
  },
  {
   "cell_type": "code",
   "execution_count": 59,
   "id": "f444f042-6a8f-4f55-ab8d-980f12a715a1",
   "metadata": {},
   "outputs": [],
   "source": [
    "# filepaths = glob.glob(\"C:/Users/Taeho/Downloads/lung_cancer_project/data/subset6/subset6/1.3.6.1.4.1.14519.5.2.1.6279.6001.153646219551578201092527860224.mhd\")"
   ]
  },
  {
   "cell_type": "code",
   "execution_count": 60,
   "id": "24ece481-38e3-4eee-aba3-dd4db4199983",
   "metadata": {},
   "outputs": [],
   "source": [
    "mhd_file_path = filepaths[0]"
   ]
  },
  {
   "cell_type": "code",
   "execution_count": 61,
   "id": "6e74e329-0764-4a95-a955-e6c9e01fabea",
   "metadata": {},
   "outputs": [],
   "source": [
    "mhd_file = sitk.ReadImage(mhd_file_path)"
   ]
  },
  {
   "cell_type": "code",
   "execution_count": 62,
   "id": "671f45c4-f2b4-40eb-9983-bab723eefb9f",
   "metadata": {},
   "outputs": [
    {
     "data": {
      "image/png": "[encoded data removed]",
      "text/plain": [
       "<Figure size 640x480 with 1 Axes>"
      ]
     },
     "metadata": {},
     "output_type": "display_data"
    }
   ],
   "source": [
    "import numpy as np\n",
    "import matplotlib.pyplot as plt\n",
    "import SimpleITK as sitk\n",
    "\n",
    "# 이미지 파일 불러오기\n",
    "mhd_file = sitk.ReadImage(mhd_file_path)\n",
    "\n",
    "# SimpleITK 이미지를 NumPy 배열로 변환\n",
    "image_array = sitk.GetArrayFromImage(mhd_file)\n",
    "\n",
    "# 첫 번째 이미지 선택 (다수의 이미지가 있다면 원하는 이미지를 선택해야 함)\n",
    "image = image_array[0]\n",
    "\n",
    "# 이미지 플로팅\n",
    "plt.imshow(image, cmap='gray')\n",
    "plt.axis('off')  # 축 제거\n",
    "plt.show()"
   ]
  },
  {
   "cell_type": "code",
   "execution_count": 63,
   "id": "bf06bfff-2d3d-4ff8-bc96-f1df3e00ff4d",
   "metadata": {},
   "outputs": [],
   "source": [
    "ct_scan = np.array(sitk.GetArrayFromImage(mhd_file), dtype=np.float32)"
   ]
  },
  {
   "cell_type": "code",
   "execution_count": 64,
   "id": "38e89237-94f6-4be2-89f5-192d22563693",
   "metadata": {},
   "outputs": [
    {
     "data": {
      "text/plain": [
       "(123, 512, 512)"
      ]
     },
     "execution_count": 64,
     "metadata": {},
     "output_type": "execute_result"
    }
   ],
   "source": [
    "ct_scan.shape"
   ]
  },
  {
   "cell_type": "code",
   "execution_count": 65,
   "id": "0fca495b-fb64-400e-b8d9-9f0c4649b11c",
   "metadata": {
    "scrolled": true
   },
   "outputs": [
    {
     "data": {
      "text/plain": [
       "array([[[-1000., -1000., -1000., ..., -1000., -1000., -1000.],\n",
       "        [-1000., -1000., -1000., ..., -1000., -1000., -1000.],\n",
       "        [-1000., -1000., -1000., ..., -1000., -1000., -1000.],\n",
       "        ...,\n",
       "        [-1000., -1000., -1000., ..., -1000., -1000., -1000.],\n",
       "        [-1000., -1000., -1000., ..., -1000., -1000., -1000.],\n",
       "        [-1000., -1000., -1000., ..., -1000., -1000., -1000.]],\n",
       "\n",
       "       [[-1000., -1000., -1000., ..., -1000., -1000., -1000.],\n",
       "        [-1000., -1000., -1000., ..., -1000., -1000., -1000.],\n",
       "        [-1000., -1000., -1000., ..., -1000., -1000., -1000.],\n",
       "        ...,\n",
       "        [-1000., -1000., -1000., ..., -1000., -1000., -1000.],\n",
       "        [-1000., -1000., -1000., ..., -1000., -1000., -1000.],\n",
       "        [-1000., -1000., -1000., ..., -1000., -1000., -1000.]],\n",
       "\n",
       "       [[-1000., -1000., -1000., ..., -1000., -1000., -1000.],\n",
       "        [-1000., -1000., -1000., ..., -1000., -1000., -1000.],\n",
       "        [-1000., -1000., -1000., ..., -1000., -1000., -1000.],\n",
       "        ...,\n",
       "        [-1000., -1000., -1000., ..., -1000., -1000., -1000.],\n",
       "        [-1000., -1000., -1000., ..., -1000., -1000., -1000.],\n",
       "        [-1000., -1000., -1000., ..., -1000., -1000., -1000.]],\n",
       "\n",
       "       ...,\n",
       "\n",
       "       [[-1000., -1000., -1000., ..., -1000., -1000., -1000.],\n",
       "        [-1000., -1000., -1000., ..., -1000., -1000., -1000.],\n",
       "        [-1000., -1000., -1000., ..., -1000., -1000., -1000.],\n",
       "        ...,\n",
       "        [-1000., -1000., -1000., ..., -1000., -1000., -1000.],\n",
       "        [-1000., -1000., -1000., ..., -1000., -1000., -1000.],\n",
       "        [-1000., -1000., -1000., ..., -1000., -1000., -1000.]],\n",
       "\n",
       "       [[-1000., -1000., -1000., ..., -1000., -1000., -1000.],\n",
       "        [-1000., -1000., -1000., ..., -1000., -1000., -1000.],\n",
       "        [-1000., -1000., -1000., ..., -1000., -1000., -1000.],\n",
       "        ...,\n",
       "        [-1000., -1000., -1000., ..., -1000., -1000., -1000.],\n",
       "        [-1000., -1000., -1000., ..., -1000., -1000., -1000.],\n",
       "        [-1000., -1000., -1000., ..., -1000., -1000., -1000.]],\n",
       "\n",
       "       [[-1000., -1000., -1000., ..., -1000., -1000., -1000.],\n",
       "        [-1000., -1000., -1000., ..., -1000., -1000., -1000.],\n",
       "        [-1000., -1000., -1000., ..., -1000., -1000., -1000.],\n",
       "        ...,\n",
       "        [-1000., -1000., -1000., ..., -1000., -1000., -1000.],\n",
       "        [-1000., -1000., -1000., ..., -1000., -1000., -1000.],\n",
       "        [-1000., -1000., -1000., ..., -1000., -1000., -1000.]]],\n",
       "      dtype=float32)"
      ]
     },
     "execution_count": 65,
     "metadata": {},
     "output_type": "execute_result"
    }
   ],
   "source": [
    "# ct파일 HU를 -1000에서 3000을 1000으로 제한\n",
    "ct_scan.clip(-1000, 1000, ct_scan)"
   ]
  },
  {
   "cell_type": "code",
   "execution_count": 66,
   "id": "9cf71bfb-df34-4cde-b3ff-8619b31cd91f",
   "metadata": {},
   "outputs": [],
   "source": [
    "import numpy as np"
   ]
  },
  {
   "cell_type": "code",
   "execution_count": 67,
   "id": "a8875807-8013-45f3-924d-6da48e6e471f",
   "metadata": {},
   "outputs": [
    {
     "data": {
      "text/html": [
       "<div>\n",
       "<style scoped>\n",
       "    .dataframe tbody tr th:only-of-type {\n",
       "        vertical-align: middle;\n",
       "    }\n",
       "\n",
       "    .dataframe tbody tr th {\n",
       "        vertical-align: top;\n",
       "    }\n",
       "\n",
       "    .dataframe thead th {\n",
       "        text-align: right;\n",
       "    }\n",
       "</style>\n",
       "<table border=\"1\" class=\"dataframe\">\n",
       "  <thead>\n",
       "    <tr style=\"text-align: right;\">\n",
       "      <th></th>\n",
       "      <th>seriesuid</th>\n",
       "      <th>coordX</th>\n",
       "      <th>coordY</th>\n",
       "      <th>coordZ</th>\n",
       "      <th>diameter_mm</th>\n",
       "    </tr>\n",
       "  </thead>\n",
       "  <tbody>\n",
       "    <tr>\n",
       "      <th>762</th>\n",
       "      <td>1.3.6.1.4.1.14519.5.2.1.6279.6001.287966244644...</td>\n",
       "      <td>102.237729</td>\n",
       "      <td>65.328430</td>\n",
       "      <td>-240.695556</td>\n",
       "      <td>18.210145</td>\n",
       "    </tr>\n",
       "    <tr>\n",
       "      <th>763</th>\n",
       "      <td>1.3.6.1.4.1.14519.5.2.1.6279.6001.287966244644...</td>\n",
       "      <td>22.536168</td>\n",
       "      <td>34.721450</td>\n",
       "      <td>-117.437600</td>\n",
       "      <td>10.339713</td>\n",
       "    </tr>\n",
       "    <tr>\n",
       "      <th>764</th>\n",
       "      <td>1.3.6.1.4.1.14519.5.2.1.6279.6001.287966244644...</td>\n",
       "      <td>60.189477</td>\n",
       "      <td>-45.046760</td>\n",
       "      <td>-112.642780</td>\n",
       "      <td>8.349225</td>\n",
       "    </tr>\n",
       "    <tr>\n",
       "      <th>765</th>\n",
       "      <td>1.3.6.1.4.1.14519.5.2.1.6279.6001.287966244644...</td>\n",
       "      <td>67.827256</td>\n",
       "      <td>85.379925</td>\n",
       "      <td>-109.746724</td>\n",
       "      <td>32.270030</td>\n",
       "    </tr>\n",
       "    <tr>\n",
       "      <th>766</th>\n",
       "      <td>1.3.6.1.4.1.14519.5.2.1.6279.6001.287966244644...</td>\n",
       "      <td>114.105825</td>\n",
       "      <td>-11.856811</td>\n",
       "      <td>-165.621528</td>\n",
       "      <td>4.915613</td>\n",
       "    </tr>\n",
       "  </tbody>\n",
       "</table>\n",
       "</div>"
      ],
      "text/plain": [
       "                                             seriesuid      coordX     coordY  \\\n",
       "762  1.3.6.1.4.1.14519.5.2.1.6279.6001.287966244644...  102.237729  65.328430   \n",
       "763  1.3.6.1.4.1.14519.5.2.1.6279.6001.287966244644...   22.536168  34.721450   \n",
       "764  1.3.6.1.4.1.14519.5.2.1.6279.6001.287966244644...   60.189477 -45.046760   \n",
       "765  1.3.6.1.4.1.14519.5.2.1.6279.6001.287966244644...   67.827256  85.379925   \n",
       "766  1.3.6.1.4.1.14519.5.2.1.6279.6001.287966244644...  114.105825 -11.856811   \n",
       "\n",
       "         coordZ  diameter_mm  \n",
       "762 -240.695556    18.210145  \n",
       "763 -117.437600    10.339713  \n",
       "764 -112.642780     8.349225  \n",
       "765 -109.746724    32.270030  \n",
       "766 -165.621528     4.915613  "
      ]
     },
     "execution_count": 67,
     "metadata": {},
     "output_type": "execute_result"
    }
   ],
   "source": [
    "df_annotations[df_annotations['seriesuid'] == '1.3.6.1.4.1.14519.5.2.1.6279.6001.287966244644280690737019247886']"
   ]
  },
  {
   "cell_type": "code",
   "execution_count": 68,
   "id": "19f75d21-9e68-4c75-aad9-404a052c83de",
   "metadata": {},
   "outputs": [
    {
     "data": {
      "text/plain": [
       "'C:/Users/Taeho/Downloads/lung_cancer_project/data\\\\subset1\\\\subset1\\\\1.3.6.1.4.1.14519.5.2.1.6279.6001.287966244644280690737019247886.mhd'"
      ]
     },
     "execution_count": 68,
     "metadata": {},
     "output_type": "execute_result"
    }
   ],
   "source": [
    "mhd_file_path"
   ]
  },
  {
   "cell_type": "code",
   "execution_count": 69,
   "id": "ddc138df-80ff-4a62-a486-ba9be1bf7873",
   "metadata": {},
   "outputs": [
    {
     "name": "stdout",
     "output_type": "stream",
     "text": [
      "(-212.199997, -210.0, -338.0)\n"
     ]
    }
   ],
   "source": [
    "origin_xyz = mhd_file.GetOrigin()\n",
    "voxel_size_xyz = mhd_file.GetSpacing()\n",
    "direction_matrix = np.array(mhd_file.GetDirection()).reshape(3, 3)\n",
    "\n",
    "print(origin_xyz)"
   ]
  },
  {
   "cell_type": "code",
   "execution_count": 70,
   "id": "1802fbaf-8c1e-43d9-82f2-ee19ee17f1d8",
   "metadata": {},
   "outputs": [],
   "source": [
    "origin_xyz_np = np.array(origin_xyz)\n",
    "voxel_size_xyz_np = np.array(voxel_size_xyz)"
   ]
  },
  {
   "cell_type": "code",
   "execution_count": 77,
   "id": "430e005c-7d5e-4939-9815-2f9523c6aa45",
   "metadata": {},
   "outputs": [],
   "source": [
    "# Convert the coordinates of the center of the candidate\n",
    "# from the patient coordinate system to column, row, index\n",
    "cri = ((center_xyz - origin_xyz_np) @ np.linalg.inv(direction_matrix)) / voxel_size_xyz_np\n",
    "\n",
    "# Since we'll be using column, row and index values to index into arrays,\n",
    "# we round them to the nearest integer.\n",
    "cri = np.round(cri)\n",
    "\n",
    "# Going forward, we'll need the scan to be in the order index, row, column\n",
    "irc = (int(cri[2]), int(cri[1]), int(cri[0]))"
   ]
  },
  {
   "cell_type": "code",
   "execution_count": 83,
   "id": "41a4cdd7-c4cc-4ed6-84d6-56bfb0c9d311",
   "metadata": {},
   "outputs": [
    {
     "name": "stdout",
     "output_type": "stream",
     "text": [
      "[232. 297.  73.]\n"
     ]
    },
    {
     "data": {
      "text/plain": [
       "(3,)"
      ]
     },
     "execution_count": 83,
     "metadata": {},
     "output_type": "execute_result"
    }
   ],
   "source": [
    "print(cri)\n",
    "cri.shape"
   ]
  },
  {
   "cell_type": "code",
   "execution_count": 81,
   "id": "70b0b331-20c4-46c9-84b8-e328c9a743cd",
   "metadata": {},
   "outputs": [
    {
     "data": {
      "text/plain": [
       "(123, 512, 512)"
      ]
     },
     "execution_count": 81,
     "metadata": {},
     "output_type": "execute_result"
    }
   ],
   "source": [
    "ct_scan.shape"
   ]
  },
  {
   "cell_type": "code",
   "execution_count": 84,
   "id": "c1f87b27-6dc2-4b0e-818e-3658e23d9741",
   "metadata": {},
   "outputs": [],
   "source": [
    "dims_irc = (10, 18, 18)"
   ]
  },
  {
   "cell_type": "code",
   "execution_count": 85,
   "id": "2670affc-31ed-4e67-9b72-64c56096daa3",
   "metadata": {},
   "outputs": [
    {
     "data": {
      "text/plain": [
       "(slice(68, 78, None), slice(288, 306, None), slice(223, 241, None))"
      ]
     },
     "execution_count": 85,
     "metadata": {},
     "output_type": "execute_result"
    }
   ],
   "source": [
    "# We will create three slices - one for each direction - to use to extract\n",
    "# a region of interest from the CT scan\n",
    "slice_list = []\n",
    "\n",
    "for axis, center_val in enumerate(irc):\n",
    "    \n",
    "    # Get start and end index for the dimension so that the\n",
    "    # nodule center is at the center of the 3d array we extract\n",
    "    start_index = int(round(center_val - dims_irc[axis]/2))\n",
    "    end_index = int(start_index + dims_irc[axis])\n",
    "\n",
    "    # Adjust the indexes if the start_index is out of the CT scan array\n",
    "    if start_index < 0:\n",
    "        start_index = 0\n",
    "        end_index = int(dims_irc[axis])\n",
    "    \n",
    "    # Do the same check for the end_index\n",
    "    if end_index > ct_scan.shape[axis]:\n",
    "        end_index = ct_scan.shape[axis]\n",
    "        start_index = int(ct_scan.shape[axis] - dims_irc[axis])\n",
    "        \n",
    "    slice_list.append(slice(start_index, end_index))\n",
    "    \n",
    "tuple(slice_list)"
   ]
  },
  {
   "cell_type": "code",
   "execution_count": 86,
   "id": "a5ceca63-e0c9-48ad-93e9-8492580b7930",
   "metadata": {},
   "outputs": [
    {
     "data": {
      "text/plain": [
       "(10, 18, 18)"
      ]
     },
     "execution_count": 86,
     "metadata": {},
     "output_type": "execute_result"
    }
   ],
   "source": [
    "ct_scan_chunk = ct_scan[tuple(slice_list)]\n",
    "ct_scan_chunk.shape"
   ]
  },
  {
   "cell_type": "code",
   "execution_count": 87,
   "id": "5cc4c339-a7a7-41ed-a32a-e9bd96b175da",
   "metadata": {},
   "outputs": [
    {
     "data": {
      "text/plain": [
       "torch.Size([1, 10, 18, 18])"
      ]
     },
     "execution_count": 87,
     "metadata": {},
     "output_type": "execute_result"
    }
   ],
   "source": [
    "# Create a tensor from the NumPy array of the CT scan chunk\n",
    "ct_scan_chunk_tensor = torch.from_numpy(ct_scan_chunk)\n",
    "\n",
    "# convert it to a tensor of float32\n",
    "ct_scan_chunk_tensor = ct_scan_chunk_tensor.to(torch.float32)\n",
    "    \n",
    "# Add an extra dimension to represent a single channel in the 3d image\n",
    "ct_scan_chunk_tensor = ct_scan_chunk_tensor.unsqueeze(0)\n",
    "\n",
    "ct_scan_chunk_tensor.shape"
   ]
  },
  {
   "cell_type": "code",
   "execution_count": 90,
   "id": "36df908b-266d-4153-a8ee-d8d0501e760c",
   "metadata": {},
   "outputs": [
    {
     "data": {
      "text/plain": [
       "True"
      ]
     },
     "execution_count": 90,
     "metadata": {},
     "output_type": "execute_result"
    }
   ],
   "source": [
    "candidate.is_nodule"
   ]
  },
  {
   "cell_type": "code",
   "execution_count": 99,
   "id": "632c53bf-a3fd-421d-b65e-19a6bb8159cd",
   "metadata": {},
   "outputs": [
    {
     "data": {
      "text/plain": [
       "tensor([0, 1])"
      ]
     },
     "execution_count": 99,
     "metadata": {},
     "output_type": "execute_result"
    }
   ],
   "source": [
    "torch.tensor([\n",
    "    not candidate.is_nodule,\n",
    "    candidate.is_nodule,\n",
    "], dtype=torch.long)"
   ]
  },
  {
   "cell_type": "code",
   "execution_count": 98,
   "id": "a198f6b1-2c2b-4e5e-a823-b63849cfc21b",
   "metadata": {},
   "outputs": [
    {
     "data": {
      "text/plain": [
       "True"
      ]
     },
     "execution_count": 98,
     "metadata": {},
     "output_type": "execute_result"
    }
   ],
   "source": [
    "candidates_clean[0].is_nodule"
   ]
  },
  {
   "cell_type": "code",
   "execution_count": 39,
   "id": "f2fe02d5-94e0-471e-8178-5e22d636bc6b",
   "metadata": {
    "scrolled": true
   },
   "outputs": [],
   "source": [
    "# We need to change the imports and use some other libraries for caching to work\n",
    "# See: https://github.com/deep-learning-with-pytorch/dlwpt-code/issues/27\n",
    "\n",
    "# !pip install diskcache cassandra-driver"
   ]
  },
  {
   "cell_type": "code",
   "execution_count": 37,
   "id": "e362daf6-a5f0-45f8-ac9e-7d10f2a30684",
   "metadata": {},
   "outputs": [],
   "source": [
    "# The code in this cell is from the Deep Learning with PyTorch book's GitHub repository\n",
    "# https://github.com/deep-learning-with-pytorch/dlwpt-code/blob/master/util/disk.py\n",
    "\n",
    "# The imports have slightly been modified to make the code work\n",
    "\n",
    "\n",
    "import gzip\n",
    "\n",
    "from cassandra.cqltypes import BytesType\n",
    "from diskcache import FanoutCache, Disk, core\n",
    "from diskcache.core import io, MODE_BINARY\n",
    "from io import BytesIO\n",
    "\n",
    "class GzipDisk(Disk):\n",
    "    def store(self, value, read, key=None):\n",
    "\n",
    "        # pylint: disable=unidiomatic-typecheck\n",
    "        if type(value) is BytesType:\n",
    "            if read:\n",
    "                value = value.read()\n",
    "                read = False\n",
    "\n",
    "            str_io = BytesIO()\n",
    "            gz_file = gzip.GzipFile(mode='wb', compresslevel=1, fileobj=str_io)\n",
    "\n",
    "            for offset in range(0, len(value), 2**30):\n",
    "                gz_file.write(value[offset:offset+2**30])\n",
    "            gz_file.close()\n",
    "\n",
    "            value = str_io.getvalue()\n",
    "\n",
    "        return super(GzipDisk, self).store(value, read)\n",
    "\n",
    "\n",
    "    def fetch(self, mode, filename, value, read):\n",
    "\n",
    "        value = super(GzipDisk, self).fetch(mode, filename, value, read)\n",
    "\n",
    "        if mode == MODE_BINARY:\n",
    "            str_io = BytesIO(value)\n",
    "            gz_file = gzip.GzipFile(mode='rb', fileobj=str_io)\n",
    "            read_csio = BytesIO()\n",
    "\n",
    "            while True:\n",
    "                uncompressed_data = gz_file.read(2**30)\n",
    "                if uncompressed_data:\n",
    "                    read_csio.write(uncompressed_data)\n",
    "                else:\n",
    "                    break\n",
    "\n",
    "            value = read_csio.getvalue()\n",
    "\n",
    "        return value\n",
    "\n",
    "def getCache(scope_str):\n",
    "    return FanoutCache('data-unversioned/cache/' + scope_str,\n",
    "                       disk=GzipDisk,\n",
    "                       shards=64,\n",
    "                       timeout=1,\n",
    "                       size_limit=3e11,\n",
    "                       )\n",
    "\n",
    "raw_cache = getCache('ct_scan_raw')\n",
    "\n",
    "@raw_cache.memoize(typed=True)\n",
    "def getCtScanChunk(series_uid, center_xyz, dims_irc):\n",
    "\n",
    "        filepaths = glob.glob(f'C:/Users/Taeho/Downloads/lung_cancer_project/data/subset*/*/{candidate.series_uid}.mhd')\n",
    "        # filepaths = glob.glob('C:/Users/Taeho/Downloads/lung_cancer_project/data/subset0/subset0/*.mhd')\n",
    "\n",
    "\n",
    "        assert len(filepaths) != 0, f'CT scan with seriesuid {series_uid} not found!'\n",
    "        mhd_file_path = filepaths[0]\n",
    "        \n",
    "        mhd_file = sitk.ReadImage(mhd_file_path)\n",
    "        ct_scan = np.array(sitk.GetArrayFromImage(mhd_file), dtype=np.float32)\n",
    "        ct_scan.clip(-1000, 1000, ct_scan)\n",
    "        \n",
    "        origin_xyz = mhd_file.GetOrigin()\n",
    "        voxel_size_xyz = mhd_file.GetSpacing()\n",
    "        direction_matrix = np.array(mhd_file.GetDirection()).reshape(3, 3)\n",
    "        \n",
    "        origin_xyz_np = np.array(origin_xyz)\n",
    "        voxel_size_xyz_np = np.array(voxel_size_xyz)\n",
    "        \n",
    "        cri = ((center_xyz - origin_xyz_np) @ np.linalg.inv(direction_matrix)) / voxel_size_xyz_np\n",
    "        cri = np.round(cri)\n",
    "        irc = (int(cri[2]), int(cri[1]), int(cri[0]))\n",
    "        \n",
    "        slice_list = []\n",
    "        for axis, center_val in enumerate(irc):\n",
    "            \n",
    "            start_index = int(round(center_val - dims_irc[axis]/2))\n",
    "            end_index = int(start_index + dims_irc[axis])\n",
    "            \n",
    "            if start_index < 0:\n",
    "                start_index = 0\n",
    "                end_index = int(dims_irc[axis])\n",
    "                \n",
    "            if end_index > ct_scan.shape[axis]:\n",
    "                end_index = ct_scan.shape[axis]\n",
    "                start_index = int(ct_scan.shape[axis] - dims_irc[axis])\n",
    "\n",
    "            slice_list.append(slice(start_index, end_index))\n",
    "            \n",
    "        ct_scan_chunk = ct_scan[tuple(slice_list)]\n",
    "        \n",
    "        return ct_scan_chunk"
   ]
  },
  {
   "cell_type": "code",
   "execution_count": 40,
   "id": "467773b1-8769-4cd3-9258-a1f842247509",
   "metadata": {},
   "outputs": [],
   "source": [
    "class LunaDataset(Dataset):\n",
    "    \n",
    "    def __init__(self, is_validation_set=False, validation_stride=0):\n",
    "        '''Create a PyTorch dataset for the CT scans\n",
    "        \n",
    "        If `is_validation_set` is `True` then every `validation_stride` item is kept.\n",
    "        Otherwise, every `validation_stride` item is deleted\n",
    "        '''\n",
    "        \n",
    "        # Make a copy of all the candidates.\n",
    "        # Pick every 350th candidate so that we have about 1k candidates in the dataset\n",
    "        # It takes agonizingly long to load more data!\n",
    "        self.candidates = copy.copy(candidates_clean[::350])\n",
    "        \n",
    "        # If this is the validation set, keep every `validation_stride` item\n",
    "        if is_validation_set:\n",
    "            self.candidates = self.candidates[::validation_stride]\n",
    "        \n",
    "        # If this is the training set, delete every `validation_stride` item\n",
    "        else:\n",
    "            del self.candidates[::validation_stride]\n",
    "            \n",
    "    def __len__(self):\n",
    "        '''Returns the number of items in the dataset'''\n",
    "        return len(self.candidates)\n",
    "    \n",
    "    def __getitem__(self, i):\n",
    "        '''Get the `i`the item in the dataset'''\n",
    "        \n",
    "        # Get the `i`th candidate\n",
    "        candidate = self.candidates[i]\n",
    "        \n",
    "        # We want to resize each CT scan to the following dimensions\n",
    "        dims_irc = (10, 18, 18)\n",
    "        \n",
    "        # Use the utility function to fetch the CT scan\n",
    "        ct_scan_np = getCtScanChunk(candidate.series_uid, candidate.center_xyz, dims_irc)\n",
    "        \n",
    "        # Convert the CT scan to a tensor\n",
    "        ct_scan_tensor = torch.from_numpy(ct_scan_np).to(torch.float32).unsqueeze(0)\n",
    "        \n",
    "        # Convert the target to a tensor\n",
    "        label_tensor = torch.tensor([\n",
    "            not candidate.is_nodule,\n",
    "            candidate.is_nodule\n",
    "        ], dtype=torch.long)\n",
    "        \n",
    "        return ct_scan_tensor, label_tensor"
   ]
  },
  {
   "cell_type": "code",
   "execution_count": 41,
   "id": "28e88c8c-25f9-4d0b-89dd-b493f718e009",
   "metadata": {},
   "outputs": [],
   "source": [
    "VALIDATION_STRIDE=10\n",
    "BS=16\n",
    "\n",
    "train_ds = LunaDataset(is_validation_set=False, validation_stride=VALIDATION_STRIDE)\n",
    "val_ds = LunaDataset(is_validation_set=True, validation_stride=VALIDATION_STRIDE)\n",
    "\n",
    "train_dl = DataLoader(train_ds, batch_size=BS, num_workers=0)\n",
    "val_dl = DataLoader(val_ds, batch_size=BS, num_workers=0)"
   ]
  },
  {
   "cell_type": "code",
   "execution_count": 42,
   "id": "246aa0aa-dca8-4ff6-835f-48ef3884fca1",
   "metadata": {},
   "outputs": [],
   "source": [
    "def train_loop(model, dataloader, criterion, optimizer, ds_size):\n",
    "    '''Train the model for one epoch'''\n",
    "    \n",
    "    # Put the model in training mode to activate dropout\n",
    "    model.train()\n",
    "    \n",
    "    # Keep a track of the loss and correct predictions for the epoch\n",
    "    running_loss = 0.0\n",
    "    running_corrects = 0\n",
    "    \n",
    "    # Track the total number of positives and true positives\n",
    "    running_pos = 0\n",
    "    running_pos_correct = 0\n",
    "    \n",
    "    # Track the total number of negatives and true negatives\n",
    "    running_neg = 0\n",
    "    running_neg_correct = 0\n",
    "    \n",
    "    for inputs, labels in tqdm(dataloader):\n",
    "        \n",
    "        inputs = inputs.to(device)\n",
    "        labels = labels.to(device)\n",
    "        \n",
    "        # --- Standard PyTorch training process ---\n",
    "        optimizer.zero_grad()\n",
    "        \n",
    "        outputs = model(inputs)\n",
    "        _, preds = torch.max(outputs, 1)\n",
    "        \n",
    "        loss = criterion(outputs, labels[:,1])\n",
    "        loss.backward()\n",
    "        \n",
    "        optimizer.step()\n",
    "        # -----------------------------------------\n",
    "        \n",
    "        # Calculate loss and correct predictions in batch\n",
    "        running_loss += loss.item() * inputs.size(0)\n",
    "        running_corrects += torch.sum(preds == labels.data[:,1])\n",
    "        \n",
    "        # Calculate positives and true positives in batch\n",
    "        running_pos += labels.data[:,1].sum()\n",
    "        running_pos_correct += ((preds == labels.data[:,1]) & (labels.data[:,1] == 1)).sum()\n",
    "        \n",
    "        # Calculate negatives and true negatives in batch\n",
    "        running_neg += labels.data[:,0].sum()\n",
    "        running_neg_correct += ((preds == labels.data[:,1]) & (labels.data[:,1] == 0)).sum()\n",
    "\n",
    "    epoch_loss = running_loss / ds_size\n",
    "    epoch_acc = running_corrects.double() / ds_size\n",
    "    \n",
    "    return epoch_loss, epoch_acc, (running_pos_correct, running_pos), (running_neg_correct, running_neg)\n",
    "    \n",
    "    \n",
    "\n",
    "def eval_loop(model, dataloader, criterion, ds_size):\n",
    "    '''Evaluate the model performance for one epoch'''\n",
    "\n",
    "    # Put the model in evaluation mode to deactivate dropout\n",
    "    model.eval()\n",
    "\n",
    "    # Keep track of loss, predictions, and other numbers we are interested in\n",
    "    # just like in the training loop\n",
    "    running_loss = 0.0\n",
    "    running_corrects = 0\n",
    "    \n",
    "    running_pos = 0\n",
    "    running_pos_correct = 0\n",
    "    running_neg = 0\n",
    "    running_neg_correct = 0\n",
    "    \n",
    "    # Don't calculate gradients\n",
    "    with torch.no_grad():\n",
    "    \n",
    "        for inputs, labels in tqdm(dataloader):\n",
    "            inputs = inputs.to(device)\n",
    "            labels = labels.to(device)\n",
    "        \n",
    "            outputs = model(inputs)\n",
    "            _, preds = torch.max(outputs, 1)\n",
    "            loss = criterion(outputs, labels[:,1])\n",
    "        \n",
    "            running_loss += loss.item() * inputs.size(0)\n",
    "            running_corrects += torch.sum(preds == labels.data[:,1])\n",
    "            \n",
    "            running_pos += labels.data[:,1].sum()\n",
    "            running_pos_correct += ((preds == labels.data[:,1]) & (labels.data[:,1] == 1)).sum()\n",
    "\n",
    "            running_neg += labels.data[:,0].sum()\n",
    "            running_neg_correct += ((preds == labels.data[:,1]) & (labels.data[:,1] == 0)).sum()\n",
    "        \n",
    "    epoch_loss = running_loss / ds_size\n",
    "    epoch_acc = running_corrects.double() / ds_size\n",
    "    \n",
    "    return epoch_loss, epoch_acc, (running_pos_correct, running_pos), (running_neg_correct, running_neg)"
   ]
  },
  {
   "cell_type": "code",
   "execution_count": 43,
   "id": "6de9dabc-5bf3-48b5-8747-6dc4b84149b1",
   "metadata": {},
   "outputs": [],
   "source": [
    "class LunaModel(nn.Module):\n",
    "    \n",
    "    def __init__(self):\n",
    "        \n",
    "        super().__init__()\n",
    "        \n",
    "        self.conv1 = nn.Conv3d(1, 32, kernel_size=3, padding=1, bias=True)\n",
    "        self.relu1 = nn.ReLU()\n",
    "        self.maxpool1 = nn.MaxPool3d(2)\n",
    "        \n",
    "        self.conv2 = nn.Conv3d(32, 64, kernel_size=3, padding=1, bias=True)\n",
    "        self.relu2 = nn.ReLU()\n",
    "        self.maxpool2 = nn.MaxPool3d(2)\n",
    "        \n",
    "        self.flatten = nn.Flatten()\n",
    "        \n",
    "        self.fc1 = nn.Linear(2048, 1024)\n",
    "        self.relu3 = nn.ReLU()\n",
    "        \n",
    "        self.dropout = nn.Dropout(0.2)\n",
    "        \n",
    "        self.fc2 = nn.Linear(1024, 2)\n",
    "    \n",
    "    def forward(self, X):\n",
    "        \n",
    "        # Dimensions of X => [BS, 1, 10, 18, 18]\n",
    "        \n",
    "        X = self.maxpool1(self.relu1(self.conv1(X)))\n",
    "        X = self.maxpool2(self.relu2(self.conv2(X)))\n",
    "        \n",
    "        X = self.flatten(X)\n",
    "\n",
    "        X = self.relu3(self.fc1(X))\n",
    "        X = self.dropout(X)\n",
    "        \n",
    "        return self.fc2(X)"
   ]
  },
  {
   "cell_type": "code",
   "execution_count": 44,
   "id": "3447bcb1-ace7-4b09-b1d5-9c99ad9cef40",
   "metadata": {},
   "outputs": [],
   "source": [
    "# Create an instance of the model\n",
    "model = LunaModel()\n",
    "\n",
    "# Use the GPU if it is available\n",
    "device = torch.device(\"cuda:0\" if torch.cuda.is_available() else \"cpu\")\n",
    "model = model.to(device)\n",
    "\n",
    "# Use the cross-entropy loss function\n",
    "criterion = nn.CrossEntropyLoss()\n",
    "\n",
    "# Use the AdamW optimizer\n",
    "optimizer = optim.AdamW(model.parameters(), weight_decay=0.1)"
   ]
  },
  {
   "cell_type": "code",
   "execution_count": 45,
   "id": "4ab1a47d-643c-4346-ab12-12fe4ffe853a",
   "metadata": {
    "scrolled": true
   },
   "outputs": [
    {
     "data": {
      "application/vnd.jupyter.widget-view+json": {
       "model_id": "f60ef0a4351d4fd1b33dbb75cf42b39e",
       "version_major": 2,
       "version_minor": 0
      },
      "text/plain": [
       "  0%|          | 0/122 [00:00<?, ?it/s]"
      ]
     },
     "metadata": {},
     "output_type": "display_data"
    },
    {
     "data": {
      "application/vnd.jupyter.widget-view+json": {
       "model_id": "b49c6b13bf4f4e6f8bfffbfc317f7f3b",
       "version_major": 2,
       "version_minor": 0
      },
      "text/plain": [
       "  0%|          | 0/14 [00:00<?, ?it/s]"
      ]
     },
     "metadata": {},
     "output_type": "display_data"
    },
    {
     "name": "stdout",
     "output_type": "stream",
     "text": [
      "Epoch: 01 | Epoch Time: 0m 4s\n",
      "\n",
      "\tTrain Loss: 0.247 | Train Acc: 99.38%\n",
      "\tTrain - correct pos: 4/4 | correct neg: 1926/1938\n",
      "\n",
      "\tVal. Loss: 38.148 |  Val. Acc: 99.54%\n",
      "\tVal. - correct pos: 0/1 | correct neg: 215/215\n",
      "\n"
     ]
    },
    {
     "data": {
      "application/vnd.jupyter.widget-view+json": {
       "model_id": "d790072bbaf244b0b643712f95131ca8",
       "version_major": 2,
       "version_minor": 0
      },
      "text/plain": [
       "  0%|          | 0/122 [00:00<?, ?it/s]"
      ]
     },
     "metadata": {},
     "output_type": "display_data"
    },
    {
     "data": {
      "application/vnd.jupyter.widget-view+json": {
       "model_id": "241deefb5caa42db90bfbd4541ce3808",
       "version_major": 2,
       "version_minor": 0
      },
      "text/plain": [
       "  0%|          | 0/14 [00:00<?, ?it/s]"
      ]
     },
     "metadata": {},
     "output_type": "display_data"
    },
    {
     "name": "stdout",
     "output_type": "stream",
     "text": [
      "Epoch: 02 | Epoch Time: 0m 4s\n",
      "\n",
      "\tTrain Loss: 81.074 | Train Acc: 99.12%\n",
      "\tTrain - correct pos: 0/4 | correct neg: 1925/1938\n",
      "\n",
      "\tVal. Loss: 2.359 |  Val. Acc: 99.54%\n",
      "\tVal. - correct pos: 0/1 | correct neg: 215/215\n",
      "\n"
     ]
    },
    {
     "data": {
      "application/vnd.jupyter.widget-view+json": {
       "model_id": "b7598ff8c4b34319b6e6f53c66444a20",
       "version_major": 2,
       "version_minor": 0
      },
      "text/plain": [
       "  0%|          | 0/122 [00:00<?, ?it/s]"
      ]
     },
     "metadata": {},
     "output_type": "display_data"
    },
    {
     "data": {
      "application/vnd.jupyter.widget-view+json": {
       "model_id": "4553f4bc266042549471a6664bf0a6c6",
       "version_major": 2,
       "version_minor": 0
      },
      "text/plain": [
       "  0%|          | 0/14 [00:00<?, ?it/s]"
      ]
     },
     "metadata": {},
     "output_type": "display_data"
    },
    {
     "name": "stdout",
     "output_type": "stream",
     "text": [
      "Epoch: 03 | Epoch Time: 0m 4s\n",
      "\n",
      "\tTrain Loss: 2.025 | Train Acc: 99.38%\n",
      "\tTrain - correct pos: 0/4 | correct neg: 1930/1938\n",
      "\n",
      "\tVal. Loss: 0.103 |  Val. Acc: 99.54%\n",
      "\tVal. - correct pos: 0/1 | correct neg: 215/215\n",
      "\n"
     ]
    },
    {
     "data": {
      "application/vnd.jupyter.widget-view+json": {
       "model_id": "c09dfd771a4b4c04a1192a15323398d1",
       "version_major": 2,
       "version_minor": 0
      },
      "text/plain": [
       "  0%|          | 0/122 [00:00<?, ?it/s]"
      ]
     },
     "metadata": {},
     "output_type": "display_data"
    },
    {
     "data": {
      "application/vnd.jupyter.widget-view+json": {
       "model_id": "2d43e0a190b845eda413a76b1a3b5ae1",
       "version_major": 2,
       "version_minor": 0
      },
      "text/plain": [
       "  0%|          | 0/14 [00:00<?, ?it/s]"
      ]
     },
     "metadata": {},
     "output_type": "display_data"
    },
    {
     "name": "stdout",
     "output_type": "stream",
     "text": [
      "Epoch: 04 | Epoch Time: 0m 4s\n",
      "\n",
      "\tTrain Loss: 0.335 | Train Acc: 99.79%\n",
      "\tTrain - correct pos: 0/4 | correct neg: 1938/1938\n",
      "\n",
      "\tVal. Loss: 1.167 |  Val. Acc: 99.54%\n",
      "\tVal. - correct pos: 0/1 | correct neg: 215/215\n",
      "\n"
     ]
    },
    {
     "data": {
      "application/vnd.jupyter.widget-view+json": {
       "model_id": "13da287115a946d8b3bff0a02206b9c6",
       "version_major": 2,
       "version_minor": 0
      },
      "text/plain": [
       "  0%|          | 0/122 [00:00<?, ?it/s]"
      ]
     },
     "metadata": {},
     "output_type": "display_data"
    },
    {
     "data": {
      "application/vnd.jupyter.widget-view+json": {
       "model_id": "d26082fd10da47108d9e09d2fb12baf1",
       "version_major": 2,
       "version_minor": 0
      },
      "text/plain": [
       "  0%|          | 0/14 [00:00<?, ?it/s]"
      ]
     },
     "metadata": {},
     "output_type": "display_data"
    },
    {
     "name": "stdout",
     "output_type": "stream",
     "text": [
      "Epoch: 05 | Epoch Time: 0m 4s\n",
      "\n",
      "\tTrain Loss: 1.822 | Train Acc: 99.79%\n",
      "\tTrain - correct pos: 0/4 | correct neg: 1938/1938\n",
      "\n",
      "\tVal. Loss: 0.249 |  Val. Acc: 99.54%\n",
      "\tVal. - correct pos: 0/1 | correct neg: 215/215\n",
      "\n"
     ]
    }
   ],
   "source": [
    "EPOCHS = 5\n",
    "\n",
    "for epoch in range(EPOCHS):\n",
    "\n",
    "    epoch_start = time.time()\n",
    "\n",
    "    train_loss, train_acc, train_pos, train_neg = train_loop(\n",
    "        model, train_dl, criterion,\n",
    "        optimizer, len(train_ds)\n",
    "    )\n",
    "\n",
    "    val_loss, val_acc, val_pos, val_neg = eval_loop(\n",
    "        model, val_dl, criterion, len(val_ds)\n",
    "    )\n",
    "\n",
    "    time_elapsed = time.time() - epoch_start\n",
    "    print(f'Epoch: {epoch+1:02} | Epoch Time: {time_elapsed // 60:.0f}m {time_elapsed % 60:.0f}s')\n",
    "    print()\n",
    "    print(f'\\tTrain Loss: {train_loss:.3f} | Train Acc: {train_acc*100:.2f}%')\n",
    "    print(f'\\tTrain - correct pos: {train_pos[0]}/{train_pos[1]} | correct neg: {train_neg[0]}/{train_neg[1]}')\n",
    "    print()\n",
    "    print(f'\\tVal. Loss: {val_loss:.3f} |  Val. Acc: {val_acc*100:.2f}%')\n",
    "    print(f'\\tVal. - correct pos: {val_pos[0]}/{val_pos[1]} | correct neg: {val_neg[0]}/{val_neg[1]}')\n",
    "    print()"
   ]
  },
  {
   "cell_type": "code",
   "execution_count": 101,
   "id": "bc76de8e-c4b1-4b83-bd3d-c1f35ee6d00d",
   "metadata": {},
   "outputs": [],
   "source": [
    "# !pip install --upgrade tqdm\n",
    "# pip install --upgrade ipywidgets\n",
    "# !pip install torchvision\n",
    "# !pip install torchsummary"
   ]
  },
  {
   "cell_type": "code",
   "execution_count": 47,
   "id": "dda1ff00-bf70-4759-a1b5-7f165f229b14",
   "metadata": {},
   "outputs": [],
   "source": [
    "torch.save(model.state_dict(), 'model_v3.pth')"
   ]
  },
  {
   "cell_type": "code",
   "execution_count": 48,
   "id": "f4223972-b741-4070-9a8d-b5d8813fa0ef",
   "metadata": {},
   "outputs": [
    {
     "data": {
      "text/plain": [
       "LunaModel(\n",
       "  (conv1): Conv3d(1, 32, kernel_size=(3, 3, 3), stride=(1, 1, 1), padding=(1, 1, 1))\n",
       "  (relu1): ReLU()\n",
       "  (maxpool1): MaxPool3d(kernel_size=2, stride=2, padding=0, dilation=1, ceil_mode=False)\n",
       "  (conv2): Conv3d(32, 64, kernel_size=(3, 3, 3), stride=(1, 1, 1), padding=(1, 1, 1))\n",
       "  (relu2): ReLU()\n",
       "  (maxpool2): MaxPool3d(kernel_size=2, stride=2, padding=0, dilation=1, ceil_mode=False)\n",
       "  (flatten): Flatten(start_dim=1, end_dim=-1)\n",
       "  (fc1): Linear(in_features=2048, out_features=1024, bias=True)\n",
       "  (relu3): ReLU()\n",
       "  (dropout): Dropout(p=0.2, inplace=False)\n",
       "  (fc2): Linear(in_features=1024, out_features=2, bias=True)\n",
       ")"
      ]
     },
     "execution_count": 48,
     "metadata": {},
     "output_type": "execute_result"
    }
   ],
   "source": [
    "model = LunaModel()  # 모델 인스턴스 생성\n",
    "model.load_state_dict(torch.load(\"C:/Users/Taeho/Downloads/lung_cancer_project/model_v3.pth\"))  # 저장된 모델의 상태를 불러옴\n",
    "model.eval()  # 모델을 평가 모드로 설정 (필요한 경우)"
   ]
  },
  {
   "cell_type": "code",
   "execution_count": 50,
   "id": "a07f27f1-bdab-4c06-9221-4c578ff81ec9",
   "metadata": {},
   "outputs": [],
   "source": [
    "import numpy as np\n",
    "import SimpleITK as sitk\n",
    "\n",
    "# mhd file 전처리\n",
    "class MhdProcessor:\n",
    "    def __init__(self, file_path):\n",
    "        self.file_path = file_path\n",
    "\n",
    "    def read_ct_scan(self):\n",
    "        # .mhd 파일 읽기\n",
    "        return sitk.ReadImage(self.file_path)\n",
    "\n",
    "    def extract_chunk(self, dims_irc):\n",
    "        mhd_file = self.read_ct_scan()\n",
    "        ct_scan = np.array(sitk.GetArrayFromImage(mhd_file), dtype=np.float32)\n",
    "        ct_scan.clip(-1000, 1000, ct_scan)\n",
    "\n",
    "        origin_xyz = mhd_file.GetOrigin()\n",
    "        voxel_size_xyz = mhd_file.GetSpacing()\n",
    "        direction_matrix = np.array(mhd_file.GetDirection()).reshape(3, 3)\n",
    "\n",
    "        origin_xyz_np = np.array(origin_xyz)\n",
    "        voxel_size_xyz_np = np.array(voxel_size_xyz)\n",
    "\n",
    "        center_xyz = np.array(ct_scan.shape) // 2  # 중심 좌표 추출\n",
    "        cri = ((center_xyz - origin_xyz_np) @ np.linalg.inv(direction_matrix)) / voxel_size_xyz_np\n",
    "        cri = np.round(cri)\n",
    "\n",
    "        irc = (int(cri[2]), int(cri[1]), int(cri[0]))\n",
    "\n",
    "        slice_list = []\n",
    "        for axis, center_val in enumerate(irc):\n",
    "            start_index = int(round(center_val - dims_irc[axis] / 2))\n",
    "            end_index = int(start_index + dims_irc[axis])\n",
    "\n",
    "            if start_index < 0:\n",
    "                start_index = 0\n",
    "                end_index = int(dims_irc[axis])\n",
    "\n",
    "            if end_index > ct_scan.shape[axis]:\n",
    "                end_index = ct_scan.shape[axis]\n",
    "                start_index = int(ct_scan.shape[axis] - dims_irc[axis])\n",
    "\n",
    "            slice_list.append(slice(start_index, end_index))\n",
    "            \n",
    "        ct_scan_chunk = ct_scan[tuple(slice_list)]\n",
    "        return ct_scan_chunk"
   ]
  },
  {
   "cell_type": "code",
   "execution_count": 51,
   "id": "70abba16-8c29-448a-a954-7a3341732dbb",
   "metadata": {},
   "outputs": [],
   "source": [
    "file_path = \"C:/Users/Taeho/Downloads/lung_cancer_project/data/sample_nodule_data/754090/1.3.6.1.4.1.14519.5.2.1.6279.6001.997611074084993415992563148335.mhd\""
   ]
  },
  {
   "cell_type": "code",
   "execution_count": 52,
   "id": "a0548538-a897-4db0-97ae-71511de75dfc",
   "metadata": {},
   "outputs": [
    {
     "data": {
      "text/plain": [
       "<__main__.MhdProcessor at 0x23254d98bd0>"
      ]
     },
     "execution_count": 52,
     "metadata": {},
     "output_type": "execute_result"
    }
   ],
   "source": [
    "processor = MhdProcessor(file_path)"
   ]
  },
  {
   "cell_type": "code",
   "execution_count": 54,
   "id": "30b103c1-2ad9-4cc0-a295-6e600aa7d4f6",
   "metadata": {},
   "outputs": [
    {
     "data": {
      "image/png": "[encoded data removed]",
      "text/plain": [
       "<Figure size 640x480 with 1 Axes>"
      ]
     },
     "metadata": {},
     "output_type": "display_data"
    }
   ],
   "source": [
    "dims_irc = [10, 18, 18]\n",
    "ct_scan_chunk = processor.extract_chunk(dims_irc)\n",
    "\n",
    "plt.imshow(ct_scan_chunk[0])\n",
    "plt.show()"
   ]
  },
  {
   "cell_type": "code",
   "execution_count": 66,
   "id": "109b561d-a110-43a4-958d-63ae9e4082cf",
   "metadata": {},
   "outputs": [
    {
     "name": "stdout",
     "output_type": "stream",
     "text": [
      "이 환자는 정상일 가능성이 100.00% 입니다.\n"
     ]
    }
   ],
   "source": [
    "ct_scan_tensor = torch.from_numpy(ct_scan_chunk).to(torch.float32).unsqueeze(0).unsqueeze(0)\n",
    "\n",
    "\n",
    "with torch.no_grad():\n",
    "    output = model(ct_scan_tensor)\n",
    "\n",
    "# 예측 결과 출력\n",
    "probability = torch.softmax(output, dim=1)[:, 1].item()  # 두 번째 클래스의 확률을 가져와서 확률로 변환\n",
    "if probability > 0.5:\n",
    "    print(\"이 환자는 폐암일 가능성이 {:.2f}% 입니다.\".format(probability * 100))\n",
    "else:\n",
    "    print(\"이 환자는 정상일 가능성이 {:.2f}% 입니다.\".format((1 - probability) * 100))\n"
   ]
  },
  {
   "cell_type": "code",
   "execution_count": 65,
   "id": "f1922a2a-d6ce-492c-a8c6-51f62ddae930",
   "metadata": {},
   "outputs": [
    {
     "data": {
      "text/plain": [
       "tensor(0.)"
      ]
     },
     "execution_count": 65,
     "metadata": {},
     "output_type": "execute_result"
    }
   ],
   "source": [
    "torch.sigmoid(output)[0][1]"
   ]
  },
  {
   "cell_type": "code",
   "execution_count": null,
   "id": "679e7ccf-abb5-4c44-b28e-0c412d729fd2",
   "metadata": {},
   "outputs": [],
   "source": []
  },
  {
   "cell_type": "code",
   "execution_count": null,
   "id": "ab0338bc-c908-442d-92b0-6e039024a4e4",
   "metadata": {},
   "outputs": [],
   "source": []
  },
  {
   "cell_type": "code",
   "execution_count": null,
   "id": "02fc7c01-07fc-4157-8077-56b0bf7d2eaa",
   "metadata": {},
   "outputs": [],
   "source": []
  },
  {
   "cell_type": "code",
   "execution_count": null,
   "id": "5ea6e616-d132-48ce-8e9b-3b6a7d811f68",
   "metadata": {},
   "outputs": [],
   "source": []
  },
  {
   "cell_type": "code",
   "execution_count": null,
   "id": "36259f25-6aed-495b-8f0b-15092536bb79",
   "metadata": {},
   "outputs": [],
   "source": []
  },
  {
   "cell_type": "code",
   "execution_count": null,
   "id": "566774d9-7a91-420c-aea2-2b5088dbc79a",
   "metadata": {},
   "outputs": [],
   "source": []
  },
  {
   "cell_type": "code",
   "execution_count": null,
   "id": "e349179f-ab90-43a5-b1cc-599d4c4366d5",
   "metadata": {},
   "outputs": [],
   "source": []
  },
  {
   "cell_type": "code",
   "execution_count": 160,
   "id": "2540deea-5c90-4756-b897-ad8c0be26dd3",
   "metadata": {
    "scrolled": true
   },
   "outputs": [
    {
     "name": "stdout",
     "output_type": "stream",
     "text": [
      "torch.Size([10, 18, 18])\n",
      "<class 'torch.Tensor'>\n",
      "(10, 18, 18)\n",
      "<class 'numpy.ndarray'>\n"
     ]
    }
   ],
   "source": [
    "# .mhd 파일 경로\n",
    "file_path = \"C:/Users/Taeho/Downloads/lung_cancer_project/1.3.6.1.4.1.14519.5.2.1.6279.6001.970264865033574190975654369557.mhd\"\n",
    "mhd_file = sitk.ReadImage(mhd_file_path)\n",
    "ct_scan = np.array(sitk.GetArrayFromImage(mhd_file), dtype=np.float32)\n",
    "ct_scan.clip(-1000, 1000, ct_scan)\n",
    "\n",
    "origin_xyz = mhd_file.GetOrigin()\n",
    "voxel_size_xyz = mhd_file.GetSpacing()\n",
    "direction_matrix = np.array(mhd_file.GetDirection()).reshape(3, 3)\n",
    "\n",
    "origin_xyz_np = np.array(origin_xyz)\n",
    "voxel_size_xyz_np = np.array(voxel_size_xyz)\n",
    "\n",
    "cri = ((center_xyz - origin_xyz_np) @ np.linalg.inv(direction_matrix)) / voxel_size_xyz_np\n",
    "\n",
    "cri = np.round(cri)\n",
    "\n",
    "# Going forward, we'll need the scan to be in the order index, row, column\n",
    "irc = (int(cri[2]), int(cri[1]), int(cri[0]))\n",
    "\n",
    "dims_irc = (10, 18, 18)\n",
    "\n",
    "slice_list = []\n",
    "\n",
    "for axis, center_val in enumerate(irc):\n",
    "\n",
    "    start_index = int(round(center_val - dims_irc[axis]/2))\n",
    "    end_index = int(start_index + dims_irc[axis])\n",
    "\n",
    "    if start_index < 0:\n",
    "        start_index = 0\n",
    "        end_index = int(dims_irc[axis])\n",
    "    \n",
    "    # Do the same check for the end_index\n",
    "    if end_index > ct_scan.shape[axis]:\n",
    "        end_index = ct_scan.shape[axis]\n",
    "        start_index = int(ct_scan.shape[axis] - dims_irc[axis])\n",
    "        \n",
    "    slice_list.append(slice(start_index, end_index))\n",
    "    \n",
    "tuple(slice_list)\n",
    "\n",
    "ct_scan_chunk = ct_scan[tuple(slice_list)]\n",
    "\n",
    "ct_scan_chunk_tensor = torch.from_numpy(ct_scan_chunk)\n",
    "\n",
    "ct_scan_chunk_tensor = ct_scan_chunk_tensor.to(torch.float32)\n",
    "    \n",
    "# ct_scan_chunk_tensor = ct_scan_chunk_tensor.unsqueeze(0)\n",
    "\n",
    "print(ct_scan_chunk_tensor.shape)\n",
    "print(type(ct_scan_chunk_tensor))\n",
    "# candidate.is_nodule\n",
    "\n",
    "ct_scan_np = np.array(ct_scan_chunk_tensor)\n",
    "\n",
    "print(ct_scan_np.shape)\n",
    "print(type(ct_scan_np))"
   ]
  },
  {
   "cell_type": "code",
   "execution_count": 41,
   "id": "21e91211-7055-44b8-bbd3-4a11b5a56c43",
   "metadata": {},
   "outputs": [
    {
     "name": "stdout",
     "output_type": "stream",
     "text": [
      "(10, 18, 18)\n",
      "<class 'numpy.ndarray'>\n"
     ]
    }
   ],
   "source": [
    "import numpy as np\n",
    "import torch\n",
    "import SimpleITK as sitk\n",
    "\n",
    "class MhdProcessor:\n",
    "    def __init__(self, file_path):\n",
    "        self.file_path = file_path\n",
    "\n",
    "    def read_ct_scan(self):\n",
    "        # .mhd 파일 읽기\n",
    "        return sitk.ReadImage(self.file_path)\n",
    "\n",
    "    def extract_chunk(self, dims_irc):\n",
    "        mhd_file = self.read_ct_scan()\n",
    "        ct_scan = np.array(sitk.GetArrayFromImage(mhd_file), dtype=np.float32)\n",
    "        ct_scan.clip(-1000, 1000, ct_scan)\n",
    "\n",
    "        origin_xyz = mhd_file.GetOrigin()\n",
    "        voxel_size_xyz = mhd_file.GetSpacing()\n",
    "        direction_matrix = np.array(mhd_file.GetDirection()).reshape(3, 3)\n",
    "\n",
    "        origin_xyz_np = np.array(origin_xyz)\n",
    "        voxel_size_xyz_np = np.array(voxel_size_xyz)\n",
    "\n",
    "        center_xyz = np.array(ct_scan.shape) // 2  # 중심 좌표 추출\n",
    "        cri = ((center_xyz - origin_xyz_np) @ np.linalg.inv(direction_matrix)) / voxel_size_xyz_np\n",
    "        cri = np.round(cri)\n",
    "\n",
    "        irc = (int(cri[2]), int(cri[1]), int(cri[0]))\n",
    "\n",
    "        slice_list = []\n",
    "        for axis, center_val in enumerate(irc):\n",
    "            start_index = int(round(center_val - dims_irc[axis] / 2))\n",
    "            end_index = int(start_index + dims_irc[axis])\n",
    "\n",
    "            if start_index < 0:\n",
    "                start_index = 0\n",
    "                end_index = int(dims_irc[axis])\n",
    "\n",
    "            if end_index > ct_scan.shape[axis]:\n",
    "                end_index = ct_scan.shape[axis]\n",
    "                start_index = int(ct_scan.shape[axis] - dims_irc[axis])\n",
    "\n",
    "            slice_list.append(slice(start_index, end_index))\n",
    "\n",
    "        ct_scan_chunk = ct_scan[tuple(slice_list)]\n",
    "        return ct_scan_chunk\n",
    "\n",
    "def main():\n",
    "    file_path = \"C:/Users/Taeho/Downloads/lung_cancer_project/1.3.6.1.4.1.14519.5.2.1.6279.6001.970264865033574190975654369557.mhd\"\n",
    "    dims_irc = (10, 18, 18)  # 크기 설정\n",
    "\n",
    "    processor = MhdProcessor(file_path)\n",
    "    ct_scan_chunk = processor.extract_chunk(dims_irc)\n",
    "\n",
    "    print(ct_scan_chunk.shape)\n",
    "    print(type(ct_scan_chunk))\n",
    "\n",
    "\n",
    "if __name__ == \"__main__\":\n",
    "    main()\n"
   ]
  },
  {
   "cell_type": "code",
   "execution_count": 43,
   "id": "a5768681-ecb5-4471-8885-05d4c93c0684",
   "metadata": {},
   "outputs": [
    {
     "name": "stdout",
     "output_type": "stream",
     "text": [
      "(10, 18, 18)\n",
      "<class 'numpy.ndarray'>\n"
     ]
    }
   ],
   "source": [
    "import numpy as np\n",
    "import SimpleITK as sitk\n",
    "\n",
    "class MhdProcessor:\n",
    "    def __init__(self, file_path):\n",
    "        self.file_path = file_path\n",
    "\n",
    "    def read_ct_scan(self):\n",
    "        # .mhd 파일 읽기\n",
    "        return sitk.ReadImage(self.file_path)\n",
    "\n",
    "    def extract_chunk(self, dims_irc):\n",
    "        mhd_file = self.read_ct_scan()\n",
    "        ct_scan = np.array(sitk.GetArrayFromImage(mhd_file), dtype=np.float32)\n",
    "        ct_scan.clip(-1000, 1000, ct_scan)\n",
    "\n",
    "        origin_xyz = mhd_file.GetOrigin()\n",
    "        voxel_size_xyz = mhd_file.GetSpacing()\n",
    "        direction_matrix = np.array(mhd_file.GetDirection()).reshape(3, 3)\n",
    "\n",
    "        origin_xyz_np = np.array(origin_xyz)\n",
    "        voxel_size_xyz_np = np.array(voxel_size_xyz)\n",
    "\n",
    "        center_xyz = np.array(ct_scan.shape) // 2  # 중심 좌표 추출\n",
    "        cri = ((center_xyz - origin_xyz_np) @ np.linalg.inv(direction_matrix)) / voxel_size_xyz_np\n",
    "        cri = np.round(cri)\n",
    "\n",
    "        irc = (int(cri[2]), int(cri[1]), int(cri[0]))\n",
    "\n",
    "        slice_list = []\n",
    "        for axis, center_val in enumerate(irc):\n",
    "            start_index = int(round(center_val - dims_irc[axis] / 2))\n",
    "            end_index = int(start_index + dims_irc[axis])\n",
    "\n",
    "            if start_index < 0:\n",
    "                start_index = 0\n",
    "                end_index = int(dims_irc[axis])\n",
    "\n",
    "            if end_index > ct_scan.shape[axis]:\n",
    "                end_index = ct_scan.shape[axis]\n",
    "                start_index = int(ct_scan.shape[axis] - dims_irc[axis])\n",
    "\n",
    "            slice_list.append(slice(start_index, end_index))\n",
    "\n",
    "        ct_scan_chunk = ct_scan[tuple(slice_list)]\n",
    "        return ct_scan_chunk\n",
    "\n",
    "# 전역 변수 선언\n",
    "global_ct_scan_chunk = None\n",
    "\n",
    "def main():\n",
    "    global global_ct_scan_chunk  # 전역 변수 사용 선언\n",
    "    file_path = \"C:/Users/Taeho/Downloads/lung_cancer_project/1.3.6.1.4.1.14519.5.2.1.6279.6001.970264865033574190975654369557.mhd\"\n",
    "    dims_irc = (10, 18, 18)  # 크기 설정\n",
    "\n",
    "    processor = MhdProcessor(file_path)\n",
    "    global_ct_scan_chunk = processor.extract_chunk(dims_irc)  # 전역 변수에 데이터 할당\n",
    "\n",
    "    print(global_ct_scan_chunk.shape)\n",
    "    print(type(global_ct_scan_chunk))\n",
    "\n",
    "\n",
    "if __name__ == \"__main__\":\n",
    "    main()\n"
   ]
  },
  {
   "cell_type": "code",
   "execution_count": 46,
   "id": "96f308c3-5f85-4076-b812-0693a5bb9263",
   "metadata": {
    "scrolled": true
   },
   "outputs": [
    {
     "name": "stdout",
     "output_type": "stream",
     "text": [
      "(10, 18, 18)\n",
      "<class 'numpy.ndarray'>\n"
     ]
    }
   ],
   "source": [
    "print(global_ct_scan_chunk.shape)\n",
    "print(type(global_ct_scan_chunk))"
   ]
  },
  {
   "cell_type": "code",
   "execution_count": 52,
   "id": "9d56df49-dbc7-42f8-9dcc-f9f323ed2112",
   "metadata": {},
   "outputs": [
    {
     "name": "stdout",
     "output_type": "stream",
     "text": [
      "Predicted: Not a nodule\n",
      "Confidence: 1.0\n"
     ]
    }
   ],
   "source": [
    "# chunk mp를 lunamodel로 classification\n",
    "def evaluate_ct_scan(ct_scan_np):\n",
    "    # Convert the CT scan to a tensor\n",
    "    ct_scan_tensor = torch.from_numpy(ct_scan_np).to(torch.float32).unsqueeze(0).unsqueeze(0)  # Add batch and channel dimensions\n",
    "\n",
    "    # Forward pass through the model\n",
    "    with torch.no_grad():\n",
    "        outputs = model(ct_scan_tensor)\n",
    "\n",
    "    # Get the predicted class\n",
    "    _, predicted = torch.max(outputs.data, 1)\n",
    "    class_index = predicted.item()\n",
    "\n",
    "    # Map the class index to a label\n",
    "    if class_index == 0:\n",
    "        print(\"Predicted: Not a nodule\")\n",
    "        print(\"Confidence:\", torch.sigmoid(outputs[0][0]).item())\n",
    "    elif class_index == 1:\n",
    "        print(\"Predicted: Nodule\")\n",
    "        print(\"Confidence:\", torch.sigmoid(outputs[0][1]).item())\n",
    "\n",
    "# Example usage:\n",
    "# Assuming you have a CT scan numpy array named ct_scan_np\n",
    "# Evaluate the CT scan\n",
    "result = evaluate_ct_scan(global_ct_scan_chunk)"
   ]
  },
  {
   "cell_type": "code",
   "execution_count": 151,
   "id": "3193e480-66fd-4b75-ab87-bd2208353b06",
   "metadata": {
    "scrolled": true
   },
   "outputs": [
    {
     "data": {
      "text/plain": [
       "array([[[-1000., -1000., -1000., ..., -1000., -1000., -1000.],\n",
       "        [-1000., -1000., -1000., ..., -1000., -1000., -1000.],\n",
       "        [-1000., -1000., -1000., ..., -1000., -1000., -1000.],\n",
       "        ...,\n",
       "        [-1000., -1000., -1000., ..., -1000.,  -997.,  -998.],\n",
       "        [-1000., -1000., -1000., ...,  -999., -1000.,  -995.],\n",
       "        [-1000., -1000., -1000., ...,  -993., -1000., -1000.]],\n",
       "\n",
       "       [[-1000., -1000., -1000., ..., -1000., -1000., -1000.],\n",
       "        [-1000., -1000., -1000., ..., -1000., -1000., -1000.],\n",
       "        [-1000., -1000., -1000., ..., -1000., -1000., -1000.],\n",
       "        ...,\n",
       "        [-1000., -1000., -1000., ...,  -989.,  -991.,  -998.],\n",
       "        [-1000., -1000., -1000., ...,  -996.,  -985., -1000.],\n",
       "        [-1000., -1000., -1000., ..., -1000.,  -999.,  -983.]],\n",
       "\n",
       "       [[-1000., -1000., -1000., ..., -1000., -1000., -1000.],\n",
       "        [-1000., -1000., -1000., ..., -1000., -1000., -1000.],\n",
       "        [-1000., -1000., -1000., ..., -1000., -1000., -1000.],\n",
       "        ...,\n",
       "        [-1000., -1000., -1000., ..., -1000., -1000., -1000.],\n",
       "        [-1000., -1000., -1000., ...,  -989.,  -992., -1000.],\n",
       "        [-1000., -1000., -1000., ..., -1000.,  -994.,  -997.]],\n",
       "\n",
       "       ...,\n",
       "\n",
       "       [[-1000., -1000., -1000., ..., -1000., -1000., -1000.],\n",
       "        [-1000., -1000., -1000., ..., -1000., -1000., -1000.],\n",
       "        [-1000., -1000., -1000., ..., -1000., -1000., -1000.],\n",
       "        ...,\n",
       "        [-1000., -1000., -1000., ...,  -979., -1000., -1000.],\n",
       "        [-1000., -1000., -1000., ...,  -988.,  -974., -1000.],\n",
       "        [-1000., -1000., -1000., ..., -1000.,  -976.,  -978.]],\n",
       "\n",
       "       [[-1000., -1000., -1000., ..., -1000., -1000., -1000.],\n",
       "        [-1000., -1000., -1000., ..., -1000., -1000., -1000.],\n",
       "        [-1000., -1000., -1000., ..., -1000., -1000., -1000.],\n",
       "        ...,\n",
       "        [-1000., -1000., -1000., ...,  -967.,  -994., -1000.],\n",
       "        [-1000., -1000., -1000., ...,  -979.,  -974., -1000.],\n",
       "        [-1000., -1000., -1000., ..., -1000.,  -976., -1000.]],\n",
       "\n",
       "       [[-1000., -1000., -1000., ..., -1000., -1000., -1000.],\n",
       "        [-1000., -1000., -1000., ..., -1000., -1000., -1000.],\n",
       "        [-1000., -1000., -1000., ..., -1000., -1000., -1000.],\n",
       "        ...,\n",
       "        [-1000., -1000., -1000., ...,  -982.,  -995., -1000.],\n",
       "        [-1000., -1000., -1000., ..., -1000., -1000.,  -989.],\n",
       "        [-1000., -1000., -1000., ..., -1000., -1000., -1000.]]],\n",
       "      dtype=float32)"
      ]
     },
     "execution_count": 151,
     "metadata": {},
     "output_type": "execute_result"
    }
   ],
   "source": [
    "ct_scan_chunk\n",
    "image_array = np.array(ct_scan_chunk_tensor)\n",
    "image_array5"
   ]
  },
  {
   "cell_type": "code",
   "execution_count": 152,
   "id": "962c2c5c-ed8f-4b16-8911-35d45cb43272",
   "metadata": {},
   "outputs": [
    {
     "data": {
      "image/png": "[encoded data removed]",
      "text/plain": [
       "<Figure size 640x480 with 1 Axes>"
      ]
     },
     "metadata": {},
     "output_type": "display_data"
    }
   ],
   "source": [
    "import numpy as np\n",
    "import matplotlib.pyplot as plt\n",
    "import SimpleITK as sitk\n",
    "\n",
    "image = image_array[0]\n",
    "\n",
    "# 이미지 플로팅\n",
    "plt.imshow(image, cmap='gray')\n",
    "plt.axis('off')  # 축 제거\n",
    "plt.show()"
   ]
  },
  {
   "cell_type": "code",
   "execution_count": 162,
   "id": "3160c1b0-045e-44a6-8cc2-d20544ccedf6",
   "metadata": {},
   "outputs": [],
   "source": [
    "image_array = sitk.GetArrayFromImage(mhd_file)"
   ]
  },
  {
   "cell_type": "code",
   "execution_count": 165,
   "id": "42d01261-c630-4a9a-8ff4-780f10d72b6a",
   "metadata": {
    "scrolled": true
   },
   "outputs": [
    {
     "name": "stdout",
     "output_type": "stream",
     "text": [
      "Collecting plotly\n",
      "  Downloading plotly-5.22.0-py3-none-any.whl.metadata (7.1 kB)\n",
      "Collecting tenacity>=6.2.0 (from plotly)\n",
      "  Downloading tenacity-8.3.0-py3-none-any.whl.metadata (1.2 kB)\n",
      "Requirement already satisfied: packaging in c:\\users\\taeho\\anaconda3\\envs\\lung_cancer\\lib\\site-packages (from plotly) (24.0)\n",
      "Downloading plotly-5.22.0-py3-none-any.whl (16.4 MB)\n",
      "   ---------------------------------------- 0.0/16.4 MB ? eta -:--:--\n",
      "   ---------------------------------------- 0.0/16.4 MB 991.0 kB/s eta 0:00:17\n",
      "   - -------------------------------------- 0.4/16.4 MB 5.3 MB/s eta 0:00:04\n",
      "   -- ------------------------------------- 1.0/16.4 MB 7.6 MB/s eta 0:00:03\n",
      "   --- ------------------------------------ 1.5/16.4 MB 8.7 MB/s eta 0:00:02\n",
      "   ----- ---------------------------------- 2.1/16.4 MB 9.4 MB/s eta 0:00:02\n",
      "   ------ --------------------------------- 2.6/16.4 MB 9.6 MB/s eta 0:00:02\n",
      "   ------- -------------------------------- 3.0/16.4 MB 9.7 MB/s eta 0:00:02\n",
      "   -------- ------------------------------- 3.6/16.4 MB 9.9 MB/s eta 0:00:02\n",
      "   ---------- ----------------------------- 4.1/16.4 MB 10.1 MB/s eta 0:00:02\n",
      "   ----------- ---------------------------- 4.7/16.4 MB 10.3 MB/s eta 0:00:02\n",
      "   ------------ --------------------------- 5.2/16.4 MB 10.4 MB/s eta 0:00:02\n",
      "   -------------- ------------------------- 5.8/16.4 MB 10.5 MB/s eta 0:00:02\n",
      "   --------------- ------------------------ 6.3/16.4 MB 10.6 MB/s eta 0:00:01\n",
      "   ---------------- ----------------------- 6.9/16.4 MB 10.7 MB/s eta 0:00:01\n",
      "   ------------------ --------------------- 7.4/16.4 MB 10.8 MB/s eta 0:00:01\n",
      "   ------------------- -------------------- 8.0/16.4 MB 10.8 MB/s eta 0:00:01\n",
      "   -------------------- ------------------- 8.5/16.4 MB 10.9 MB/s eta 0:00:01\n",
      "   ---------------------- ----------------- 9.1/16.4 MB 10.9 MB/s eta 0:00:01\n",
      "   ----------------------- ---------------- 9.6/16.4 MB 11.0 MB/s eta 0:00:01\n",
      "   ------------------------ --------------- 10.2/16.4 MB 11.0 MB/s eta 0:00:01\n",
      "   -------------------------- ------------- 10.7/16.4 MB 11.5 MB/s eta 0:00:01\n",
      "   --------------------------- ------------ 11.3/16.4 MB 11.5 MB/s eta 0:00:01\n",
      "   ---------------------------- ----------- 11.8/16.4 MB 11.5 MB/s eta 0:00:01\n",
      "   ------------------------------ --------- 12.4/16.4 MB 11.5 MB/s eta 0:00:01\n",
      "   ------------------------------- -------- 12.9/16.4 MB 11.9 MB/s eta 0:00:01\n",
      "   -------------------------------- ------- 13.5/16.4 MB 11.9 MB/s eta 0:00:01\n",
      "   ---------------------------------- ----- 14.0/16.4 MB 11.7 MB/s eta 0:00:01\n",
      "   ----------------------------------- ---- 14.5/16.4 MB 11.9 MB/s eta 0:00:01\n",
      "   ------------------------------------ --- 15.1/16.4 MB 11.9 MB/s eta 0:00:01\n",
      "   -------------------------------------- - 15.6/16.4 MB 11.9 MB/s eta 0:00:01\n",
      "   ---------------------------------------  16.1/16.4 MB 11.9 MB/s eta 0:00:01\n",
      "   ---------------------------------------- 16.4/16.4 MB 11.5 MB/s eta 0:00:00\n",
      "Downloading tenacity-8.3.0-py3-none-any.whl (25 kB)\n",
      "Installing collected packages: tenacity, plotly\n",
      "Successfully installed plotly-5.22.0 tenacity-8.3.0\n"
     ]
    }
   ],
   "source": [
    "!pip install plotly"
   ]
  },
  {
   "cell_type": "code",
   "execution_count": 168,
   "id": "c802f18f-0c60-4477-9f00-f63270429db5",
   "metadata": {},
   "outputs": [],
   "source": [
    "import plotly.graph_objs as go\n",
    "import plotly.io as pio\n",
    "\n",
    "# ct_scan_chunk는 numpy 배열로 가정합니다.\n",
    "\n",
    "# Plotly 3D scatter plot을 생성합니다.\n",
    "fig = go.Figure(data=[go.Scatter3d(\n",
    "    x=image_array[:, :, :].nonzero()[0],\n",
    "    y=image_array[:, :, :].nonzero()[1],\n",
    "    z=image_array[:, :, :].nonzero()[2],\n",
    "    mode='markers',\n",
    "    marker=dict(\n",
    "        size=1,\n",
    "        color='blue',                # Marker color can be a single color\n",
    "        opacity=0.8\n",
    "    )\n",
    ")])\n",
    "\n",
    "# 그래프의 레이아웃을 설정합니다.\n",
    "fig.update_layout(\n",
    "    scene=dict(\n",
    "        xaxis=dict(title='X'),\n",
    "        yaxis=dict(title='Y'),\n",
    "        zaxis=dict(title='Z')\n",
    "    )\n",
    ")\n",
    "\n",
    "# 그래프를 표시합니다.\n",
    "pio.show(fig)\n"
   ]
  },
  {
   "cell_type": "code",
   "execution_count": null,
   "id": "de383f38-bdfa-4197-82d8-f799142bc758",
   "metadata": {},
   "outputs": [],
   "source": [
    "np.shape(image_array)"
   ]
  },
  {
   "cell_type": "code",
   "execution_count": null,
   "id": "4e19e382-faa3-4a2d-886a-cc34c877ae5f",
   "metadata": {},
   "outputs": [],
   "source": [
    "import numpy as np\n",
    "import matplotlib.pyplot as plt\n",
    "import SimpleITK as sitk\n",
    "\n",
    "# 이미지 파일 불러오기\n",
    "mhd_file = sitk.ReadImage(file_path)\n",
    "\n",
    "# SimpleITK 이미지를 NumPy 배열로 변환\n",
    "image_array = sitk.GetArrayFromImage(mhd_file)\n",
    "\n",
    "# 첫 번째 이미지 선택 (다수의 이미지가 있다면 원하는 이미지를 선택해야 함)\n",
    "image = image_array[0]\n",
    "\n",
    "# 이미지 플로팅\n",
    "plt.imshow(image, cmap='gray')\n",
    "plt.axis('off')  # 축 제거\n",
    "plt.show()"
   ]
  },
  {
   "cell_type": "code",
   "execution_count": null,
   "id": "680665be-448e-4cbf-96bf-13a4c9bcede1",
   "metadata": {},
   "outputs": [],
   "source": []
  },
  {
   "cell_type": "code",
   "execution_count": null,
   "id": "384b6bb3-5505-401a-841f-3924d7d8a9ef",
   "metadata": {},
   "outputs": [],
   "source": []
  },
  {
   "cell_type": "code",
   "execution_count": null,
   "id": "f8bc74fb-37e6-4e74-a9b4-70c2e65ed793",
   "metadata": {},
   "outputs": [],
   "source": []
  },
  {
   "cell_type": "code",
   "execution_count": null,
   "id": "c5313603-9f9c-4b62-a3a6-08ec188bc3e0",
   "metadata": {},
   "outputs": [],
   "source": []
  }
 ],
 "metadata": {
  "kernelspec": {
   "display_name": "lung_cancer",
   "language": "python",
   "name": "lung_cancer"
  },
  "language_info": {
   "codemirror_mode": {
    "name": "ipython",
    "version": 3
   },
   "file_extension": ".py",
   "mimetype": "text/x-python",
   "name": "python",
   "nbconvert_exporter": "python",
   "pygments_lexer": "ipython3",
   "version": "3.11.7"
  }
 },
 "nbformat": 4,
 "nbformat_minor": 5
}
